{
 "cells": [
  {
   "cell_type": "code",
   "execution_count": 1,
   "metadata": {},
   "outputs": [
    {
     "name": "stderr",
     "output_type": "stream",
     "text": [
      "e:\\Anaconda\\envs\\maze\\lib\\site-packages\\tqdm\\auto.py:21: TqdmWarning: IProgress not found. Please update jupyter and ipywidgets. See https://ipywidgets.readthedocs.io/en/stable/user_install.html\n",
      "  from .autonotebook import tqdm as notebook_tqdm\n"
     ]
    },
    {
     "name": "stdout",
     "output_type": "stream",
     "text": [
      "Using device: cuda\n",
      "Using device: cuda\n",
      "Using device: cuda\n",
      "        E:\\Data\\FinalResults\\0349 - Simulated Coordination is already existed!\n"
     ]
    },
    {
     "name": "stderr",
     "output_type": "stream",
     "text": [
      "100%|██████████| 6/6 [00:00<00:00,  6.64it/s]\n"
     ]
    }
   ],
   "source": [
    "from mylib.statistic_test import *\n",
    "from scipy.stats import nbinom, gamma, poisson\n",
    "from mylib.model import ContinuousHiddenStateModel\n",
    "code_id = '0349 - Simulated Coordination'\n",
    "loc = join(figpath, code_id)\n",
    "mkdir(loc)\n",
    "\n",
    "with open(r\"E:\\Data\\FinalResults\\0346 - GLM for all sessions\\10227_MA_iter1.pkl\", 'rb') as handle:\n",
    "    models, _ = pickle.load(handle)\n",
    "    \n",
    "model: ContinuousHiddenStateModel = models[-4]\n",
    "\n",
    "class GammaPoissonModel:\n",
    "    def __init__(self, n_neuron = 500, alpha = 5.3, beta = 9.4) -> None:\n",
    "        self.n_neuron = n_neuron\n",
    "        self.a = alpha\n",
    "        self.b = beta\n",
    "        \n",
    "        self.propensity = gamma.rvs(self.a, scale=1/self.b, size=self.n_neuron)\n",
    "        self.field_num = self.generate_field_num()\n",
    "            \n",
    "    def get_field_num_sum(self):\n",
    "        return int(np.sum(self.field_num))\n",
    "    \n",
    "    def generate_field_num(self):\n",
    "        field_num = np.zeros(self.n_neuron)\n",
    "        for n in range(self.n_neuron):\n",
    "            field_num[n] = poisson.rvs(self.propensity[n] * 9)\n",
    "        return field_num.astype(np.int64)\n",
    "        \n",
    "    @staticmethod\n",
    "    def get_field_num(n_neuron = 500, alpha = 5.3, beta = 9.4) -> 'GammaPoissonModel':\n",
    "        model = GammaPoissonModel(n_neuron, alpha, beta)\n",
    "        return model\n",
    "\n",
    "class SFERCorrection:\n",
    "    def __init__(\n",
    "        self, \n",
    "        sfer_model: ContinuousHiddenStateModel, \n",
    "        n_neuron = 500, \n",
    "        n_day = 26,\n",
    "        is_propensity = True\n",
    "    ) -> None:\n",
    "        self.GPM = GammaPoissonModel.get_field_num(n_neuron = n_neuron)\n",
    "        self.field_num = self.GPM.field_num\n",
    "        self.SFERM = sfer_model\n",
    "        self.nn = n_neuron\n",
    "        self.nd = n_day\n",
    "        self.propensity = self.GPM.propensity\n",
    "        self.stability = np.random.normal(0, 0.5, self.nn)\n",
    "    \n",
    "    def simulation_old(self):\n",
    "        print(f\"Total number of fields: {self.GPM.get_field_num_sum()}\")\n",
    "        self.field_reg = self._check_permanent_silent(np.vstack(\n",
    "            self.SFERM.simulate(sequences=[np.arange(self.nd) for i in range(self.GPM.get_field_num_sum())])\n",
    "        ))\n",
    "        self.field_reg = np.vstack(self.field_reg)\n",
    "        self.field_info = np.concatenate([np.repeat(i, self.field_num[i]) for i in range(self.nn)])\n",
    "        \n",
    "        assert self.field_reg.shape[0] == self.field_info.shape[0]\n",
    "        \n",
    "        for i in tqdm(range(1, self.nd)):\n",
    "            # Calculate the expectation for new-field formation\n",
    "            prev_num = np.zeros(self.nn)\n",
    "            for j in range(self.nn):\n",
    "                prev_num[j] = np.sum(self.field_info == j)\n",
    "                \n",
    "            p_res = self.calc_field_formation_gradient(prev_num)\n",
    "            df = np.sum(self.field_reg[:, i-1]) - np.sum(self.field_reg[:, i]) \n",
    "            \n",
    "            if df <= 0:\n",
    "                continue\n",
    "            \n",
    "            #n_neuron = np.random.choice(np.arange(self.nn), p=p_res, size=df, replace=True)\n",
    "            n_neuron = np.random.choice(np.arange(self.nn), size=df)\n",
    "            append_reg = np.zeros((df, self.nd), np.int64)\n",
    "            simulated_seq = self.SFERM.simulate(sequences=[np.arange(self.nd-i) for _ in range(df)])\n",
    "            \n",
    "            if df == 1:\n",
    "                append_reg[:, i:] = self._check_permanent_silent(simulated_seq[0][np.newaxis, :])[0]\n",
    "            else:\n",
    "                simulated_seq = np.vstack(simulated_seq)\n",
    "                append_reg[:, i:] = self._check_permanent_silent(simulated_seq)\n",
    "                \n",
    "            self.field_reg = np.vstack([self.field_reg, append_reg])\n",
    "            self.field_info = np.concatenate([self.field_info, n_neuron])\n",
    "            \n",
    "    def _sigmoid(self, x):\n",
    "        return 1 / (1 + np.exp(-x))\n",
    "        \n",
    "    def simulate(self, types = 1):\n",
    "        field_reg = np.zeros((np.sum(self.field_num), self.nd), np.int64)\n",
    "        field_reg[:, 0] = 1\n",
    "        p = np.zeros_like(field_reg, np.float64)\n",
    "        p[:, 0] = np.repeat(self.SFERM.p0, field_reg.shape[0])\n",
    "        field_info = np.concatenate([np.repeat(i, self.field_num[i]) for i in range(self.nn)])\n",
    "        field_pos = np.random.choice(np.arange(1, 2305), np.sum(self.field_num))\n",
    "        \n",
    "        is_permanent_silent = np.zeros(field_info.shape[0])\n",
    "        for i in tqdm(range(1, self.nd)):\n",
    "            # Corrected P\n",
    "            \n",
    "            p_temp = np.zeros(p.shape[0])\n",
    "            #stability = self.stability[field_info]\n",
    "            #p[:, i-1] = np.clip((1 - stability) * p[:, i-1] + stability, 1e-8, 1 - 1e-8)\n",
    "            \"\"\"\n",
    "            for j in range(field_reg.shape[0]):\n",
    "                idx = np.where(\n",
    "                    (field_info == field_info[j])&\n",
    "                    (is_permanent_silent < 8) &\n",
    "                    (field_reg[:, i-1] == 1)\n",
    "                )[0]\n",
    "                idx = idx[idx != j]\n",
    "                \n",
    "                if idx.shape[0] > 0:\n",
    "                    p_temp[j] = (1 - 0.2) * p[j, i-1] + 0.2 * np.mean(p[idx, i-1])\n",
    "            \n",
    "            p[:, i-1] = p_temp\n",
    "            \n",
    "            # Day-to-day fluctuation\n",
    "            for j in range(self.nn):\n",
    "                idx = np.where(field_info == j)[0]\n",
    "                if idx.shape[0] > 0:\n",
    "                    p[idx, i-1] = np.clip(p[idx, i-1] + np.random.normal(0, 0.5, idx.shape[0]), 1e-8, 1-1e-8)\n",
    "            \"\"\"    \n",
    "            # Generate State\n",
    "            for j in range(p.shape[0]):\n",
    "                if is_permanent_silent[j] < 8:\n",
    "                    field_reg[j, i] = np.random.choice([0, 1], p=[1 - p[j, i-1], p[j, i-1]])\n",
    "            # Predict p\n",
    "            p[:, i] = self.SFERM.predict(field_reg[:, i], p[:, i-1])\n",
    "            \n",
    "            # Update Field State\n",
    "            is_permanent_silent[field_reg[:, i] == 0] += 1\n",
    "            is_permanent_silent[field_reg[:, i] == 1] = 0\n",
    "            \n",
    "            # Append new field\n",
    "            prev_num = np.zeros(self.nn)\n",
    "            for j in range(self.nn):\n",
    "                prev_num[j] = np.sum(field_info == j)\n",
    "                \n",
    "            p_res = self.calc_field_formation_gradient(prev_num)\n",
    "            df = np.sum(field_reg[:, i-1]) - np.sum(field_reg[:, i]) \n",
    "            if df <= 0:\n",
    "                continue\n",
    "            \n",
    "            #n_neuron = np.random.choice(np.arange(self.nn), p=p_res, size=df, replace=True)\n",
    "            n_neuron = np.random.choice(np.arange(self.nn), size=df)\n",
    "            append_reg = np.zeros((df, self.nd), np.int64)\n",
    "            append_reg[:, i] = 1\n",
    "            \n",
    "            if df == 1:\n",
    "                field_reg = np.vstack([field_reg, append_reg[np.newaxis, :]])\n",
    "            else:\n",
    "                field_reg = np.vstack([field_reg, append_reg])\n",
    "            \n",
    "            field_info = np.concatenate([field_info, n_neuron])\n",
    "            field_pos = np.concatenate([field_pos, np.random.choice(np.arange(1, 2305), df)])\n",
    "            is_permanent_silent = np.concatenate([is_permanent_silent, np.zeros(df)])\n",
    "            p = np.vstack([p, np.ones((df, self.nd), np.float64) * self.SFERM.p0])\n",
    "        \n",
    "        self.field_reg = field_reg\n",
    "        self.field_info = field_info\n",
    "        self.field_pos = field_pos\n",
    "        self.predicted_prob = p\n",
    "        return field_reg, field_info, field_pos\n",
    "    \n",
    "    def calc_field_formation_gradient(self, field_num):\n",
    "        propensity = self.GPM.propensity\n",
    "        \n",
    "        p_res = np.zeros(field_num.shape[0])\n",
    "        for i in range(field_num.shape[0]):\n",
    "            p_res[i] = (1 - poisson.cdf(field_num[i], propensity[i] * 9))*propensity[i]\n",
    "        \n",
    "        p_res = p_res / np.sum(p_res)\n",
    "        return p_res\n",
    "        \n",
    "    \n",
    "    def _check_permanent_silent(self, field_reg):\n",
    "        for i in range(field_reg.shape[0]):\n",
    "            I = 0\n",
    "            for j in range(field_reg.shape[1]):\n",
    "                if field_reg[i, j] == 0:\n",
    "                    I += 1\n",
    "                else:\n",
    "                    I = 0\n",
    "                \n",
    "                if I >= 9:\n",
    "                    field_reg[i, j:] = 0\n",
    "        \n",
    "        return field_reg\n",
    "            \n",
    "        \n",
    "if __name__ == '__main__':\n",
    "    n_neuron = 500\n",
    "    alpha = 10\n",
    "    beta = 8.5\n",
    "    sfer_model: ContinuousHiddenStateModel = models[-4]\n",
    "    #field_reg = sfer_model.simulate_across_day(n_step=26, n_fields=2500)[0]\n",
    "    SFER = SFERCorrection(sfer_model, n_neuron, n_day=7)\n",
    "    field_reg, field_info, field_center = SFER.simulate()\n",
    "    #print(SFER.field_reg.shape)\n",
    "    #field_centers = np.random.choice(np.arange(1, 2305), size = SFER.field_reg.shape[0])"
   ]
  },
  {
   "cell_type": "code",
   "execution_count": 18,
   "metadata": {},
   "outputs": [
    {
     "data": {
      "text/plain": [
       "[<matplotlib.lines.Line2D at 0x23312c69db0>]"
      ]
     },
     "execution_count": 18,
     "metadata": {},
     "output_type": "execute_result"
    },
    {
     "data": {
      "image/png": "[encoded data removed]",
      "text/plain": [
       "<Figure size 640x480 with 1 Axes>"
      ]
     },
     "metadata": {},
     "output_type": "display_data"
    }
   ],
   "source": [
    "field_num_day = np.nansum(field_reg, axis = 0)\n",
    "plt.plot(field_num_day)"
   ]
  },
  {
   "cell_type": "markdown",
   "metadata": {},
   "source": [
    "# Pure SFER"
   ]
  },
  {
   "cell_type": "code",
   "execution_count": 2,
   "metadata": {},
   "outputs": [
    {
     "name": "stdout",
     "output_type": "stream",
     "text": [
      "float64\n"
     ]
    },
    {
     "name": "stderr",
     "output_type": "stream",
     "text": [
      "100%|██████████| 11723/11723 [01:25<00:00, 136.60it/s] \n"
     ]
    }
   ],
   "source": [
    "from mylib.field.field_tracker import indept_test_for_evolution_events, compute_joint_probability_matrix\n",
    "\n",
    "D = GetDMatrices(1, 48)\n",
    "thre = 50\n",
    "\n",
    "# Pure SFER\n",
    "field_reg[np.isnan(field_reg)] = 0\n",
    "print(field_reg.dtype)\n",
    "field_info = np.random.choice(np.arange(500), size=field_reg.shape[0], replace=True)\n",
    "field_centers = np.random.choice(np.arange(1, 2305), size = field_reg.shape[0])\n",
    "\n",
    "sib_field_pairs, non_field_pairs = [], []\n",
    "for i in tqdm(range(len(field_info)-1)):\n",
    "    for j in range(i+1, len(field_info)):\n",
    "        if field_info[i] == field_info[j]:\n",
    "            if len(sib_field_pairs) >= 3000000:\n",
    "                continue\n",
    "            if D[int(field_centers[i])-1, int(field_centers[j])-1] <= thre:\n",
    "                continue\n",
    "                    \n",
    "            sib_field_pairs.append([i, j])\n",
    "            sib_field_pairs.append([j, i])\n",
    "        else:\n",
    "            if len(non_field_pairs) >= 200000000:\n",
    "                continue\n",
    "            non_field_pairs.append([i, j])\n",
    "            non_field_pairs.append([j, i])\n",
    "                \n",
    "sib_field_pairs = np.array(sib_field_pairs)\n",
    "non_field_pairs = np.array(non_field_pairs)"
   ]
  },
  {
   "cell_type": "code",
   "execution_count": null,
   "metadata": {},
   "outputs": [
    {
     "name": "stderr",
     "output_type": "stream",
     "text": [
      "100%|██████████| 11723/11723 [03:38<00:00, 53.69it/s] \n"
     ]
    }
   ],
   "source": []
  },
  {
   "cell_type": "code",
   "execution_count": 4,
   "metadata": {},
   "outputs": [
    {
     "name": "stdout",
     "output_type": "stream",
     "text": [
      " init size  (233178, 2) (137164344, 2)\n",
      " after processed size  (25422, 2) (25422, 2)\n",
      " after processed size  (24502, 2) (24502, 2)\n",
      " after processed size  (24366, 2) (24366, 2)\n",
      " after processed size  (23128, 2) (23128, 2)\n",
      " after processed size  (22736, 2) (22736, 2)\n",
      " after processed size  (22730, 2) (22730, 2)\n",
      " after processed size  (22438, 2) (22438, 2)\n",
      " after processed size  (22256, 2) (22256, 2)\n",
      " after processed size  (22184, 2) (22184, 2)\n",
      " after processed size  (21748, 2) (21748, 2)\n",
      " after processed size  (21818, 2) (21818, 2)\n",
      " after processed size  (21928, 2) (21928, 2)\n",
      " after processed size  (21672, 2) (21672, 2)\n",
      " after processed size  (20926, 2) (20926, 2)\n",
      " after processed size  (21644, 2) (21644, 2)\n",
      " after processed size  (21802, 2) (21802, 2)\n",
      " after processed size  (21702, 2) (21702, 2)\n",
      " after processed size  (21382, 2) (21382, 2)\n",
      " after processed size  (21342, 2) (21342, 2)\n",
      " after processed size  (20710, 2) (20710, 2)\n",
      " after processed size  (20676, 2) (20676, 2)\n",
      " after processed size  (20632, 2) (20632, 2)\n",
      " after processed size  (20954, 2) (20954, 2)\n",
      " after processed size  (20476, 2) (20476, 2)\n",
      " after processed size  (20750, 2) (20750, 2)\n",
      " init size  (233178, 2) (137164344, 2)\n",
      " after processed size  (25422, 2) (25422, 2)\n",
      " after processed size  (24502, 2) (24502, 2)\n",
      " after processed size  (24366, 2) (24366, 2)\n",
      " after processed size  (23128, 2) (23128, 2)\n",
      " after processed size  (22736, 2) (22736, 2)\n",
      " after processed size  (22730, 2) (22730, 2)\n",
      " after processed size  (22438, 2) (22438, 2)\n",
      " after processed size  (22256, 2) (22256, 2)\n",
      " after processed size  (22184, 2) (22184, 2)\n",
      " after processed size  (21748, 2) (21748, 2)\n",
      " after processed size  (21818, 2) (21818, 2)\n",
      " after processed size  (21928, 2) (21928, 2)\n",
      " after processed size  (21672, 2) (21672, 2)\n",
      " after processed size  (20926, 2) (20926, 2)\n",
      " after processed size  (21644, 2) (21644, 2)\n",
      " after processed size  (21802, 2) (21802, 2)\n",
      " after processed size  (21702, 2) (21702, 2)\n",
      " after processed size  (21382, 2) (21382, 2)\n",
      " after processed size  (21342, 2) (21342, 2)\n",
      " after processed size  (20710, 2) (20710, 2)\n",
      " after processed size  (20676, 2) (20676, 2)\n",
      " after processed size  (20632, 2) (20632, 2)\n",
      " after processed size  (20954, 2) (20954, 2)\n",
      " after processed size  (20476, 2) (20476, 2)\n",
      " after processed size  (20750, 2) (20750, 2)\n"
     ]
    }
   ],
   "source": [
    "session, mat = compute_joint_probability_matrix(\n",
    "            field_reg.astype(np.float64).T,\n",
    "            field_info,\n",
    "            dim=2,\n",
    "            return_item='sib',\n",
    "            field_centers=field_centers,\n",
    "            sib_field_pairs=sib_field_pairs,\n",
    "            non_field_pairs=non_field_pairs\n",
    ")\n",
    "session, mat2 = compute_joint_probability_matrix(\n",
    "            field_reg.astype(np.float64).T,\n",
    "            field_info,\n",
    "            dim=2,\n",
    "            return_item='non',\n",
    "            field_centers=field_centers,\n",
    "            sib_field_pairs=sib_field_pairs,\n",
    "            non_field_pairs=non_field_pairs\n",
    ")"
   ]
  },
  {
   "cell_type": "code",
   "execution_count": 18,
   "metadata": {},
   "outputs": [
    {
     "name": "stdout",
     "output_type": "stream",
     "text": [
      "(25, 3, 3) (25, 3, 3)\n"
     ]
    },
    {
     "data": {
      "image/png": "[encoded data removed]",
      "text/plain": [
       "<Figure size 400x300 with 1 Axes>"
      ]
     },
     "metadata": {},
     "output_type": "display_data"
    }
   ],
   "source": [
    "print(mat.shape, mat2.shape)\n",
    "t = np.concatenate([np.arange(25)] * 3)\n",
    "x = np.concatenate([np.repeat(1, 25), np.repeat(2, 25), np.repeat(3, 25)])\n",
    "y1 = np.concatenate([mat[:, 0, 0], mat[:, 1, 1], mat[:, 2, 2]])\n",
    "y2 = np.concatenate([mat2[:, 0, 0], mat2[:, 1, 1], mat2[:, 2, 2]])\n",
    "fig = plt.figure(figsize=(4,3))\n",
    "ax = Clear_Axes(plt.axes(), close_spines=['top', 'right'], ifxticks=True, ifyticks=True)\n",
    "ax.axhline(0, color='k', linestyle='--', linewidth=0.15)\n",
    "sns.boxplot(\n",
    "    x = np.concatenate([x, x]),\n",
    "    y = np.concatenate([y1, y2]),\n",
    "    hue = np.concatenate([np.repeat('sib', 75), np.repeat('non', 75)]),\n",
    "    palette=['#4F758D', '#ABD0D1'],\n",
    "    ax = ax,\n",
    "    linecolor='black',\n",
    "    linewidth=0.5,\n",
    "    gap=0.2,\n",
    "    flierprops={'markersize': 0.5},\n",
    ")\n",
    "ax.set_ylim([-0.01, 0.01])\n",
    "plt.savefig(join(loc, \"Pure SFER.png\"), dpi=600)\n",
    "plt.savefig(join(loc, \"Pure SFER.svg\"), dpi=600)"
   ]
  },
  {
   "cell_type": "markdown",
   "metadata": {},
   "source": [
    "# Pure SFER with position coordination"
   ]
  },
  {
   "cell_type": "code",
   "execution_count": null,
   "metadata": {},
   "outputs": [],
   "source": [
    "D = GetDMatrices(1, 48)\n",
    "thre = 0.4\n",
    "sp_field_pairs, nsp_field_pairs = [], []\n",
    "for i in tqdm(range(field_info.shape[0]-1)):\n",
    "    for j in range(i+1, field_info.shape[0]):\n",
    "        cells1 = field_info[i].astype(np.int64)\n",
    "        cells2 = field_info[j].astype(np.int64)\n",
    "            \n",
    "        if D[field_centers[i]-1, field_centers[j]-1] <= 30:\n",
    "            sp_field_pairs.append([i, j])\n",
    "            sp_field_pairs.append([j, i])\n",
    "        else:\n",
    "            if len(non_field_pairs) >= 150000000:\n",
    "                continue\n",
    "            nsp_field_pairs.append([i, j])\n",
    "            nsp_field_pairs.append([j, i])\n",
    "        \n",
    "sp_field_pairs = np.array(sp_field_pairs)\n",
    "nsp_field_pairs = np.array(nsp_field_pairs)"
   ]
  },
  {
   "cell_type": "code",
   "execution_count": 21,
   "metadata": {},
   "outputs": [
    {
     "name": "stdout",
     "output_type": "stream",
     "text": [
      " init size  (12206090, 2) (125234362, 2)\n",
      " after processed size  (1337318, 2) (1337318, 2)\n",
      " after processed size  (1272208, 2) (1272208, 2)\n",
      " after processed size  (1276170, 2) (1276170, 2)\n",
      " after processed size  (1217028, 2) (1217028, 2)\n",
      " after processed size  (1186968, 2) (1186968, 2)\n",
      " after processed size  (1197196, 2) (1197196, 2)\n",
      " after processed size  (1162380, 2) (1162380, 2)\n",
      " after processed size  (1160730, 2) (1160730, 2)\n",
      " after processed size  (1167096, 2) (1167096, 2)\n",
      " after processed size  (1133666, 2) (1133666, 2)\n",
      " after processed size  (1143456, 2) (1143456, 2)\n",
      " after processed size  (1153368, 2) (1153368, 2)\n",
      " after processed size  (1149774, 2) (1149774, 2)\n",
      " after processed size  (1114076, 2) (1114076, 2)\n",
      " after processed size  (1129364, 2) (1129364, 2)\n",
      " after processed size  (1137720, 2) (1137720, 2)\n",
      " after processed size  (1126300, 2) (1126300, 2)\n",
      " after processed size  (1117498, 2) (1117498, 2)\n",
      " after processed size  (1126732, 2) (1126732, 2)\n",
      " after processed size  (1091394, 2) (1091394, 2)\n",
      " after processed size  (1090098, 2) (1090098, 2)\n",
      " after processed size  (1080576, 2) (1080576, 2)\n",
      " after processed size  (1096000, 2) (1096000, 2)\n",
      " after processed size  (1078804, 2) (1078804, 2)\n",
      " after processed size  (1098022, 2) (1098022, 2)\n",
      " init size  (12206090, 2) (125234362, 2)\n",
      " after processed size  (1337318, 2) (1337318, 2)\n",
      " after processed size  (1272208, 2) (1272208, 2)\n",
      " after processed size  (1276170, 2) (1276170, 2)\n",
      " after processed size  (1217028, 2) (1217028, 2)\n",
      " after processed size  (1186968, 2) (1186968, 2)\n",
      " after processed size  (1197196, 2) (1197196, 2)\n",
      " after processed size  (1162380, 2) (1162380, 2)\n",
      " after processed size  (1160730, 2) (1160730, 2)\n",
      " after processed size  (1167096, 2) (1167096, 2)\n",
      " after processed size  (1133666, 2) (1133666, 2)\n",
      " after processed size  (1143456, 2) (1143456, 2)\n",
      " after processed size  (1153368, 2) (1153368, 2)\n",
      " after processed size  (1149774, 2) (1149774, 2)\n",
      " after processed size  (1114076, 2) (1114076, 2)\n",
      " after processed size  (1129364, 2) (1129364, 2)\n",
      " after processed size  (1137720, 2) (1137720, 2)\n",
      " after processed size  (1126300, 2) (1126300, 2)\n",
      " after processed size  (1117498, 2) (1117498, 2)\n",
      " after processed size  (1126732, 2) (1126732, 2)\n",
      " after processed size  (1091394, 2) (1091394, 2)\n",
      " after processed size  (1090098, 2) (1090098, 2)\n",
      " after processed size  (1080576, 2) (1080576, 2)\n",
      " after processed size  (1096000, 2) (1096000, 2)\n",
      " after processed size  (1078804, 2) (1078804, 2)\n",
      " after processed size  (1098022, 2) (1098022, 2)\n",
      "(25, 3, 3) (25, 3, 3)\n"
     ]
    },
    {
     "data": {
      "image/png": "[encoded data removed]",
      "text/plain": [
       "<Figure size 400x300 with 1 Axes>"
      ]
     },
     "metadata": {},
     "output_type": "display_data"
    }
   ],
   "source": [
    "session, mat = compute_joint_probability_matrix(\n",
    "            field_reg.astype(np.float64).T,\n",
    "            field_info,\n",
    "            dim=2,\n",
    "            return_item='sib',\n",
    "            field_centers=field_centers,\n",
    "            sib_field_pairs=sp_field_pairs,\n",
    "            non_field_pairs=nsp_field_pairs\n",
    ")\n",
    "session, mat2 = compute_joint_probability_matrix(\n",
    "            field_reg.astype(np.float64).T,\n",
    "            field_info,\n",
    "            dim=2,\n",
    "            return_item='non',\n",
    "            field_centers=field_centers,\n",
    "            sib_field_pairs=sp_field_pairs,\n",
    "            non_field_pairs=nsp_field_pairs\n",
    ")\n",
    "\n",
    "print(mat.shape, mat2.shape)"
   ]
  },
  {
   "cell_type": "code",
   "execution_count": 22,
   "metadata": {},
   "outputs": [
    {
     "data": {
      "image/png": "[encoded data removed]",
      "text/plain": [
       "<Figure size 400x300 with 1 Axes>"
      ]
     },
     "metadata": {},
     "output_type": "display_data"
    }
   ],
   "source": [
    "t = np.concatenate([np.arange(25)] * 3)\n",
    "x = np.concatenate([np.repeat(1, 25), np.repeat(2, 25), np.repeat(3, 25)])\n",
    "y1 = np.concatenate([mat[:, 0, 0], mat[:, 1, 1], mat[:, 2, 2]])\n",
    "y2 = np.concatenate([mat2[:, 0, 0], mat2[:, 1, 1], mat2[:, 2, 2]])\n",
    "fig = plt.figure(figsize=(4,3))\n",
    "ax = Clear_Axes(plt.axes(), close_spines=['top', 'right'], ifxticks=True, ifyticks=True)\n",
    "ax.axhline(0, color='k', linestyle='--', linewidth=0.15)\n",
    "sns.boxplot(\n",
    "    x = np.concatenate([x, x]),\n",
    "    y = np.concatenate([y1, y2]),\n",
    "    hue = np.concatenate([np.repeat('sib', 75), np.repeat('non', 75)]),\n",
    "    palette=['#4F758D', '#ABD0D1'],\n",
    "    ax = ax,\n",
    "    linecolor='black',\n",
    "    linewidth=0.5,\n",
    "    gap=0.2,\n",
    "    flierprops={'markersize': 0.5},\n",
    ")\n",
    "ax.set_ylim([-0.005, 0.005])\n",
    "plt.savefig(join(loc, \"Pure SFER [position].png\"), dpi=600)\n",
    "plt.savefig(join(loc, \"Pure SFER [position].svg\"), dpi=600)"
   ]
  },
  {
   "cell_type": "markdown",
   "metadata": {},
   "source": [
    "# SFER with correction"
   ]
  },
  {
   "cell_type": "code",
   "execution_count": 2,
   "metadata": {},
   "outputs": [
    {
     "name": "stdout",
     "output_type": "stream",
     "text": [
      "int64\n"
     ]
    },
    {
     "name": "stderr",
     "output_type": "stream",
     "text": [
      "  0%|          | 0/6117 [00:00<?, ?it/s]"
     ]
    },
    {
     "name": "stderr",
     "output_type": "stream",
     "text": [
      "100%|██████████| 6117/6117 [00:25<00:00, 243.28it/s] \n"
     ]
    }
   ],
   "source": [
    "from mylib.field.field_tracker import indept_test_for_evolution_events, compute_joint_probability_matrix\n",
    "\n",
    "D = GetDMatrices(1, 48)\n",
    "thre = 50\n",
    "\n",
    "print(SFER.field_reg.dtype)\n",
    "\n",
    "sib_field_pairs, non_field_pairs = [], []\n",
    "for i in tqdm(range(len(SFER.field_info)-1)):\n",
    "    for j in range(i+1, len(SFER.field_info)):\n",
    "        if SFER.field_info[i] == SFER.field_info[j]:\n",
    "            if len(sib_field_pairs) >= 3000000:\n",
    "                continue\n",
    "            if D[int(SFER.field_pos[i])-1, int(SFER.field_pos[j])-1] <= thre:\n",
    "                continue\n",
    "                    \n",
    "            sib_field_pairs.append([i, j])\n",
    "            sib_field_pairs.append([j, i])\n",
    "        else:\n",
    "            if len(non_field_pairs) >= 200000000:\n",
    "                continue\n",
    "            non_field_pairs.append([i, j])\n",
    "            non_field_pairs.append([j, i])\n",
    "                \n",
    "sib_field_pairs = np.array(sib_field_pairs)\n",
    "non_field_pairs = np.array(non_field_pairs)"
   ]
  },
  {
   "cell_type": "code",
   "execution_count": 9,
   "metadata": {},
   "outputs": [
    {
     "data": {
      "text/plain": [
       "((60800, 2), (35229252, 2))"
      ]
     },
     "execution_count": 9,
     "metadata": {},
     "output_type": "execute_result"
    }
   ],
   "source": [
    "sib_field_pairs.shape, non_field_pairs.shape"
   ]
  },
  {
   "cell_type": "code",
   "execution_count": 3,
   "metadata": {},
   "outputs": [
    {
     "name": "stdout",
     "output_type": "stream",
     "text": [
      " init size  (65582, 2) (37346124, 2)\n",
      " after processed size  (29468, 2) (29468, 2)\n",
      " after processed size  (25872, 2) (25872, 2)\n",
      " after processed size  (24538, 2) (24538, 2)\n",
      " after processed size  (25704, 2) (25704, 2)\n",
      " after processed size  (26098, 2) (26098, 2)\n",
      " after processed size  (26280, 2) (26280, 2)\n",
      " init size  (65582, 2) (37346124, 2)\n",
      " after processed size  (29468, 2) (29468, 2)\n",
      " after processed size  (25872, 2) (25872, 2)\n",
      " after processed size  (24538, 2) (24538, 2)\n",
      " after processed size  (25704, 2) (25704, 2)\n",
      " after processed size  (26098, 2) (26098, 2)\n",
      " after processed size  (26280, 2) (26280, 2)\n"
     ]
    }
   ],
   "source": [
    "session, mat = compute_joint_probability_matrix(\n",
    "            SFER.field_reg.astype(np.float64).T,\n",
    "            SFER.field_info,\n",
    "            dim=2,\n",
    "            return_item='sib',\n",
    "            field_centers=SFER.field_pos,\n",
    "            sib_field_pairs=sib_field_pairs,\n",
    "            non_field_pairs=non_field_pairs\n",
    ")\n",
    "session, mat2 = compute_joint_probability_matrix(\n",
    "            SFER.field_reg.astype(np.float64).T,\n",
    "            SFER.field_info,\n",
    "            dim=2,\n",
    "            return_item='non',\n",
    "            field_centers=SFER.field_pos,\n",
    "            sib_field_pairs=sib_field_pairs,\n",
    "            non_field_pairs=non_field_pairs\n",
    ")"
   ]
  },
  {
   "cell_type": "code",
   "execution_count": 5,
   "metadata": {},
   "outputs": [
    {
     "name": "stdout",
     "output_type": "stream",
     "text": [
      "(6, 3, 3) (6, 3, 3)\n"
     ]
    },
    {
     "data": {
      "image/png": "[encoded data removed]",
      "text/plain": [
       "<Figure size 400x300 with 1 Axes>"
      ]
     },
     "metadata": {},
     "output_type": "display_data"
    }
   ],
   "source": [
    "print(mat.shape, mat2.shape)\n",
    "t = np.concatenate([np.arange(6)] * 3)\n",
    "x = np.concatenate([np.repeat(1, 6), np.repeat(2, 6), np.repeat(3, 6)])\n",
    "y1 = np.concatenate([mat[:, 0, 0], mat[:, 1, 1], mat[:, 2, 2]])\n",
    "y2 = np.concatenate([mat2[:, 0, 0], mat2[:, 1, 1], mat2[:, 2, 2]])\n",
    "fig = plt.figure(figsize=(4,3))\n",
    "ax = Clear_Axes(plt.axes(), close_spines=['top', 'right'], ifxticks=True, ifyticks=True)\n",
    "ax.axhline(0, color='k', linestyle='--', linewidth=0.15)\n",
    "sns.boxplot(\n",
    "    x = np.concatenate([x, x]),\n",
    "    y = np.concatenate([y1, y2]),\n",
    "    hue = np.concatenate([np.repeat('sib', 18), np.repeat('non', 18)]),\n",
    "    palette=['#4F758D', '#ABD0D1'],\n",
    "    ax = ax,\n",
    "    linecolor='black',\n",
    "    linewidth=0.5,\n",
    "    gap=0.2,\n",
    "    flierprops={'markersize': 0.5},\n",
    ")\n",
    "plt.savefig(join(loc, \"SFER + intrinsic stability.png\"), dpi=600)\n",
    "plt.savefig(join(loc, \"SFER + intrinsic stability.svg\"), dpi=600)"
   ]
  }
 ],
 "metadata": {
  "kernelspec": {
   "display_name": "maze",
   "language": "python",
   "name": "python3"
  },
  "language_info": {
   "codemirror_mode": {
    "name": "ipython",
    "version": 3
   },
   "file_extension": ".py",
   "mimetype": "text/x-python",
   "name": "python",
   "nbconvert_exporter": "python",
   "pygments_lexer": "ipython3",
   "version": "3.10.14"
  }
 },
 "nbformat": 4,
 "nbformat_minor": 2
}
