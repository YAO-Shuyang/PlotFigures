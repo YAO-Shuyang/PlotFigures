{
 "cells": [
  {
   "cell_type": "code",
   "execution_count": 1,
   "metadata": {},
   "outputs": [
    {
     "name": "stderr",
     "output_type": "stream",
     "text": [
      "e:\\Anaconda\\envs\\maze\\lib\\site-packages\\tqdm\\auto.py:21: TqdmWarning: IProgress not found. Please update jupyter and ipywidgets. See https://ipywidgets.readthedocs.io/en/stable/user_install.html\n",
      "  from .autonotebook import tqdm as notebook_tqdm\n"
     ]
    },
    {
     "name": "stdout",
     "output_type": "stream",
     "text": [
      "        E:\\Data\\FinalResults\\0336 - Probability Curve Example is already existed!\n",
      "26\n",
      "Using device: cuda\n",
      "Using device: cuda\n"
     ]
    }
   ],
   "source": [
    "from mylib.statistic_test import *\n",
    "\n",
    "code_id = '0336 - Probability Curve Example'    \n",
    "loc = join(figpath, code_id)\n",
    "mkdir(loc)\n",
    "\n",
    "# Load sequences from the pickle file\n",
    "with open(r\"E:\\Anaconda\\envs\\maze\\Lib\\site-packages\\mylib\\test\\demo_seq.pkl\", 'rb') as handle:\n",
    "    sequences = pickle.load(handle)\n",
    "\n",
    "exp_seq = np.array([1,1,0,1,0,0,1,0,1,1,1,1,1,1,1,1,1,0,0,1,1,1,1,1,1,1])\n",
    "print(len(exp_seq))\n",
    "\n",
    "from mylib.model import EqualRateDriftModel\n",
    "from mylib.model import TwoProbabilityIndependentModel\n",
    "from mylib.model import JointProbabilityModel\n",
    "from mylib.model import HMM\n",
    "from mylib.model import ContinuousHiddenStateModel\n",
    "from mylib.model import ProbabilityRNN"
   ]
  },
  {
   "cell_type": "code",
   "execution_count": 2,
   "metadata": {},
   "outputs": [
    {
     "name": "stdout",
     "output_type": "stream",
     "text": [
      "        E:\\Data\\FinalResults\\0336 - Probability Curve Example is already existed!\n",
      "26\n",
      "Simple Drift Model:\n",
      "  Loss: 0.6990581187546758\n",
      "  Parameters: (0.525448764922768,).\n",
      "\n"
     ]
    },
    {
     "name": "stderr",
     "output_type": "stream",
     "text": [
      "100%|██████████| 22482/22482 [00:00<00:00, 212773.55it/s]\n"
     ]
    },
    {
     "name": "stdout",
     "output_type": "stream",
     "text": [
      "Retention + Recovery Model:\n",
      "  Loss: 0.5239414484720598\n",
      "  Retention Parameters: [1.07718977 1.33990977]\n",
      "  Recovery Parameters: [0.75961272 1.23601794].\n",
      "\n",
      "Joint Probability Model:\n",
      "  Loss: 0.5360678489003518\n",
      "  Parameters: [-0.24895238  1.26377024  1.03356006  1.46241491].\n",
      "\n"
     ]
    },
    {
     "name": "stderr",
     "output_type": "stream",
     "text": [
      "100%|██████████| 100/100 [00:56<00:00,  1.77it/s]\n"
     ]
    },
    {
     "name": "stdout",
     "output_type": "stream",
     "text": [
      "Hidden Markov Model with 20 hidden states:\n",
      "  Loss: 0.5180979625367303\n",
      "  Transition Matrix: tensor([[6.8087e-01, 2.1332e-01, 6.6184e-02, 2.1250e-02, 7.6363e-03, 3.3303e-03,\n",
      "         1.7636e-03, 1.0554e-03, 6.8772e-04, 4.8248e-04, 3.6273e-04, 1.3286e-04,\n",
      "         2.5029e-04, 2.3433e-04, 2.4860e-04, 3.0715e-04, 4.0743e-04, 4.9363e-04,\n",
      "         5.1180e-04, 4.7036e-04],\n",
      "        [6.1149e-01, 2.2578e-01, 8.3636e-02, 3.2570e-02, 1.4428e-02, 7.6968e-03,\n",
      "         4.7584e-03, 3.1836e-03, 2.2488e-03, 1.6675e-03, 1.2952e-03, 4.8412e-04,\n",
      "         9.0224e-04, 8.3159e-04, 8.6268e-04, 1.0486e-03, 1.4021e-03, 1.7716e-03,\n",
      "         1.9697e-03, 1.9747e-03],\n",
      "        [5.0578e-01, 2.2262e-01, 1.0006e-01, 4.8366e-02, 2.7044e-02, 1.7879e-02,\n",
      "         1.2915e-02, 9.5786e-03, 7.2354e-03, 5.5793e-03, 4.3998e-03, 1.7116e-03,\n",
      "         2.9922e-03, 2.6835e-03, 2.7164e-03, 3.2847e-03, 4.4960e-03, 5.9686e-03,\n",
      "         7.0798e-03, 7.6127e-03],\n",
      "        [3.5343e-01, 1.8749e-01, 1.0381e-01, 6.3650e-02, 4.5923e-02, 3.8114e-02,\n",
      "         3.2232e-02, 2.6293e-02, 2.0932e-02, 1.6476e-02, 1.2918e-02, 5.2069e-03,\n",
      "         8.1911e-03, 6.9841e-03, 6.7529e-03, 7.9653e-03, 1.0900e-02, 1.4751e-02,\n",
      "         1.8016e-02, 1.9962e-02],\n",
      "        [1.9430e-01, 1.2592e-01, 8.6727e-02, 6.7675e-02, 6.3205e-02, 6.6679e-02,\n",
      "         6.7113e-02, 6.0991e-02, 5.1537e-02, 4.1480e-02, 3.2210e-02, 1.2214e-02,\n",
      "         1.8452e-02, 1.4369e-02, 1.2302e-02, 1.2479e-02, 1.4610e-02, 1.7454e-02,\n",
      "         1.9628e-02, 2.0652e-02],\n",
      "        [8.1090e-02, 6.4551e-02, 5.5027e-02, 5.3439e-02, 6.2902e-02, 8.3843e-02,\n",
      "         1.0220e-01, 1.0642e-01, 9.8251e-02, 8.2987e-02, 6.5178e-02, 2.0758e-02,\n",
      "         3.4156e-02, 2.3656e-02, 1.6627e-02, 1.2545e-02, 1.0453e-02, 9.3487e-03,\n",
      "         8.6028e-03, 7.9704e-03],\n",
      "        [3.0042e-02, 2.8400e-02, 2.8823e-02, 3.3282e-02, 4.6868e-02, 7.5513e-02,\n",
      "         1.0972e-01, 1.3180e-01, 1.3525e-01, 1.2247e-01, 9.9565e-02, 2.7393e-02,\n",
      "         5.0219e-02, 3.1884e-02, 1.9092e-02, 1.1203e-02, 6.9381e-03, 4.8010e-03,\n",
      "         3.6926e-03, 3.0498e-03],\n",
      "        [1.2333e-02, 1.3229e-02, 1.5247e-02, 1.9946e-02, 3.1872e-02, 5.8866e-02,\n",
      "         9.8484e-02, 1.3450e-01, 1.5324e-01, 1.4988e-01, 1.2791e-01, 3.2743e-02,\n",
      "         6.5297e-02, 3.9790e-02, 2.1865e-02, 1.1155e-02, 5.8419e-03, 3.4940e-03,\n",
      "         2.4278e-03, 1.8801e-03],\n",
      "        [5.9603e-03, 6.9978e-03, 8.8269e-03, 1.2597e-02, 2.1931e-02, 4.4508e-02,\n",
      "         8.2839e-02, 1.2582e-01, 1.5747e-01, 1.6609e-01, 1.4967e-01, 3.7453e-02,\n",
      "         8.0039e-02, 4.8420e-02, 2.5757e-02, 1.2353e-02, 5.9908e-03, 3.3552e-03,\n",
      "         2.2345e-03, 1.6916e-03],\n",
      "        [3.3772e-03, 4.2202e-03, 5.6617e-03, 8.5636e-03, 1.5757e-02, 3.4023e-02,\n",
      "         6.8408e-02, 1.1297e-01, 1.5304e-01, 1.7296e-01, 1.6481e-01, 4.1560e-02,\n",
      "         9.4704e-02, 5.8341e-02, 3.1199e-02, 1.4825e-02, 7.0685e-03, 3.9134e-03,\n",
      "         2.6058e-03, 1.9919e-03],\n",
      "        [2.2085e-03, 2.8702e-03, 4.0008e-03, 6.2672e-03, 1.1898e-02, 2.6636e-02,\n",
      "         5.6423e-02, 9.9153e-02, 1.4312e-01, 1.7176e-01, 1.7288e-01, 4.4908e-02,\n",
      "         1.0898e-01, 6.9873e-02, 3.8751e-02, 1.9014e-02, 9.3371e-03, 5.3323e-03,\n",
      "         3.6756e-03, 2.9178e-03],\n",
      "        [8.9535e-02, 7.8251e-02, 7.0013e-02, 6.3375e-02, 4.9838e-02, 3.2822e-02,\n",
      "         2.4267e-02, 2.1816e-02, 2.2220e-02, 2.4031e-02, 2.6477e-02, 6.3689e-02,\n",
      "         3.2591e-02, 3.8163e-02, 4.9105e-02, 6.7604e-02, 8.2171e-02, 7.5471e-02,\n",
      "         5.4276e-02, 3.4286e-02],\n",
      "        [1.3347e-03, 1.7732e-03, 2.5229e-03, 4.0150e-03, 7.6661e-03, 1.7325e-02,\n",
      "         3.8259e-02, 7.1918e-02, 1.1255e-01, 1.4788e-01, 1.6454e-01, 4.8088e-02,\n",
      "         1.3065e-01, 9.5810e-02, 6.1885e-02, 3.6029e-02, 2.1158e-02, 1.4348e-02,\n",
      "         1.1588e-02, 1.0659e-02],\n",
      "        [1.1785e-03, 1.5445e-03, 2.1668e-03, 3.3951e-03, 6.3358e-03, 1.3960e-02,\n",
      "         3.0563e-02, 5.7883e-02, 9.2325e-02, 1.2505e-01, 1.4527e-01, 4.6610e-02,\n",
      "         1.3113e-01, 1.0509e-01, 7.5895e-02, 5.0665e-02, 3.4518e-02, 2.6901e-02,\n",
      "         2.4507e-02, 2.5021e-02],\n",
      "        [1.0936e-03, 1.3913e-03, 1.8923e-03, 2.8682e-03, 5.1211e-03, 1.0724e-02,\n",
      "         2.2739e-02, 4.2568e-02, 6.8162e-02, 9.4114e-02, 1.1336e-01, 4.1143e-02,\n",
      "         1.1637e-01, 1.0292e-01, 8.4797e-02, 6.7086e-02, 5.5210e-02, 5.1336e-02,\n",
      "         5.4296e-02, 6.2803e-02],\n",
      "        [9.9320e-04, 1.2178e-03, 1.5872e-03, 2.2829e-03, 3.7934e-03, 7.3173e-03,\n",
      "         1.4626e-02, 2.6543e-02, 4.2093e-02, 5.8694e-02, 7.2867e-02, 3.0701e-02,\n",
      "         8.4816e-02, 8.3021e-02, 7.8555e-02, 7.4581e-02, 7.5645e-02, 8.6096e-02,\n",
      "         1.0860e-01, 1.4597e-01],\n",
      "        [7.9469e-04, 9.6321e-04, 1.2183e-03, 1.6452e-03, 2.4752e-03, 4.2774e-03,\n",
      "         7.8828e-03, 1.3703e-02, 2.1430e-02, 3.0183e-02, 3.8716e-02, 1.9206e-02,\n",
      "         5.1272e-02, 5.5210e-02, 5.8843e-02, 6.4817e-02, 7.8728e-02, 1.0921e-01,\n",
      "         1.6772e-01, 2.7171e-01],\n",
      "        [5.1346e-04, 6.3971e-04, 8.0510e-04, 1.0208e-03, 1.3701e-03, 2.0950e-03,\n",
      "         3.5220e-03, 5.8406e-03, 9.0205e-03, 1.2894e-02, 1.7196e-02, 1.0153e-02,\n",
      "         2.6123e-02, 3.0781e-02, 3.6227e-02, 4.4741e-02, 6.3366e-02, 1.0720e-01,\n",
      "         2.0604e-01, 4.2046e-01],\n",
      "        [2.3629e-04, 3.0509e-04, 3.8475e-04, 4.6078e-04, 5.5687e-04, 7.6208e-04,\n",
      "         1.1755e-03, 1.8641e-03, 2.8491e-03, 4.1443e-03, 5.7664e-03, 4.0338e-03,\n",
      "         1.0154e-02, 1.3194e-02, 1.7349e-02, 2.4469e-02, 4.1425e-02, 8.7755e-02,\n",
      "         2.1618e-01, 5.6694e-01],\n",
      "        [7.8492e-05, 1.0449e-04, 1.3214e-04, 1.5154e-04, 1.6902e-04, 2.1205e-04,\n",
      "         3.0503e-04, 4.6661e-04, 7.0928e-04, 1.0539e-03, 1.5360e-03, 1.2506e-03,\n",
      "         3.1746e-03, 4.6050e-03, 6.9073e-03, 1.1471e-02, 2.3891e-02, 6.4318e-02,\n",
      "         2.0297e-01, 6.7650e-01]], device='cuda:0')\n",
      "  Emission Matrix: tensor([0.0250, 0.0750, 0.1250, 0.1750, 0.2250, 0.2750, 0.3250, 0.3750, 0.4250,\n",
      "        0.4750, 0.5250, 0.5750, 0.6250, 0.6750, 0.7250, 0.7750, 0.8250, 0.8750,\n",
      "        0.9250, 0.9750], device='cuda:0')\n",
      "  Initial State: 11 with P0 = 0.5750000000000001.\n",
      "\n",
      "Continuous Hidden State Model with poly2:\n",
      "  Loss: 0.5209920589644201\n",
      "  Parameters: [ 0.17147092  0.49265931  0.32723989 -0.04848636 -0.50609034  0.5806353 ].\n",
      "\n"
     ]
    },
    {
     "name": "stderr",
     "output_type": "stream",
     "text": [
      " 15%|█▌        | 153/1000 [01:23<07:42,  1.83it/s]"
     ]
    },
    {
     "name": "stdout",
     "output_type": "stream",
     "text": [
      "  Early stopping triggered.\n"
     ]
    },
    {
     "name": "stderr",
     "output_type": "stream",
     "text": [
      "\n"
     ]
    },
    {
     "name": "stdout",
     "output_type": "stream",
     "text": [
      "Recurrent Neural Network Model:\n",
      "  Loss: 0.4546106243525151\n",
      "\n"
     ]
    }
   ],
   "source": [
    "from mylib.statistic_test import *\n",
    "\n",
    "code_id = '0336 - Probability Curve Example'    \n",
    "loc = join(figpath, code_id)\n",
    "mkdir(loc)\n",
    "\n",
    "# Load sequences from the pickle file\n",
    "with open(r\"E:\\Anaconda\\envs\\maze\\Lib\\site-packages\\mylib\\test\\demo_seq.pkl\", 'rb') as handle:\n",
    "    sequences = pickle.load(handle)\n",
    "\n",
    "exp_seq = np.array([1,1,0,1,0,0,1,0,1,1,1,1,1,1,1,1,1,0,0,1,1,1,1,1,1,1])\n",
    "print(len(exp_seq))\n",
    "\n",
    "from mylib.model import EqualRateDriftModel\n",
    "from mylib.model import TwoProbabilityIndependentModel\n",
    "from mylib.model import JointProbabilityModel\n",
    "from mylib.model import HMM\n",
    "from mylib.model import ContinuousHiddenStateModel\n",
    "from mylib.model import ProbabilityRNN\n",
    "\n",
    "M1 = EqualRateDriftModel()\n",
    "M1.fit(sequences)\n",
    "M1.calc_loss(sequences)\n",
    "y1 = M1.get_predicted_prob([exp_seq])\n",
    "\n",
    "M2 = TwoProbabilityIndependentModel()\n",
    "M2.fit(sequences)\n",
    "M2.calc_loss(sequences)\n",
    "y2 = M2.get_predicted_prob([exp_seq])\n",
    "\n",
    "M3 = JointProbabilityModel()\n",
    "M3.fit(sequences)\n",
    "M3.calc_loss(sequences)\n",
    "y3 = M3.get_predicted_prob([exp_seq])\n",
    "\n",
    "M4 = HMM.process_fit(N=20, sequences=sequences, n_iterations=100)\n",
    "M4.calc_loss(sequences)\n",
    "y4 = M4.get_predicted_prob([exp_seq])\n",
    "\n",
    "M5 = ContinuousHiddenStateModel('poly2')\n",
    "M5.fit(sequences)\n",
    "M5.calc_loss(sequences)\n",
    "y5 = M5.get_predicted_prob([exp_seq])\n",
    "\n",
    "M6 = ProbabilityRNN.process_fit(\n",
    "    sequences,\n",
    "    split_ratio=0.8,\n",
    "    hidden_size=32,\n",
    "    lr=0.001,\n",
    "    epochs=1000, \n",
    "    batch_size=2048\n",
    ")\n",
    "M6.calc_loss(sequences)\n",
    "y6 = M6.get_predicted_prob([exp_seq])"
   ]
  },
  {
   "cell_type": "code",
   "execution_count": 4,
   "metadata": {},
   "outputs": [
    {
     "name": "stderr",
     "output_type": "stream",
     "text": [
      "100%|██████████| 100/100 [00:55<00:00,  1.81it/s]\n"
     ]
    },
    {
     "name": "stdout",
     "output_type": "stream",
     "text": [
      "Hidden Markov Model with 20 hidden states:\n",
      "  Loss: 0.5180979541096957\n",
      "  Transition Matrix: tensor([[6.8087e-01, 2.1332e-01, 6.6184e-02, 2.1250e-02, 7.6363e-03, 3.3303e-03,\n",
      "         1.7636e-03, 1.0554e-03, 6.8772e-04, 4.8248e-04, 3.6272e-04, 1.3286e-04,\n",
      "         2.5029e-04, 2.3433e-04, 2.4860e-04, 3.0715e-04, 4.0743e-04, 4.9363e-04,\n",
      "         5.1180e-04, 4.7036e-04],\n",
      "        [6.1149e-01, 2.2578e-01, 8.3636e-02, 3.2570e-02, 1.4428e-02, 7.6967e-03,\n",
      "         4.7584e-03, 3.1836e-03, 2.2488e-03, 1.6675e-03, 1.2952e-03, 4.8412e-04,\n",
      "         9.0224e-04, 8.3159e-04, 8.6268e-04, 1.0486e-03, 1.4021e-03, 1.7716e-03,\n",
      "         1.9697e-03, 1.9747e-03],\n",
      "        [5.0578e-01, 2.2262e-01, 1.0006e-01, 4.8366e-02, 2.7044e-02, 1.7879e-02,\n",
      "         1.2915e-02, 9.5786e-03, 7.2354e-03, 5.5793e-03, 4.3998e-03, 1.7116e-03,\n",
      "         2.9922e-03, 2.6835e-03, 2.7164e-03, 3.2847e-03, 4.4960e-03, 5.9686e-03,\n",
      "         7.0798e-03, 7.6127e-03],\n",
      "        [3.5343e-01, 1.8749e-01, 1.0381e-01, 6.3650e-02, 4.5923e-02, 3.8114e-02,\n",
      "         3.2232e-02, 2.6293e-02, 2.0932e-02, 1.6476e-02, 1.2918e-02, 5.2069e-03,\n",
      "         8.1911e-03, 6.9841e-03, 6.7529e-03, 7.9653e-03, 1.0900e-02, 1.4751e-02,\n",
      "         1.8017e-02, 1.9962e-02],\n",
      "        [1.9430e-01, 1.2592e-01, 8.6727e-02, 6.7675e-02, 6.3205e-02, 6.6679e-02,\n",
      "         6.7114e-02, 6.0991e-02, 5.1537e-02, 4.1480e-02, 3.2210e-02, 1.2214e-02,\n",
      "         1.8452e-02, 1.4369e-02, 1.2302e-02, 1.2479e-02, 1.4610e-02, 1.7454e-02,\n",
      "         1.9628e-02, 2.0652e-02],\n",
      "        [8.1090e-02, 6.4551e-02, 5.5027e-02, 5.3439e-02, 6.2902e-02, 8.3843e-02,\n",
      "         1.0220e-01, 1.0642e-01, 9.8251e-02, 8.2987e-02, 6.5178e-02, 2.0758e-02,\n",
      "         3.4156e-02, 2.3656e-02, 1.6627e-02, 1.2545e-02, 1.0453e-02, 9.3487e-03,\n",
      "         8.6028e-03, 7.9704e-03],\n",
      "        [3.0042e-02, 2.8400e-02, 2.8823e-02, 3.3282e-02, 4.6868e-02, 7.5513e-02,\n",
      "         1.0972e-01, 1.3180e-01, 1.3525e-01, 1.2247e-01, 9.9565e-02, 2.7393e-02,\n",
      "         5.0219e-02, 3.1884e-02, 1.9092e-02, 1.1203e-02, 6.9381e-03, 4.8010e-03,\n",
      "         3.6926e-03, 3.0498e-03],\n",
      "        [1.2333e-02, 1.3229e-02, 1.5247e-02, 1.9946e-02, 3.1872e-02, 5.8866e-02,\n",
      "         9.8484e-02, 1.3450e-01, 1.5324e-01, 1.4988e-01, 1.2791e-01, 3.2743e-02,\n",
      "         6.5296e-02, 3.9790e-02, 2.1865e-02, 1.1155e-02, 5.8419e-03, 3.4940e-03,\n",
      "         2.4278e-03, 1.8801e-03],\n",
      "        [5.9604e-03, 6.9978e-03, 8.8269e-03, 1.2597e-02, 2.1931e-02, 4.4508e-02,\n",
      "         8.2839e-02, 1.2582e-01, 1.5747e-01, 1.6609e-01, 1.4967e-01, 3.7453e-02,\n",
      "         8.0038e-02, 4.8420e-02, 2.5757e-02, 1.2353e-02, 5.9908e-03, 3.3552e-03,\n",
      "         2.2345e-03, 1.6916e-03],\n",
      "        [3.3772e-03, 4.2202e-03, 5.6617e-03, 8.5636e-03, 1.5757e-02, 3.4023e-02,\n",
      "         6.8408e-02, 1.1297e-01, 1.5304e-01, 1.7296e-01, 1.6481e-01, 4.1560e-02,\n",
      "         9.4704e-02, 5.8341e-02, 3.1199e-02, 1.4825e-02, 7.0685e-03, 3.9134e-03,\n",
      "         2.6058e-03, 1.9919e-03],\n",
      "        [2.2085e-03, 2.8702e-03, 4.0008e-03, 6.2672e-03, 1.1898e-02, 2.6636e-02,\n",
      "         5.6424e-02, 9.9153e-02, 1.4312e-01, 1.7176e-01, 1.7288e-01, 4.4908e-02,\n",
      "         1.0898e-01, 6.9873e-02, 3.8751e-02, 1.9014e-02, 9.3371e-03, 5.3323e-03,\n",
      "         3.6756e-03, 2.9178e-03],\n",
      "        [8.9535e-02, 7.8251e-02, 7.0013e-02, 6.3375e-02, 4.9838e-02, 3.2822e-02,\n",
      "         2.4267e-02, 2.1816e-02, 2.2220e-02, 2.4031e-02, 2.6477e-02, 6.3689e-02,\n",
      "         3.2591e-02, 3.8163e-02, 4.9105e-02, 6.7604e-02, 8.2171e-02, 7.5471e-02,\n",
      "         5.4276e-02, 3.4286e-02],\n",
      "        [1.3347e-03, 1.7732e-03, 2.5229e-03, 4.0150e-03, 7.6661e-03, 1.7325e-02,\n",
      "         3.8259e-02, 7.1918e-02, 1.1255e-01, 1.4788e-01, 1.6454e-01, 4.8088e-02,\n",
      "         1.3065e-01, 9.5810e-02, 6.1885e-02, 3.6029e-02, 2.1158e-02, 1.4348e-02,\n",
      "         1.1588e-02, 1.0659e-02],\n",
      "        [1.1785e-03, 1.5445e-03, 2.1668e-03, 3.3951e-03, 6.3358e-03, 1.3960e-02,\n",
      "         3.0563e-02, 5.7883e-02, 9.2325e-02, 1.2505e-01, 1.4527e-01, 4.6610e-02,\n",
      "         1.3113e-01, 1.0509e-01, 7.5895e-02, 5.0665e-02, 3.4517e-02, 2.6901e-02,\n",
      "         2.4507e-02, 2.5021e-02],\n",
      "        [1.0936e-03, 1.3913e-03, 1.8923e-03, 2.8682e-03, 5.1211e-03, 1.0724e-02,\n",
      "         2.2739e-02, 4.2568e-02, 6.8162e-02, 9.4114e-02, 1.1336e-01, 4.1143e-02,\n",
      "         1.1637e-01, 1.0292e-01, 8.4797e-02, 6.7086e-02, 5.5210e-02, 5.1336e-02,\n",
      "         5.4296e-02, 6.2803e-02],\n",
      "        [9.9320e-04, 1.2178e-03, 1.5872e-03, 2.2829e-03, 3.7934e-03, 7.3172e-03,\n",
      "         1.4626e-02, 2.6543e-02, 4.2093e-02, 5.8694e-02, 7.2867e-02, 3.0701e-02,\n",
      "         8.4815e-02, 8.3021e-02, 7.8555e-02, 7.4581e-02, 7.5645e-02, 8.6096e-02,\n",
      "         1.0860e-01, 1.4597e-01],\n",
      "        [7.9469e-04, 9.6321e-04, 1.2183e-03, 1.6452e-03, 2.4752e-03, 4.2774e-03,\n",
      "         7.8828e-03, 1.3703e-02, 2.1430e-02, 3.0183e-02, 3.8716e-02, 1.9206e-02,\n",
      "         5.1272e-02, 5.5210e-02, 5.8843e-02, 6.4817e-02, 7.8728e-02, 1.0921e-01,\n",
      "         1.6772e-01, 2.7171e-01],\n",
      "        [5.1346e-04, 6.3971e-04, 8.0510e-04, 1.0208e-03, 1.3701e-03, 2.0950e-03,\n",
      "         3.5220e-03, 5.8406e-03, 9.0205e-03, 1.2894e-02, 1.7196e-02, 1.0153e-02,\n",
      "         2.6123e-02, 3.0781e-02, 3.6227e-02, 4.4741e-02, 6.3366e-02, 1.0720e-01,\n",
      "         2.0604e-01, 4.2046e-01],\n",
      "        [2.3629e-04, 3.0509e-04, 3.8475e-04, 4.6078e-04, 5.5687e-04, 7.6208e-04,\n",
      "         1.1755e-03, 1.8641e-03, 2.8491e-03, 4.1443e-03, 5.7664e-03, 4.0338e-03,\n",
      "         1.0154e-02, 1.3194e-02, 1.7349e-02, 2.4469e-02, 4.1425e-02, 8.7755e-02,\n",
      "         2.1618e-01, 5.6694e-01],\n",
      "        [7.8492e-05, 1.0449e-04, 1.3214e-04, 1.5154e-04, 1.6902e-04, 2.1205e-04,\n",
      "         3.0503e-04, 4.6661e-04, 7.0928e-04, 1.0539e-03, 1.5360e-03, 1.2506e-03,\n",
      "         3.1746e-03, 4.6050e-03, 6.9073e-03, 1.1471e-02, 2.3891e-02, 6.4318e-02,\n",
      "         2.0297e-01, 6.7650e-01]], device='cuda:0')\n",
      "  Emission Matrix: tensor([0.0250, 0.0750, 0.1250, 0.1750, 0.2250, 0.2750, 0.3250, 0.3750, 0.4250,\n",
      "        0.4750, 0.5250, 0.5750, 0.6250, 0.6750, 0.7250, 0.7750, 0.8250, 0.8750,\n",
      "        0.9250, 0.9750], device='cuda:0')\n",
      "  Initial State: 11 with P0 = 0.5750000000000001.\n",
      "\n"
     ]
    }
   ],
   "source": [
    "M4 = HMM.process_fit(N=20, sequences=sequences, n_iterations=100)\n",
    "M4.calc_loss(sequences)\n",
    "y4 = M4.get_predicted_prob([exp_seq])"
   ]
  },
  {
   "cell_type": "code",
   "execution_count": 7,
   "metadata": {},
   "outputs": [
    {
     "data": {
      "image/png": "[encoded data removed]",
      "text/plain": [
       "<Figure size 1000x200 with 1 Axes>"
      ]
     },
     "metadata": {},
     "output_type": "display_data"
    }
   ],
   "source": [
    "colors = sns.color_palette(\"rocket\", 3) + sns.color_palette(\"Greens\", 4) + sns.color_palette(\"Blues\", 3) + sns.color_palette(\"Purples\", 3)\n",
    "fig = plt.figure(figsize=(10, 2))\n",
    "x = np.arange(1, 26)\n",
    "ax = Clear_Axes(plt.axes(), close_spines=['top', 'right'], ifxticks = True, ifyticks = True)\n",
    "ax.plot(x, y1[0], marker='s', markersize=3, linewidth = 0.5, label = 'I', color = colors[0], alpha = 0.8)\n",
    "ax.plot(x, y2[0], marker='s', markersize=3, linewidth = 0.5, label = 'II', color = colors[1], alpha = 0.8)\n",
    "ax.plot(x, y3[0], marker='s', markersize=3, linewidth = 0.5, label = 'III', color = colors[2], alpha = 0.8)\n",
    "ax.plot(x, y4[0], marker='s', markersize=3, linewidth = 0.5, label = 'IV', color = colors[5], alpha = 0.8)\n",
    "ax.plot(x, y5[0], marker='s', markersize=3, linewidth = 0.5, label = 'V', color = colors[9], alpha = 0.8)\n",
    "ax.plot(x, y6[0], marker='s', markersize=3, linewidth = 0.5, label = 'VI', color = colors[12], alpha = 0.8)\n",
    "ax.set_ylim(0, 1)\n",
    "ax.set_yticks(np.linspace(0,1,6))\n",
    "\n",
    "plt.legend()\n",
    "plt.savefig(join(loc, \"example.png\"), dpi=1200)\n",
    "plt.savefig(join(loc, \"example.svg\"), dpi=1200)\n",
    "plt.show()"
   ]
  }
 ],
 "metadata": {
  "kernelspec": {
   "display_name": "maze",
   "language": "python",
   "name": "python3"
  },
  "language_info": {
   "codemirror_mode": {
    "name": "ipython",
    "version": 3
   },
   "file_extension": ".py",
   "mimetype": "text/x-python",
   "name": "python",
   "nbconvert_exporter": "python",
   "pygments_lexer": "ipython3",
   "version": "3.10.14"
  }
 },
 "nbformat": 4,
 "nbformat_minor": 2
}
