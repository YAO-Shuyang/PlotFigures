{
 "cells": [
  {
   "cell_type": "code",
   "execution_count": null,
   "metadata": {},
   "outputs": [],
   "source": [
    "from mylib.statistic_test import *\n",
    "\n",
    "code_id = '0342 - Feature-KO Sequences'\n",
    "loc = os.path.join(figpath, code_id)\n",
    "mkdir(loc)\n",
    "\n",
    "with open(r\"E:\\Anaconda\\envs\\maze\\Lib\\site-packages\\mylib\\test\\demo_seq.pkl\", 'rb') as handle:\n",
    "    template_seq = pickle.load(handle)\n",
    "\n",
    "from mylib.model import ProbabilityRNN, ContinuousHiddenStateModel\n",
    "from mylib.model import FeatureKnockOut"
   ]
  },
  {
   "cell_type": "code",
   "execution_count": null,
   "metadata": {},
   "outputs": [],
   "source": []
  }
 ],
 "metadata": {
  "kernelspec": {
   "display_name": "maze",
   "language": "python",
   "name": "python3"
  },
  "language_info": {
   "name": "python",
   "version": "3.10.14"
  }
 },
 "nbformat": 4,
 "nbformat_minor": 2
}
