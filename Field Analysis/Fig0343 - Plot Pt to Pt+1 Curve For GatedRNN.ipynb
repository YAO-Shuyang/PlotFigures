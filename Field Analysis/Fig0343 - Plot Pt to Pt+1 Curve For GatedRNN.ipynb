{
 "cells": [
  {
   "cell_type": "code",
   "execution_count": 1,
   "metadata": {},
   "outputs": [
    {
     "name": "stderr",
     "output_type": "stream",
     "text": [
      "e:\\Anaconda\\envs\\maze\\lib\\site-packages\\tqdm\\auto.py:21: TqdmWarning: IProgress not found. Please update jupyter and ipywidgets. See https://ipywidgets.readthedocs.io/en/stable/user_install.html\n",
      "  from .autonotebook import tqdm as notebook_tqdm\n"
     ]
    },
    {
     "name": "stdout",
     "output_type": "stream",
     "text": [
      "Using device: cuda\n",
      "Using device: cuda\n",
      "        E:\\Data\\FinalResults\\0343 - Plot Pt to Pt+1 Curve For GatedRNN is already existed!\n",
      "6276\n"
     ]
    }
   ],
   "source": [
    "from mylib.statistic_test import *\n",
    "\n",
    "from mylib.model import ProbabilityRNN\n",
    "from mylib.field.tracker_v2 import Tracker2d\n",
    "\n",
    "code_id = '0343 - Plot Pt to Pt+1 Curve For GatedRNN'\n",
    "loc = os.path.join(figpath, code_id)\n",
    "mkdir(loc)\n",
    "\n",
    "with open(r\"E:\\Data\\maze_learning\\PlotFigures\\STAT_CellReg\\10227\\Maze1-footprint\\trace_mdays_conc.pkl\", 'rb') as handle:\n",
    "    trace = pickle.load(handle)\n",
    "\n",
    "tracker = Tracker2d(trace['field_reg'])\n",
    "template_seq = tracker.convert_to_sequence()\n",
    "\n",
    "with open(r\"E:\\Anaconda\\envs\\maze\\Lib\\site-packages\\mylib\\test\\demo_seq.pkl\", 'wb') as handle:\n",
    "    pickle.dump(template_seq, handle)\n",
    "\n",
    "with open(r\"E:\\Anaconda\\envs\\maze\\Lib\\site-packages\\mylib\\test\\demo_seq.pkl\", 'rb') as handle:\n",
    "    template_seq = pickle.load(handle)\n",
    "    \n",
    "lengths = np.array([len(seq) for seq in template_seq])\n",
    "idx = np.where(lengths >= 10)[0]\n",
    "template_seq = [template_seq[i] for i in idx]\n",
    "print(len(template_seq))\n",
    "\n",
    "from mylib.model import ProbabilityRNN, ContinuousHiddenStateModel\n",
    "from mylib.model import HMM\n",
    "from mylib.model import FeatureKnockOut"
   ]
  },
  {
   "cell_type": "code",
   "execution_count": 2,
   "metadata": {},
   "outputs": [
    {
     "name": "stderr",
     "output_type": "stream",
     "text": [
      "100%|██████████| 1000/1000 [02:03<00:00,  8.10it/s]\n"
     ]
    }
   ],
   "source": [
    "model = ProbabilityRNN.process_fit(\n",
    "    template_seq,\n",
    "    hidden_size=16,\n",
    "    lr=0.01,\n",
    "    epochs=1000, \n",
    "    batch_size=2048\n",
    ")\n",
    "\n",
    "predicted_prob = model.get_predicted_prob(template_seq)"
   ]
  },
  {
   "cell_type": "code",
   "execution_count": 3,
   "metadata": {},
   "outputs": [
    {
     "name": "stdout",
     "output_type": "stream",
     "text": [
      "Recurrent Neural Network Model:\n",
      "  Loss: 0.4608731272609387\n",
      "\n"
     ]
    }
   ],
   "source": [
    "model.calc_loss(template_seq)\n",
    "predicted_prob = model.get_predicted_prob(template_seq)"
   ]
  },
  {
   "cell_type": "code",
   "execution_count": 42,
   "metadata": {},
   "outputs": [
    {
     "data": {
      "image/png": "[encoded data removed]",
      "text/plain": [
       "<Figure size 400x400 with 1 Axes>"
      ]
     },
     "metadata": {},
     "output_type": "display_data"
    }
   ],
   "source": [
    "p_one_x, p_one_y = [], []\n",
    "p_zero_x, p_zero_y = [], []\n",
    "\n",
    "for i in range(len(predicted_prob)):\n",
    "    one_idx = np.where(template_seq[i][1:-1] == 1)[0]\n",
    "    zero_idx = np.where(template_seq[i][1:-1] == 0)[0]\n",
    "    \n",
    "    p_one_x.append(predicted_prob[i][one_idx])\n",
    "    p_one_y.append(predicted_prob[i][one_idx+1])\n",
    "    \n",
    "    p_zero_x.append(predicted_prob[i][zero_idx])\n",
    "    p_zero_y.append(predicted_prob[i][zero_idx+1])\n",
    "\n",
    "p_one_x = np.concatenate(p_one_x)\n",
    "p_one_y = np.concatenate(p_one_y)\n",
    "\n",
    "p_zero_x = np.concatenate(p_zero_x)\n",
    "p_zero_y = np.concatenate(p_zero_y)\n",
    "\n",
    "\n",
    "fig = plt.figure(figsize = (4, 4))\n",
    "ax = Clear_Axes(plt.axes(), close_spines=['top', 'right'], ifxticks = True, ifyticks = True)\n",
    "ax.plot(p_one_x, p_one_y, 'o', color=\"#CFDFEE\", markersize = 4, markeredgewidth = 0, alpha=0.8)\n",
    "ax.plot(p_zero_x, p_zero_y, 'o', color=\"#F7DC86\", markersize = 4, markeredgewidth = 0, alpha=0.8)\n",
    "ax.plot([0, 1], [0, 1], 'k--', linewidth=0.5)\n",
    "ax.set_xlim(0, 1)\n",
    "ax.set_ylim(0, 1)\n",
    "ax.set_aspect('equal')\n",
    "plt.savefig(join(loc, f'model_predicted_p.png'), dpi=600)\n",
    "plt.savefig(join(loc, f'model_predicted_p.svg'), dpi=600)\n",
    "plt.show()"
   ]
  },
  {
   "cell_type": "code",
   "execution_count": 31,
   "metadata": {},
   "outputs": [
    {
     "name": "stderr",
     "output_type": "stream",
     "text": [
      "100%|██████████| 100/100 [00:15<00:00,  6.27it/s]\n"
     ]
    },
    {
     "name": "stdout",
     "output_type": "stream",
     "text": [
      "Hidden Markov Model with 20 hidden states:\n",
      "  Loss: 0.4691102711957633\n",
      "  Transition Matrix: tensor([[9.0277e-01, 8.9795e-02, 7.3022e-03, 1.3749e-04, 1.7626e-09, 1.9659e-11,\n",
      "         3.2962e-12, 1.1672e-12, 5.5782e-13, 3.1185e-13, 1.9257e-13, 2.7729e-13,\n",
      "         9.0571e-14, 6.9820e-14, 6.0730e-14, 5.9337e-14, 6.1171e-14, 6.3556e-14,\n",
      "         6.4360e-14, 6.1867e-14],\n",
      "        [8.7059e-01, 1.1580e-01, 1.3136e-02, 4.7340e-04, 6.8762e-08, 1.9062e-09,\n",
      "         4.2420e-10, 1.6794e-10, 8.3421e-11, 4.6526e-11, 2.7983e-11, 3.1436e-11,\n",
      "         1.2260e-11, 9.2811e-12, 8.1529e-12, 8.2611e-12, 8.9802e-12, 9.9996e-12,\n",
      "         1.0963e-11, 1.1399e-11],\n",
      "        [7.8508e-01, 1.7500e-01, 3.5614e-02, 4.2451e-03, 4.6461e-05, 4.9341e-06,\n",
      "         1.5420e-06, 6.6899e-07, 3.3126e-07, 1.7596e-07, 9.8775e-08, 8.6236e-08,\n",
      "         3.8460e-08, 2.8819e-08, 2.6261e-08, 2.8230e-08, 3.2318e-08, 3.7739e-08,\n",
      "         4.3129e-08, 4.6020e-08],\n",
      "        [4.8781e-01, 2.2835e-01, 1.0639e-01, 5.7726e-02, 6.0440e-02, 3.0118e-02,\n",
      "         1.4122e-02, 6.8591e-03, 3.4005e-03, 1.7107e-03, 8.8318e-04, 5.9002e-04,\n",
      "         2.8488e-04, 1.9692e-04, 1.6783e-04, 1.6919e-04, 1.8049e-04, 1.9520e-04,\n",
      "         2.0584e-04, 2.0319e-04],\n",
      "        [5.2480e-02, 3.8777e-02, 3.0385e-02, 3.5952e-02, 1.9191e-01, 2.5296e-01,\n",
      "         1.7555e-01, 1.0170e-01, 5.4469e-02, 2.7928e-02, 1.4132e-02, 7.5020e-03,\n",
      "         4.0497e-03, 2.5487e-03, 1.9285e-03, 1.6994e-03, 1.5948e-03, 1.5489e-03,\n",
      "         1.5001e-03, 1.3846e-03],\n",
      "        [1.1827e-02, 1.1323e-02, 1.1858e-02, 1.9025e-02, 1.1033e-01, 2.1760e-01,\n",
      "         2.1549e-01, 1.6137e-01, 1.0382e-01, 6.0438e-02, 3.3128e-02, 1.4528e-02,\n",
      "         9.7387e-03, 5.7080e-03, 3.7611e-03, 2.7823e-03, 2.2235e-03, 1.9002e-03,\n",
      "         1.6778e-03, 1.4632e-03],\n",
      "        [4.8245e-03, 5.4756e-03, 6.8926e-03, 1.2878e-02, 6.4666e-02, 1.5381e-01,\n",
      "         1.9778e-01, 1.8579e-01, 1.4322e-01, 9.5624e-02, 5.7756e-02, 2.2827e-02,\n",
      "         1.8379e-02, 1.0468e-02, 6.3548e-03, 4.2034e-03, 3.0282e-03, 2.3797e-03,\n",
      "         1.9773e-03, 1.6672e-03],\n",
      "        [2.5005e-03, 3.1714e-03, 4.4880e-03, 9.1218e-03, 4.0090e-02, 1.0606e-01,\n",
      "         1.6452e-01, 1.8530e-01, 1.6699e-01, 1.2645e-01, 8.4045e-02, 3.1678e-02,\n",
      "         2.9736e-02, 1.7036e-02, 1.0039e-02, 6.3100e-03, 4.3299e-03, 3.2718e-03,\n",
      "         2.6469e-03, 2.2092e-03],\n",
      "        [1.4936e-03, 2.0329e-03, 3.0946e-03, 6.5777e-03, 2.6038e-02, 7.3706e-02,\n",
      "         1.3117e-01, 1.7051e-01, 1.7529e-01, 1.4867e-01, 1.0844e-01, 4.0283e-02,\n",
      "         4.3551e-02, 2.5747e-02, 1.5281e-02, 9.5222e-03, 6.4740e-03, 4.8640e-03,\n",
      "         3.9364e-03, 3.3210e-03],\n",
      "        [9.8034e-04, 1.3901e-03, 2.2052e-03, 4.7735e-03, 1.7517e-02, 5.1996e-02,\n",
      "         1.0249e-01, 1.4898e-01, 1.7076e-01, 1.6012e-01, 1.2773e-01, 4.7819e-02,\n",
      "         5.9281e-02, 3.6931e-02, 2.2720e-02, 1.4505e-02, 1.0079e-02, 7.7368e-03,\n",
      "         6.4112e-03, 5.5733e-03],\n",
      "        [6.7479e-04, 9.7536e-04, 1.5757e-03, 3.4118e-03, 1.1994e-02, 3.7025e-02,\n",
      "         7.8862e-02, 1.2499e-01, 1.5649e-01, 1.6017e-01, 1.3912e-01, 5.3340e-02,\n",
      "         7.5600e-02, 5.0460e-02, 3.2922e-02, 2.2097e-02, 1.6083e-02, 1.2894e-02,\n",
      "         1.1152e-02, 1.0153e-02],\n",
      "        [6.9503e-02, 2.7913e-02, 1.1567e-02, 7.0674e-03, 4.9626e-02, 7.8905e-02,\n",
      "         6.9643e-02, 5.7372e-02, 4.7466e-02, 3.9548e-02, 3.3543e-02, 2.4200e-02,\n",
      "         3.0674e-02, 3.7754e-02, 5.5502e-02, 8.0402e-02, 9.3193e-02, 8.4193e-02,\n",
      "         6.2094e-02, 3.9834e-02],\n",
      "        [2.9907e-04, 4.2917e-04, 6.8477e-04, 1.4386e-03, 5.3686e-03, 1.8127e-02,\n",
      "         4.3027e-02, 7.6662e-02, 1.0897e-01, 1.2826e-01, 1.2974e-01, 5.3485e-02,\n",
      "         9.8175e-02, 7.7769e-02, 5.9994e-02, 4.7223e-02, 3.9931e-02, 3.6755e-02,\n",
      "         3.6189e-02, 3.7467e-02],\n",
      "        [1.7582e-04, 2.4547e-04, 3.7958e-04, 7.7756e-04, 3.3248e-03, 1.1911e-02,\n",
      "         2.9286e-02, 5.4016e-02, 8.0018e-02, 9.9234e-02, 1.0708e-01, 4.5697e-02,\n",
      "         9.5434e-02, 8.3358e-02, 7.1498e-02, 6.2728e-02, 5.8855e-02, 5.9635e-02,\n",
      "         6.4161e-02, 7.2182e-02],\n",
      "        [9.5135e-05, 1.2681e-04, 1.8632e-04, 3.6869e-04, 1.9066e-03, 7.1974e-03,\n",
      "         1.8035e-02, 3.3915e-02, 5.1677e-02, 6.6819e-02, 7.6321e-02, 3.3201e-02,\n",
      "         7.9632e-02, 7.6959e-02, 7.4085e-02, 7.3534e-02, 7.7963e-02, 8.8755e-02,\n",
      "         1.0654e-01, 1.3268e-01],\n",
      "        [5.9726e-05, 7.6546e-05, 1.0718e-04, 2.0121e-04, 1.1183e-03, 4.1734e-03,\n",
      "         1.0395e-02, 1.9672e-02, 3.0574e-02, 4.0946e-02, 4.9178e-02, 2.1254e-02,\n",
      "         5.8821e-02, 6.1747e-02, 6.5238e-02, 7.2054e-02, 8.6119e-02, 1.1132e-01,\n",
      "         1.5203e-01, 2.1492e-01],\n",
      "        [6.1824e-05, 8.0380e-05, 1.1221e-04, 1.9505e-04, 8.2791e-04, 2.7037e-03,\n",
      "         6.4518e-03, 1.2086e-02, 1.8968e-02, 2.6075e-02, 3.2542e-02, 1.3698e-02,\n",
      "         4.2457e-02, 4.6229e-02, 5.0644e-02, 5.9422e-02, 7.8635e-02, 1.1614e-01,\n",
      "         1.8482e-01, 3.0785e-01],\n",
      "        [8.5499e-05, 1.1769e-04, 1.6996e-04, 2.7050e-04, 6.9151e-04, 1.8204e-03,\n",
      "         4.0260e-03, 7.3096e-03, 1.1396e-02, 1.5846e-02, 2.0234e-02, 8.2886e-03,\n",
      "         2.7632e-02, 3.0369e-02, 3.3629e-02, 4.1497e-02, 6.1538e-02, 1.0682e-01,\n",
      "         2.0587e-01, 4.2238e-01],\n",
      "        [8.4478e-05, 1.2248e-04, 1.8246e-04, 2.6969e-04, 4.3938e-04, 9.4343e-04,\n",
      "         1.9208e-03, 3.3497e-03, 5.1474e-03, 7.1990e-03, 9.3813e-03, 3.8014e-03,\n",
      "         1.3564e-02, 1.5362e-02, 1.7802e-02, 2.4129e-02, 4.1821e-02, 8.8571e-02,\n",
      "         2.1338e-01, 5.5253e-01],\n",
      "        [4.7551e-05, 7.1457e-05, 1.0857e-04, 1.5315e-04, 1.8635e-04, 3.4369e-04,\n",
      "         6.5323e-04, 1.1012e-03, 1.6766e-03, 2.3740e-03, 3.1888e-03, 1.3073e-03,\n",
      "         5.0807e-03, 6.1501e-03, 7.8212e-03, 1.2195e-02, 2.5505e-02, 6.7089e-02,\n",
      "         2.0329e-01, 6.6166e-01]], device='cuda:0')\n",
      "  Emission Matrix: tensor([0.0250, 0.0750, 0.1250, 0.1750, 0.2250, 0.2750, 0.3250, 0.3750, 0.4250,\n",
      "        0.4750, 0.5250, 0.5750, 0.6250, 0.6750, 0.7250, 0.7750, 0.8250, 0.8750,\n",
      "        0.9250, 0.9750], device='cuda:0')\n",
      "  Initial State: 11 with P0 = 0.5750000000000001.\n",
      "\n"
     ]
    },
    {
     "data": {
      "text/plain": [
       "0.4691102711957633"
      ]
     },
     "execution_count": 31,
     "metadata": {},
     "output_type": "execute_result"
    }
   ],
   "source": [
    "M43 = HMM.process_fit(N=20, sequences=template_seq, n_iterations=100)\n",
    "M43.calc_loss(template_seq)"
   ]
  },
  {
   "cell_type": "code",
   "execution_count": 36,
   "metadata": {},
   "outputs": [
    {
     "data": {
      "image/png": "[encoded data removed]",
      "text/plain": [
       "<Figure size 400x400 with 1 Axes>"
      ]
     },
     "metadata": {},
     "output_type": "display_data"
    }
   ],
   "source": [
    "predicted_prob = M43.get_predicted_prob(template_seq)\n",
    "p_one_x, p_one_y = [], []\n",
    "p_zero_x, p_zero_y = [], []\n",
    "\n",
    "for i in range(len(predicted_prob)):\n",
    "    one_idx = np.where(template_seq[i][1:-1] == 1)[0]\n",
    "    zero_idx = np.where(template_seq[i][1:-1] == 0)[0]\n",
    "    \n",
    "    p_one_x.append(predicted_prob[i][one_idx])\n",
    "    p_one_y.append(predicted_prob[i][one_idx+1])\n",
    "    \n",
    "    p_zero_x.append(predicted_prob[i][zero_idx])\n",
    "    p_zero_y.append(predicted_prob[i][zero_idx+1])\n",
    "\n",
    "p_one_x = np.concatenate(p_one_x)\n",
    "p_one_y = np.concatenate(p_one_y)\n",
    "\n",
    "p_zero_x = np.concatenate(p_zero_x)\n",
    "p_zero_y = np.concatenate(p_zero_y)\n",
    "\n",
    "fig = plt.figure(figsize = (4, 4))\n",
    "ax = Clear_Axes(plt.axes(), close_spines=['top', 'right'], ifxticks = True, ifyticks = True)\n",
    "ax.plot(p_one_x[one_idx], p_one_y[one_idx], 'o', color=\"#CFDFEE\", markersize = 4, markeredgewidth = 0, alpha=0.8)\n",
    "ax.plot(p_zero_x[zero_idx], p_zero_y[zero_idx], 'o', color=\"#F7DC86\", markersize = 4, markeredgewidth = 0, alpha=0.8)\n",
    "ax.plot([0, 1], [0, 1], 'k--', linewidth=0.5)\n",
    "ax.set_xlim(0, 1)\n",
    "ax.set_ylim(0, 1)\n",
    "ax.set_aspect('equal')\n",
    "plt.savefig(join(loc, f'model_predicted_p_HMM20.png'), dpi=600)\n",
    "plt.savefig(join(loc, f'model_predicted_p_HMM20.svg'), dpi=600)\n",
    "plt.show()"
   ]
  }
 ],
 "metadata": {
  "kernelspec": {
   "display_name": "maze",
   "language": "python",
   "name": "python3"
  },
  "language_info": {
   "codemirror_mode": {
    "name": "ipython",
    "version": 3
   },
   "file_extension": ".py",
   "mimetype": "text/x-python",
   "name": "python",
   "nbconvert_exporter": "python",
   "pygments_lexer": "ipython3",
   "version": "3.10.14"
  }
 },
 "nbformat": 4,
 "nbformat_minor": 2
}
