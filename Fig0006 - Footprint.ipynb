{
 "cells": [
  {
   "cell_type": "code",
   "execution_count": 2,
   "id": "898b326c",
   "metadata": {},
   "outputs": [
    {
     "name": "stdout",
     "output_type": "stream",
     "text": [
      "        E:\\Data\\FinalResults\\0006 - Footprint is already existed!\n"
     ]
    }
   ],
   "source": [
    "from mylib.statistic_test import *\n",
    "\n",
    "code_id = '0006 - Footprint'\n",
    "loc = os.path.join(figpath, code_id)\n",
    "mkdir(loc)\n",
    "pass"
   ]
  },
  {
   "cell_type": "code",
   "execution_count": null,
   "id": "16a14ea7",
   "metadata": {},
   "outputs": [],
   "source": [
    "def plot_overdays(\n",
    "    dir_name: str,\n",
    "    save_loc: str,\n",
    "    find_chars: str = \"SFP\"\n",
    "):\n",
    "    mkdir(save_loc)\n",
    "    files = os.listdir(dir_name)\n",
    "    \n",
    "    for file in tqdm(files):\n",
    "        if find_chars not in file:\n",
    "            continue\n",
    "        \n",
    "        with h5py.File(os.path.join(dir_name, file), 'r') as f:\n",
    "            sfp = np.array(f['SFP'])\n",
    "            for i in range(sfp.shape[2]):\n",
    "                sfp[:, :, i] = sfp[:, :, i] / np.nanmax(sfp[:, :, i])\n",
    "\n",
    "            footprint = np.nanmax(sfp, axis = 2)\n",
    "        \n",
    "        plt.figure(figsize=(7.5,4.5))\n",
    "        ax = Clear_Axes(plt.axes())\n",
    "        ax.imshow(footprint.T, cmap='gray')\n",
    "        plt.savefig(os.path.join(save_loc, file.split('.')[0]+'.png'), dpi=600)\n",
    "        plt.savefig(os.path.join(save_loc, file.split('.')[0]+'.svg'), dpi=600)\n",
    "        plt.close()\n",
    "        \n",
    "plot_overdays(r\"E:\\Data\\Cross_maze\\10227\\Maze1-footprint\", save_loc=os.path.join(loc, \"10227-Stage1-Maze 1\"))\n",
    "plot_overdays(r\"E:\\Data\\Cross_maze\\10227\\Maze1-2-footprint\", save_loc=os.path.join(loc, \"10227-Stage2-Maze 1\"))\n",
    "plot_overdays(r\"E:\\Data\\Cross_maze\\10227\\Maze2-footprint\", save_loc=os.path.join(loc, \"10227-Stage2-Maze 2\"))\n",
    "plot_overdays(r\"E:\\Data\\Cross_maze\\10227\\Open Field-footprint\", save_loc=os.path.join(loc, \"10227-Stage1-Open Field1\"))\n",
    "plot_overdays(r\"E:\\Data\\Cross_maze\\10227\\Open Field-2-footprint\", save_loc=os.path.join(loc, \"10227-Stage1-Open Field2\"))\n",
    "plot_overdays(r\"E:\\Data\\Cross_maze\\10227\\Open Field-3-footprint\", save_loc=os.path.join(loc, \"10227-Stage2-Open Field3\"))\n",
    "plot_overdays(r\"E:\\Data\\Cross_maze\\10227\\Open Field-4-footprint\", save_loc=os.path.join(loc, \"10227-Stage2-Open Field4\"))\n",
    "\n",
    "plot_overdays(r\"E:\\Data\\Cross_maze\\10224\\Maze1-footprint\", save_loc=os.path.join(loc, \"10224-Stage1-Maze 1\"))\n",
    "plot_overdays(r\"E:\\Data\\Cross_maze\\10224\\Maze1-2-footprint\", save_loc=os.path.join(loc, \"10224-Stage2-Maze 1\"))\n",
    "plot_overdays(r\"E:\\Data\\Cross_maze\\10224\\Maze2-footprint\", save_loc=os.path.join(loc, \"10224-Stage2-Maze 2\"))\n",
    "plot_overdays(r\"E:\\Data\\Cross_maze\\10224\\Open Field-footprint\", save_loc=os.path.join(loc, \"10224-Stage1-Open Field1\"))\n",
    "plot_overdays(r\"E:\\Data\\Cross_maze\\10224\\Open Field-2-footprint\", save_loc=os.path.join(loc, \"10224-Stage1-Open Field2\"))\n",
    "\n",
    "plot_overdays(r\"E:\\Data\\Cross_maze\\10224\\Open Field-3-footprint\", save_loc=os.path.join(loc,c, \"10224-Stage2-Open Field3\"))\n",
    "plot_overdays(r\"E:\\Data\\Cross_maze\\10224\\Open Field-4-footprint\", save_loc=os.path.join(loc, \"10224-Stage2-Open Field4\"))\n",
    "\n",
    "plot_overdays(r\"E:\\Data\\Cross_maze\\10212\\Maze1-footprint\", save_loc=os.path.join(loc, \"10212-Stage1-Maze 1\"))\n",
    "plot_overdays(r\"E:\\Data\\Cross_maze\\10212\\Maze1-2-footprint\", save_loc=os.path.join(loc, \"10212-Stage2-Maze 1\"))\n",
    "plot_overdays(r\"E:\\Data\\Cross_maze\\10212\\Maze2-footprint\", save_loc=os.path.join(loc, \"10212-Stage2-Maze 2\"))\n",
    "plot_overdays(r\"E:\\Data\\Cross_maze\\10212\\Open Field-footprint\", save_loc=os.path.join(loc, \"10212-Stage1-Open Field1\"))\n",
    "plot_overdays(r\"E:\\Data\\Cross_maze\\10212\\Open Field-2-footprint\", save_loc=os.path.join(loc, \"10212-Stage1-Open Field2\"))\n",
    "plot_overdays(r\"E:\\Data\\Cross_maze\\10212\\Open Field-3-footprint\", save_loc=os.path.join(loc, \"10212-Stage2-Open Field3\"))\n",
    "plot_overdays(r\"E:\\Data\\Cross_maze\\10212\\Open Field-4-footprint\", save_loc=os.path.join(loc, \"10212-Stage2-Open Field4\"))\n",
    "\n",
    "plot_overdays(r\"E:\\Data\\Cross_maze\\10209\\Maze1-footprint\", save_loc=os.path.join(loc,c, \"10209-Stage1-Maze 1\"))\n",
    "plot_overdays(r\"E:\\Data\\Cross_maze\\10209\\Maze1-2-footprint\", save_loc=os.path.join(loc,c, \"10209-Stage2-Maze 1\"))\n",
    "plot_overdays(r\"E:\\Data\\Cross_maze\\10209\\Maze2-footprint\", save_loc=os.path.join(loc,c, \"10209-Stage2-Maze 2\"))\n",
    "plot_overdays(r\"E:\\Data\\Cross_maze\\10209\\Open Field-footprint\", save_loc=os.path.join(loc, \"10209-Stage1-Open Field1\"))\n",
    "plot_overdays(r\"E:\\Data\\Cross_maze\\10209\\Open Field-2-footprint\", save_loc=os.path.join(loc, \"10209-Stage1-Open Field2\"))\n",
    "plot_overdays(r\"E:\\Data\\Cross_maze\\10209\\Open Field-3-footprint\", save_loc=os.path.join(loc, \"10209-Stage2-Open Field3\"))\n",
    "plot_overdays(r\"E:\\Data\\Cross_maze\\10209\\Open Field-4-footprint\", save_loc=os.path.join(loc, \"10209-Stage2-Open Field4\"))"
   ]
  }
 ],
 "metadata": {
  "kernelspec": {
   "display_name": "maze",
   "language": "python",
   "name": "python3"
  },
  "language_info": {
   "codemirror_mode": {
    "name": "ipython",
    "version": 3
   },
   "file_extension": ".py",
   "mimetype": "text/x-python",
   "name": "python",
   "nbconvert_exporter": "python",
   "pygments_lexer": "ipython3",
   "version": "3.10.14"
  }
 },
 "nbformat": 4,
 "nbformat_minor": 5
}
