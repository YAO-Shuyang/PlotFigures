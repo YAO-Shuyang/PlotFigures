{
 "cells": [
  {
   "cell_type": "code",
   "execution_count": null,
   "metadata": {},
   "outputs": [
    {
     "name": "stdout",
     "output_type": "stream",
     "text": [
      "        E:\\Data\\FinalResults\\Dsp\\0858 - Map Decomposition is already existed!\n"
     ]
    }
   ],
   "source": [
    "from mylib.statistic_test import *\n",
    "from mazepy.datastruc.neuact import NeuralTrajectory, SpikeTrain\n",
    "from mazepy.datastruc.variables import VariableBin\n",
    "from mylib.calcium.dsp_ms import classify_lap\n",
    "\n",
    "from sklearn.cluster import KMeans\n",
    "from sklearn.decomposition import PCA\n",
    "\n",
    "code_id = \"0858 - Map Decomposition\"\n",
    "loc = os.path.join(figpath, \"Dsp\", code_id)\n",
    "mkdir(loc)\n",
    "\n",
    "def get_lapwise_ratemap(trace: dict):    \n",
    "    beg_time, end_time = trace['lap beg time'], trace['lap end time']\n",
    "    beg_idx = np.array([np.where(trace['correct_time'] >= beg_time[i])[0][0] for i in range(beg_time.shape[0])])\n",
    "    routes = classify_lap(spike_nodes_transform(trace['correct_nodes'], 12), beg_idx)\n",
    "    smoothed_map = np.zeros((trace['n_neuron'], 144, beg_idx.shape[0]), dtype = np.float64)\n",
    "    time_boundaries = [trace[f'node {i}']['ms_time_behav'][0] for i in range(10)] + [trace['ms_time'][-1]]\n",
    "    \n",
    "    for i in tqdm(range(beg_idx.shape[0])):\n",
    "        \n",
    "        spike_idx = np.where(\n",
    "            (trace['ms_time'] >= beg_time[i]) & (trace['ms_time'] <= end_time[i]) &\n",
    "            (np.isnan(trace['spike_nodes_original']) == False)\n",
    "        )[0]\n",
    "        \n",
    "        spike_nodes = trace['spike_nodes_original'][spike_idx].astype(np.int64)-1\n",
    "        Spikes = trace['Spikes_original'][:, spike_idx]\n",
    "        \n",
    "        spike_train = SpikeTrain(\n",
    "            activity=Spikes,\n",
    "            time=trace['ms_time'][spike_idx],\n",
    "            variable=VariableBin(spike_nodes),\n",
    "        )\n",
    "        \n",
    "        rate_map = spike_train.calc_tuning_curve(144, t_interv_limits=100)\n",
    "        smoothed_map[:, :, i] = rate_map.to_array() #@ trace['Ms'].T\n",
    "    \n",
    "    nodes = np.digitize((beg_time + end_time) / 2, time_boundaries)-1\n",
    "    \n",
    "    return smoothed_map, routes, nodes\n",
    "    \n",
    "def get_init_centroid(route: int, trace: dict):\n",
    "    bins = np.concatenate([\n",
    "        Father2SonGraph[i] for i in CP_DSP[route]\n",
    "    ])\n",
    "    \n",
    "    lists = [0] if route in [1, 2, 3] else [5]\n",
    "    cent1 = trace[f'node {[0, 1, 2, 3, 6, 7, 8][route]}']['smooth_map_all'][:, bins-1].T.flatten()\n",
    "    cent0 = np.vstack([trace[f'node {n}']['smooth_map_all'][:, bins-1].T.flatten() for n in lists])\n",
    "    cent0 = np.mean(cent0, axis=0)\n",
    "        \n",
    "    return cent0, cent1\n",
    "\n",
    "def _preprocess(route: int, smoothed_map: np.ndarray, routes: np.ndarray, nodes):\n",
    "    idx1 = np.where(routes == route)[0]\n",
    "    if route in [1, 2, 3]:\n",
    "        idx0 = np.where(nodes == 0)[0]\n",
    "    else:\n",
    "        idx0 = np.where(nodes == 5)[0]\n",
    "    \n",
    "    \"\"\"\n",
    "    bins = np.concatenate([\n",
    "        Father2SonGraph[i] for i in CP_DSP[route]\n",
    "    ])\n",
    "    \"\"\"\n",
    "    bins = CP_DSP[route]\n",
    "    smoothed_map = smoothed_map[:, bins-1, :]\n",
    "    routes = routes[np.concatenate([idx0, idx1])]\n",
    "    nodes = nodes[np.concatenate([idx0, idx1])]\n",
    "    \n",
    "    smoothed_map = np.transpose(smoothed_map, (2, 1, 0))\n",
    "    X = np.reshape(smoothed_map, (smoothed_map.shape[0], smoothed_map.shape[1]*smoothed_map.shape[2]))\n",
    "    \n",
    "    cent0 = np.mean(X[idx0, :], axis=0)\n",
    "    cent1 = np.mean(X[idx1, :], axis=0)\n",
    "    \n",
    "    return X[np.concatenate([idx0, idx1]), :], routes, nodes, cent0, cent1\n",
    "    "
   ]
  },
  {
   "cell_type": "markdown",
   "metadata": {},
   "source": [
    "# Cross-day Stability"
   ]
  },
  {
   "cell_type": "code",
   "execution_count": null,
   "metadata": {},
   "outputs": [
    {
     "name": "stderr",
     "output_type": "stream",
     "text": [
      "  0%|          | 0/52 [00:00<?, ?it/s]e:\\Anaconda\\envs\\maze\\lib\\site-packages\\mazepy\\datastruc\\neuact.py:1123: RuntimeWarning: invalid value encountered in divide\n",
      "  firing_rate = spike_counts/(occu_time/1000)\n",
      "100%|██████████| 52/52 [00:02<00:00, 18.22it/s]\n",
      "100%|██████████| 60/60 [00:02<00:00, 21.88it/s]\n",
      " 63%|██████▎   | 38/60 [00:01<00:01, 21.61it/s]"
     ]
    }
   ],
   "source": [
    "if exists(join(figdata, f\"{code_id} [Type 1].pkl\")):\n",
    "    with open(join(figdata, f\"{code_id} [Type 1].pkl\"), \"rb\") as f:\n",
    "        Data = pickle.load(f)\n",
    "else:\n",
    "    Data = {\n",
    "        \"MiceID\": [],\n",
    "        \"Session\": [],\n",
    "        \"Route\": [],\n",
    "        \"Position\": [],\n",
    "        \"Corr\": []\n",
    "    }\n",
    "    \n",
    "    for m, mouse in enumerate([10212, 10224, 10227, 10232]):\n",
    "        with open(f_CellReg_dsp['cellreg_folder'][m+1], 'rb') as handle:\n",
    "            index_map = pickle.load(handle)\n",
    "            \n",
    "            if mouse != 10232:\n",
    "                index_map = index_map[1:, :]\n",
    "            \n",
    "            index_map = index_map.astype(np.int64)\n",
    "        file_idx = np.where(f2['MiceID'] == mouse)[0]\n",
    "        \n",
    "        for j in range(6):\n",
    "            with open(f2['Trace File'][file_idx[j]], 'rb') as handle:\n",
    "                trace1 = pickle.load(handle)\n",
    "            \n",
    "            with open(f2['Trace File'][file_idx[j+1]], 'rb') as handle:\n",
    "                trace2 = pickle.load(handle)\n",
    "        \n",
    "            routes = [1, 2, 6, 7]\n",
    "            bins_of_interest = [\n",
    "                CP_DSP[1][]\n",
    "            ]\n",
    "        \n",
    "            cell_idx = np.where((index_map[j, :] != 0)&(index_map[j+1, :] != 0))[0]\n",
    "            \n",
    "            for n, r in enumerate([1, 2, 4, 5]):\n",
    "                "
   ]
  },
  {
   "cell_type": "code",
   "execution_count": 8,
   "metadata": {},
   "outputs": [
    {
     "name": "stderr",
     "output_type": "stream",
     "text": [
      "  0%|          | 0/130 [00:00<?, ?it/s]e:\\Anaconda\\envs\\maze\\lib\\site-packages\\mazepy\\datastruc\\neuact.py:1123: RuntimeWarning: invalid value encountered in divide\n",
      "  firing_rate = spike_counts/(occu_time/1000)\n",
      "100%|██████████| 130/130 [00:09<00:00, 14.32it/s]\n"
     ]
    }
   ],
   "source": [
    "with open(f2['Trace File'][34], 'rb') as handle:\n",
    "    trace = pickle.load(handle)\n",
    "\n",
    "smoothed_map, routes, nodes = get_lapwise_ratemap(trace)"
   ]
  },
  {
   "cell_type": "code",
   "execution_count": 11,
   "metadata": {},
   "outputs": [
    {
     "name": "stderr",
     "output_type": "stream",
     "text": [
      "e:\\Anaconda\\envs\\maze\\lib\\site-packages\\sklearn\\cluster\\_kmeans.py:1429: UserWarning: KMeans is known to have a memory leak on Windows with MKL, when there are less chunks than available threads. You can avoid it by setting the environment variable OMP_NUM_THREADS=1.\n",
      "  warnings.warn(\n"
     ]
    }
   ],
   "source": [
    "\n",
    "#cent0, cent1 = get_init_centroid(1, trace)\n",
    "smoothed_map_p, routes_p, nodes_p, cent0, cent1 = _preprocess(4, smoothed_map, routes, nodes)\n",
    "pca = PCA(n_components=2)\n",
    "reduced_data = pca.fit_transform(smoothed_map_p)\n",
    "kmean = KMeans(n_clusters=2, init=np.vstack([cent0, cent1]))\n",
    "kmean.fit(smoothed_map_p)\n",
    "labels = kmean.labels_"
   ]
  },
  {
   "cell_type": "code",
   "execution_count": 12,
   "metadata": {},
   "outputs": [
    {
     "data": {
      "text/plain": [
       "<matplotlib.collections.PathCollection at 0x1e1e35095d0>"
      ]
     },
     "execution_count": 12,
     "metadata": {},
     "output_type": "execute_result"
    },
    {
     "data": {
      "image/png": "[encoded data removed]",
      "text/plain": [
       "<Figure size 300x300 with 1 Axes>"
      ]
     },
     "metadata": {},
     "output_type": "display_data"
    },
    {
     "data": {
      "image/png": "[encoded data removed]",
      "text/plain": [
       "<Figure size 300x300 with 1 Axes>"
      ]
     },
     "metadata": {},
     "output_type": "display_data"
    }
   ],
   "source": [
    "plt.figure(figsize=(3, 3))\n",
    "plt.scatter(\n",
    "    reduced_data[:, 0], \n",
    "    reduced_data[:, 1], \n",
    "    s=10,\n",
    "    c=MAPPaletteRGBA[labels, :]#DSPPaletteRGBA[routes_p, :]#\n",
    ")\n",
    "centrd = pca.transform(np.vstack([cent0, cent1]))\n",
    "plt.scatter(\n",
    "    centrd[:, 0], \n",
    "    centrd[:, 1], \n",
    "    s=10,\n",
    "    c='red'\n",
    ")\n",
    "plt.figure(figsize=(3, 3))\n",
    "plt.scatter(\n",
    "    reduced_data[:, 0], \n",
    "    reduced_data[:, 1], \n",
    "    s=10,\n",
    "    c=DSPPaletteRGBA[routes_p, :]#MAPPaletteRGBA[labels, :]#\n",
    ")\n",
    "centrd = pca.transform(np.vstack([cent0, cent1]))\n",
    "plt.scatter(\n",
    "    centrd[:, 0], \n",
    "    centrd[:, 1], \n",
    "    s=10,\n",
    "    c='red'\n",
    ")"
   ]
  }
 ],
 "metadata": {
  "kernelspec": {
   "display_name": "maze",
   "language": "python",
   "name": "python3"
  },
  "language_info": {
   "codemirror_mode": {
    "name": "ipython",
    "version": 3
   },
   "file_extension": ".py",
   "mimetype": "text/x-python",
   "name": "python",
   "nbconvert_exporter": "python",
   "pygments_lexer": "ipython3",
   "version": "3.10.14"
  }
 },
 "nbformat": 4,
 "nbformat_minor": 2
}
