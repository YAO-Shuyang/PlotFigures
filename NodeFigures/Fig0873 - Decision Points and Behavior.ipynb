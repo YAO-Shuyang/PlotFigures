{
 "cells": [
  {
   "cell_type": "code",
   "execution_count": 2,
   "id": "fa4a4fb2",
   "metadata": {},
   "outputs": [
    {
     "name": "stdout",
     "output_type": "stream",
     "text": [
      "        D:\\Data\\FinalResults\\Dsp\\0873 - Decision Points and Behavior is made up successfully!\n"
     ]
    },
    {
     "data": {
      "text/plain": [
       "True"
      ]
     },
     "execution_count": 2,
     "metadata": {},
     "output_type": "execute_result"
    }
   ],
   "source": [
    "from mylib.statistic_test import *\n",
    "\n",
    "code_id = \"0873 - Decision Points and Behavior\"\n",
    "loc = join(figpath, \"Dsp\", code_id)\n",
    "mkdir(loc)"
   ]
  },
  {
   "cell_type": "code",
   "execution_count": null,
   "id": "d5ef9916",
   "metadata": {},
   "outputs": [],
   "source": [
    "DP = DPs"
   ]
  }
 ],
 "metadata": {
  "kernelspec": {
   "display_name": "maze",
   "language": "python",
   "name": "python3"
  },
  "language_info": {
   "codemirror_mode": {
    "name": "ipython",
    "version": 3
   },
   "file_extension": ".py",
   "mimetype": "text/x-python",
   "name": "python",
   "nbconvert_exporter": "python",
   "pygments_lexer": "ipython3",
   "version": "3.10.18"
  }
 },
 "nbformat": 4,
 "nbformat_minor": 5
}
