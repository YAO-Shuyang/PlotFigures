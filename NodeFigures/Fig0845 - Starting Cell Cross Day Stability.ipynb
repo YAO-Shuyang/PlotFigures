{
 "cells": [
  {
   "cell_type": "code",
   "execution_count": 1,
   "metadata": {},
   "outputs": [],
   "source": [
    "from mylib.statistic_test import *\n",
    "\n",
    "code_id = \"0845 - Starting Cell Cross Day Stability\"\n",
    "loc = join(figpath, \"Dsp\", code_id)\n",
    "mkdir(loc)\n",
    "\n",
    "if exists(join(figdata, code_id+'.pkl')) == False:\n",
    "    Data = {\n",
    "        \"MiceID\"\n",
    "    }"
   ]
  }
 ],
 "metadata": {
  "kernelspec": {
   "display_name": "maze",
   "language": "python",
   "name": "python3"
  },
  "language_info": {
   "codemirror_mode": {
    "name": "ipython",
    "version": 3
   },
   "file_extension": ".py",
   "mimetype": "text/x-python",
   "name": "python",
   "nbconvert_exporter": "python",
   "pygments_lexer": "ipython3",
   "version": "3.10.14"
  }
 },
 "nbformat": 4,
 "nbformat_minor": 2
}
