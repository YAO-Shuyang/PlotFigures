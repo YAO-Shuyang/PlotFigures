{
 "cells": [
  {
   "cell_type": "markdown",
   "metadata": {},
   "source": [
    "# Compute lap-wise smoothed rate map for each neuron"
   ]
  },
  {
   "cell_type": "code",
   "execution_count": 7,
   "metadata": {},
   "outputs": [
    {
     "name": "stdout",
     "output_type": "stream",
     "text": [
      "        E:\\Data\\FinalResults\\Dsp\\0837 - Lapwise Ratemap Correlation is already existed!\n"
     ]
    }
   ],
   "source": [
    "from mylib.statistic_test import *\n",
    "from mazepy.datastruc.neuact import SpikeTrain, TuningCurve, NeuralTrajectory\n",
    "from mazepy.datastruc.variables import VariableBin\n",
    "from mylib.calcium.dsp_ms import classify_lap\n",
    "\n",
    "code_id = \"0837 - Lapwise Ratemap Correlation\"\n",
    "loc = join(figpath, \"Dsp\", code_id)\n",
    "mkdir(loc)\n",
    "\n",
    "with open(f2['Trace File'][34], 'rb') as handle:\n",
    "    trace = pickle.load(handle)\n",
    "\n",
    "def get_lapwise_ratemap(trace: dict):    \n",
    "    beg_time, end_time = trace['lap beg time'], trace['lap end time']\n",
    "    beg_idx = np.array([np.where(trace['correct_time'] >= beg_time[i])[0][0] for i in range(beg_time.shape[0])])\n",
    "    routes = classify_lap(spike_nodes_transform(trace['correct_nodes'], 12), beg_idx)\n",
    "    smoothed_map = np.zeros((trace['n_neuron'], 2304, beg_idx.shape[0]), dtype = np.float64)\n",
    "    \n",
    "    print(np.unique(routes))\n",
    "    \n",
    "    for i in tqdm(range(beg_idx.shape[0])):\n",
    "        \n",
    "        spike_idx = np.where(\n",
    "            (trace['ms_time'] >= beg_time[i]) & (trace['ms_time'] <= end_time[i]) &\n",
    "            (np.isnan(trace['spike_nodes_original']) == False)\n",
    "        )[0]\n",
    "        \n",
    "        spike_nodes = trace['spike_nodes_original'][spike_idx].astype(np.int64)-1\n",
    "        Spikes = trace['Spikes_original'][:, spike_idx]\n",
    "        \n",
    "        spike_train = SpikeTrain(\n",
    "            activity=Spikes,\n",
    "            time=trace['ms_time'][spike_idx],\n",
    "            variable=VariableBin(spike_nodes),\n",
    "        )\n",
    "        \n",
    "        rate_map = spike_train.calc_tuning_curve(2304, t_interv_limits=100)\n",
    "        smoothed_map[:, :, i] = rate_map.to_array() @ trace['Ms'].T\n",
    "    \n",
    "    return smoothed_map, routes\n",
    "    \n",
    "#smoothed_map, routes = get_lapwise_ratemap(trace)"
   ]
  },
  {
   "cell_type": "code",
   "execution_count": 17,
   "metadata": {},
   "outputs": [
    {
     "name": "stdout",
     "output_type": "stream",
     "text": [
      "[0 1 2 3 4 5 6]\n"
     ]
    },
    {
     "name": "stderr",
     "output_type": "stream",
     "text": [
      "100%|██████████| 130/130 [00:00<00:00, 150.68it/s]\n"
     ]
    },
    {
     "data": {
      "image/png": "[encoded data removed]",
      "text/plain": [
       "<Figure size 100x300 with 1 Axes>"
      ]
     },
     "metadata": {},
     "output_type": "display_data"
    }
   ],
   "source": [
    "with open(f2['Trace File'][34], 'rb') as handle:\n",
    "    trace = pickle.load(handle)\n",
    "\n",
    "def get_lapwise_oldratemap(trace: dict):    \n",
    "    beg_time, end_time = trace['lap beg time'], trace['lap end time']\n",
    "    beg_idx = np.array([np.where(trace['correct_time'] >= beg_time[i])[0][0] for i in range(beg_time.shape[0])])\n",
    "    routes = classify_lap(spike_nodes_transform(trace['correct_nodes'], 12), beg_idx)\n",
    "    smoothed_map = np.zeros((trace['n_neuron'], 144, beg_idx.shape[0]), dtype = np.float64)\n",
    "    \n",
    "    print(np.unique(routes))\n",
    "    \n",
    "    for i in tqdm(range(beg_idx.shape[0])):\n",
    "        \n",
    "        spike_idx = np.where(\n",
    "            (trace['ms_time'] >= beg_time[i]) & (trace['ms_time'] <= end_time[i]) &\n",
    "            (np.isnan(trace['spike_nodes_original']) == False)\n",
    "        )[0]\n",
    "        \n",
    "        spike_nodes = spike_nodes_transform(trace['spike_nodes_original'][spike_idx].astype(np.int64), 12)-1\n",
    "        Spikes = trace['Spikes_original'][:, spike_idx]\n",
    "        \n",
    "        spike_train = SpikeTrain(\n",
    "            activity=Spikes,\n",
    "            time=trace['ms_time'][spike_idx],\n",
    "            variable=VariableBin(spike_nodes),\n",
    "        )\n",
    "        \n",
    "        rate_map = spike_train.calc_tuning_curve(144, t_interv_limits=100)\n",
    "        # Mask\n",
    "        mask_bins = np.setdiff1d(CP_DSP[0], CP_DSP[routes[i]])-1\n",
    "        rate_map[:, mask_bins] = np.nan\n",
    "        \n",
    "        # sort\n",
    "        cp_bins = CP_DSP[0]\n",
    "        ip_bins = np.setdiff1d(np.arange(1, 145), cp_bins)\n",
    "        smoothed_map[:, :cp_bins.shape[0], i] = rate_map[:, cp_bins-1]\n",
    "        smoothed_map[:, cp_bins.shape[0]:, i] = rate_map[:, ip_bins-1]\n",
    "    \n",
    "    return smoothed_map, routes\n",
    "\n",
    "smoothed_map, routes = get_lapwise_oldratemap(trace)\n",
    "map9 = smoothed_map[9-1, :, :]\n",
    "\n",
    "fig = plt.figure(figsize=(1,3))\n",
    "ax = Clear_Axes(plt.axes())\n",
    "ax.imshow(map9.T)\n",
    "plt.savefig(join(loc, \"example lapwise rate map - 10232, S7, cell 9.png\"), dpi=600)\n",
    "plt.savefig(join(loc, \"example lapwise rate map - 10232, S7, cell 9.svg\"), dpi=600)\n",
    "plt.show()"
   ]
  },
  {
   "cell_type": "markdown",
   "metadata": {},
   "source": [
    "# Compute Spaital Map Correlation with Route 1 on a lap-wise basis"
   ]
  },
  {
   "cell_type": "code",
   "execution_count": 2,
   "metadata": {},
   "outputs": [],
   "source": [
    "def get_lapwise_correlation(trace, smoothed_map, routes):\n",
    "    \n",
    "    corr = np.zeros(routes.shape[0])\n",
    "    route_to_nodes = {\n",
    "        1: 1,\n",
    "        2: 2,\n",
    "        3: 3,\n",
    "        4: 6,\n",
    "        5: 7,\n",
    "        6: 8\n",
    "    }\n",
    "    for n in tqdm(range(routes.shape[0])):\n",
    "        i = n\n",
    "        corr_cell = np.zeros((trace['n_neuron'], 4))\n",
    "        \n",
    "        bins = np.intersect1d(\n",
    "            CP_DSP[routes[i]], CP_DSP[0]\n",
    "        )\n",
    "        son_bins = np.concatenate([Father2SonGraph[k] for k in bins])-1\n",
    "        \n",
    "        for d, j in enumerate([0, 4, 5, 9]):\n",
    "            for k in range(trace['n_neuron']):\n",
    "                corr_cell[k, d] = pearsonr(\n",
    "                    smoothed_map[k, son_bins, i],\n",
    "                    trace[f'node {j}']['smooth_map_all'][k, son_bins]\n",
    "                )[0]\n",
    "        \n",
    "        if routes[i] == 0:\n",
    "            neuron_is_qualified = np.where(\n",
    "                (trace['node 0']['is_placecell'] == 1) |\n",
    "                (trace['node 4']['is_placecell'] == 1) |\n",
    "                (trace['node 5']['is_placecell'] == 1) |\n",
    "                (trace['node 9']['is_placecell'] == 1)\n",
    "            )[0]\n",
    "        else:\n",
    "            neuron_is_qualified = np.where(\n",
    "                (trace[f'node {route_to_nodes[routes[i]]}']['is_placecell'] == 1)\n",
    "            )[0]\n",
    "        corr[n] = np.nanmean(np.nanmean(corr_cell, axis=1)[neuron_is_qualified])\n",
    "    return corr\n",
    "\n",
    "#corr = get_lapwise_correlation(trace, smoothed_map, routes)"
   ]
  },
  {
   "cell_type": "code",
   "execution_count": 36,
   "metadata": {},
   "outputs": [
    {
     "name": "stdout",
     "output_type": "stream",
     "text": [
      "E:\\Data\\Dsp_maze\\10232\\20241025\\trace.pkl\n",
      "[0 1 2 3 4 5 6]\n"
     ]
    },
    {
     "name": "stderr",
     "output_type": "stream",
     "text": [
      "  0%|          | 0/99 [00:00<?, ?it/s]e:\\Anaconda\\envs\\maze\\lib\\site-packages\\mazepy\\datastruc\\neuact.py:1123: RuntimeWarning: invalid value encountered in divide\n",
      "  firing_rate = spike_counts/(occu_time/1000)\n",
      "100%|██████████| 99/99 [00:08<00:00, 11.86it/s]\n",
      "0it [00:00, ?it/s]e:\\Anaconda\\envs\\maze\\lib\\site-packages\\scipy\\stats\\_stats_py.py:4424: ConstantInputWarning: An input array is constant; the correlation coefficient is not defined.\n",
      "  warnings.warn(stats.ConstantInputWarning(msg))\n",
      "C:\\Users\\12454\\AppData\\Local\\Temp\\ipykernel_15336\\1058311514.py:23: RuntimeWarning: Mean of empty slice\n",
      "  corr[n] = np.nanmean(np.nanmean(corr_cell, axis=1))\n",
      "61it [02:08,  2.10s/it]\n"
     ]
    },
    {
     "name": "stdout",
     "output_type": "stream",
     "text": [
      "E:\\Data\\Dsp_maze\\10232\\20241026\\trace.pkl\n",
      "[0 1 2 3 4 5 6]\n"
     ]
    },
    {
     "name": "stderr",
     "output_type": "stream",
     "text": [
      "100%|██████████| 102/102 [00:06<00:00, 14.99it/s]\n",
      "62it [01:44,  1.68s/it]\n"
     ]
    },
    {
     "name": "stdout",
     "output_type": "stream",
     "text": [
      "E:\\Data\\Dsp_maze\\10232\\20241027\\trace.pkl\n",
      "[0 1 2 3 4 5 6]\n"
     ]
    },
    {
     "name": "stderr",
     "output_type": "stream",
     "text": [
      "100%|██████████| 100/100 [00:06<00:00, 16.53it/s]\n",
      "61it [01:34,  1.55s/it]\n"
     ]
    },
    {
     "name": "stdout",
     "output_type": "stream",
     "text": [
      "E:\\Data\\Dsp_maze\\10232\\20241028\\trace.pkl\n",
      "[0 1 2 3 4 5 6]\n"
     ]
    },
    {
     "name": "stderr",
     "output_type": "stream",
     "text": [
      "100%|██████████| 108/108 [00:08<00:00, 12.14it/s]\n",
      "67it [01:49,  1.64s/it]\n"
     ]
    },
    {
     "name": "stdout",
     "output_type": "stream",
     "text": [
      "E:\\Data\\Dsp_maze\\10232\\20241029\\trace.pkl\n",
      "[0 1 2 3 4 5 6]\n"
     ]
    },
    {
     "name": "stderr",
     "output_type": "stream",
     "text": [
      "100%|██████████| 117/117 [00:07<00:00, 15.00it/s]\n",
      "71it [01:57,  1.65s/it]\n"
     ]
    },
    {
     "name": "stdout",
     "output_type": "stream",
     "text": [
      "E:\\Data\\Dsp_maze\\10232\\20241030\\trace.pkl\n",
      "[0 1 2 3 4 5 6]\n"
     ]
    },
    {
     "name": "stderr",
     "output_type": "stream",
     "text": [
      "100%|██████████| 120/120 [00:09<00:00, 12.24it/s]\n",
      "72it [01:43,  1.44s/it]\n"
     ]
    },
    {
     "name": "stdout",
     "output_type": "stream",
     "text": [
      "E:\\Data\\Dsp_maze\\10232\\20241031\\trace.pkl\n",
      "[0 1 2 3 4 5 6]\n"
     ]
    },
    {
     "name": "stderr",
     "output_type": "stream",
     "text": [
      "100%|██████████| 130/130 [00:07<00:00, 16.37it/s]\n",
      "78it [01:50,  1.42s/it]\n"
     ]
    }
   ],
   "source": [
    "def plot(mouse = 10232):\n",
    "    idx = np.where(f2['MiceID'] == mouse)[0]\n",
    "    \n",
    "    corr = []\n",
    "    route = []\n",
    "    for i in idx:\n",
    "        print(f2['Trace File'][i])\n",
    "        with open(f2['Trace File'][i], 'rb') as handle:\n",
    "            trace = pickle.load(handle)\n",
    "        smoothed_map, routes = get_lapwise_ratemap(trace)\n",
    "        corr.append(get_lapwise_correlation(trace, smoothed_map, routes))\n",
    "        route.append(routes[routes != 0])\n",
    "    \n",
    "    corr = np.concatenate(corr)\n",
    "    route = np.concatenate(route)\n",
    "    return corr, route\n",
    "\n",
    "corr, route = plot(mouse = 10232)"
   ]
  },
  {
   "cell_type": "code",
   "execution_count": 4,
   "metadata": {},
   "outputs": [
    {
     "name": "stderr",
     "output_type": "stream",
     "text": [
      "100%|██████████| 35/35 [00:38<00:00,  1.10s/it]\n"
     ]
    }
   ],
   "source": [
    "if exists(join(figdata, code_id + ' .pkl')) == False:\n",
    "    Data = {\n",
    "        \"MiceID\": [],\n",
    "        \"Correlation\": [],\n",
    "        \"Route\": [],\n",
    "        \"Training Day\": []\n",
    "    }\n",
    "    \n",
    "    for i in tqdm(range(len(f2))):\n",
    "        with open(f2['Trace File'][i], 'rb') as handle:\n",
    "            trace = pickle.load(handle)\n",
    "            \n",
    "        beg, end = LapSplit(trace, trace['paradigm'])\n",
    "        routes = classify_lap(spike_nodes_transform(trace['correct_nodes'], 12), beg)\n",
    "        corr = trace['lapwise_corr']\n",
    "            \n",
    "        idx = np.where((routes != 0))[0]\n",
    "        corr = corr[idx]\n",
    "        Data['MiceID'].append(np.repeat(f2['MiceID'][i], corr.shape[0]))\n",
    "        Data['Correlation'].append(corr)\n",
    "        Data['Route'].append(routes[(routes != 0)])\n",
    "        Data['Training Day'].append(np.repeat(f2['training_day'][i], corr.shape[0]))\n",
    "        \n",
    "    for k in Data.keys():\n",
    "        Data[k] = np.concatenate(Data[k])\n",
    "    \n",
    "    with open(join(figdata, code_id + '.pkl'), 'wb') as handle:\n",
    "        pickle.dump(Data, handle)\n",
    "        \n",
    "    D = pd.DataFrame(Data)\n",
    "    D.to_excel(join(figdata, code_id + '.xlsx'), index = False)\n",
    "else:\n",
    "    with open(join(figdata, code_id + '.pkl'), 'rb') as handle:\n",
    "        Data = pickle.load(handle)\n",
    "\n",
    "Data = SubDict(Data, Data.keys(), np.where(Data['MiceID'] != 10209)[0])"
   ]
  },
  {
   "cell_type": "code",
   "execution_count": 5,
   "metadata": {},
   "outputs": [
    {
     "data": {
      "image/png": "[encoded data removed]",
      "text/plain": [
       "<Figure size 400x300 with 1 Axes>"
      ]
     },
     "metadata": {},
     "output_type": "display_data"
    }
   ],
   "source": [
    "fig = plt.figure(figsize = (4,3))\n",
    "ax = Clear_Axes(plt.axes(), close_spines=['top', 'right'], ifxticks=True, ifyticks=True)\n",
    "sns.stripplot(\n",
    "    x = 'Route',\n",
    "    y = 'Correlation',\n",
    "    order=[4, 1, 5, 2, 6, 3],\n",
    "    data = Data,\n",
    "    hue = 'MiceID',\n",
    "    palette = ['#F2E8D4', '#8E9F85', '#C3AED6', '#A7D8DE'],\n",
    "    size = 2,\n",
    "    linewidth=0.1,\n",
    "    dodge=True,\n",
    "    jitter=0.2,\n",
    "    ax = ax\n",
    ")\n",
    "ax.set_ylim([-0.1, 0.6])\n",
    "ax.set_yticks(np.linspace(-0.1, 0.6, 8))\n",
    "plt.savefig(join(loc, \"Lapwise Correlation.png\"), dpi = 600)\n",
    "plt.savefig(join(loc, \"Lapwise Correlation.svg\"), dpi = 600)\n",
    "plt.show()"
   ]
  },
  {
   "cell_type": "code",
   "execution_count": 6,
   "metadata": {},
   "outputs": [
    {
     "name": "stderr",
     "output_type": "stream",
     "text": [
      "e:\\Anaconda\\envs\\maze\\lib\\site-packages\\sklearn\\cluster\\_kmeans.py:1429: UserWarning: KMeans is known to have a memory leak on Windows with MKL, when there are less chunks than available threads. You can avoid it by setting the environment variable OMP_NUM_THREADS=2.\n",
      "  warnings.warn(\n"
     ]
    },
    {
     "name": "stdout",
     "output_type": "stream",
     "text": [
      "10212 [0.114]\n"
     ]
    },
    {
     "data": {
      "image/png": "[encoded data removed]",
      "text/plain": [
       "<Figure size 400x100 with 1 Axes>"
      ]
     },
     "metadata": {},
     "output_type": "display_data"
    },
    {
     "name": "stderr",
     "output_type": "stream",
     "text": [
      "e:\\Anaconda\\envs\\maze\\lib\\site-packages\\sklearn\\cluster\\_kmeans.py:1429: UserWarning: KMeans is known to have a memory leak on Windows with MKL, when there are less chunks than available threads. You can avoid it by setting the environment variable OMP_NUM_THREADS=2.\n",
      "  warnings.warn(\n"
     ]
    },
    {
     "name": "stdout",
     "output_type": "stream",
     "text": [
      "10224 [0.0815]\n"
     ]
    },
    {
     "data": {
      "image/png": "[encoded data removed]",
      "text/plain": [
       "<Figure size 400x100 with 1 Axes>"
      ]
     },
     "metadata": {},
     "output_type": "display_data"
    },
    {
     "name": "stderr",
     "output_type": "stream",
     "text": [
      "e:\\Anaconda\\envs\\maze\\lib\\site-packages\\sklearn\\cluster\\_kmeans.py:1429: UserWarning: KMeans is known to have a memory leak on Windows with MKL, when there are less chunks than available threads. You can avoid it by setting the environment variable OMP_NUM_THREADS=2.\n",
      "  warnings.warn(\n"
     ]
    },
    {
     "name": "stdout",
     "output_type": "stream",
     "text": [
      "10227 [0.0751]\n"
     ]
    },
    {
     "data": {
      "image/png": "[encoded data removed]",
      "text/plain": [
       "<Figure size 400x100 with 1 Axes>"
      ]
     },
     "metadata": {},
     "output_type": "display_data"
    },
    {
     "name": "stderr",
     "output_type": "stream",
     "text": [
      "e:\\Anaconda\\envs\\maze\\lib\\site-packages\\sklearn\\cluster\\_kmeans.py:1429: UserWarning: KMeans is known to have a memory leak on Windows with MKL, when there are less chunks than available threads. You can avoid it by setting the environment variable OMP_NUM_THREADS=2.\n",
      "  warnings.warn(\n"
     ]
    },
    {
     "name": "stdout",
     "output_type": "stream",
     "text": [
      "10232 [0.0956]\n"
     ]
    },
    {
     "data": {
      "image/png": "[encoded data removed]",
      "text/plain": [
       "<Figure size 400x100 with 1 Axes>"
      ]
     },
     "metadata": {},
     "output_type": "display_data"
    },
    {
     "name": "stdout",
     "output_type": "stream",
     "text": [
      "  Mean: 0.09154999999999999, STD: 0.014933268229024745, Max: 0.11399999999999996, Min: 0.07509999999999997, Median: 0.08854999999999999, df: 3\n"
     ]
    }
   ],
   "source": [
    "from sklearn.mixture import GaussianMixture\n",
    "from skimage.filters import threshold_otsu\n",
    "\n",
    "\n",
    "colors = ['#F2E8D4', '#8E9F85', '#C3AED6', '#A7D8DE']\n",
    "thres = np.zeros(4)\n",
    "for i, mice in enumerate(np.unique(Data['MiceID'])):\n",
    "    idx = np.where((Data['MiceID'] == mice) & (np.isnan(Data['Correlation']) == False))[0]\n",
    "    \n",
    "    gmm = GaussianMixture(n_components=2, random_state=42)\n",
    "    gmm.fit(Data['Correlation'][idx].reshape(-1, 1))\n",
    "    x = np.linspace(-0.1, 0.6, 7001)[:, np.newaxis]\n",
    "    pdf = np.exp(gmm.score_samples(x))\n",
    "    means = gmm.means_\n",
    "    min_mean, max_mean = np.min(means), np.max(means)\n",
    "    min_idx = np.argmin(pdf[np.where((x >= min_mean) & (x <= max_mean))[0]]) + np.where(x >= min_mean)[0][0]\n",
    "    threshold = x[min_idx]\n",
    "    print(mice, threshold)\n",
    "    thres[i] = threshold[0]\n",
    "    \n",
    "    fig = plt.figure(figsize = (4,1))\n",
    "    ax = Clear_Axes(plt.axes(), close_spines=['top', 'right'], ifxticks=True, ifyticks=True)\n",
    "    ax.hist(\n",
    "        Data['Correlation'][idx],\n",
    "        range = [-0.1, 0.6],\n",
    "        bins = 35,\n",
    "        histtype='stepfilled',\n",
    "        color = colors[i],\n",
    "        linewidth = 0.5,\n",
    "        density=True,\n",
    "        edgecolor='k'\n",
    "    )\n",
    "    ax.axvline(threshold, color = 'k', linewidth = 0.5)\n",
    "    ax.plot(x, pdf, color = 'k', linewidth = 0.5)\n",
    "    ax.set_xlim([-0.1, 0.6])\n",
    "    ax.set_xticks(np.linspace(-0.1, 0.6, 8))\n",
    "    plt.savefig(join(loc, f\"Lapwise Correlation Histogram [{mice}].png\"), dpi = 600)\n",
    "    plt.savefig(join(loc, f\"Lapwise Correlation Histogram [{mice}].svg\"), dpi = 600)\n",
    "    plt.show()\n",
    "    \n",
    "print_estimator(thres)"
   ]
  },
  {
   "cell_type": "code",
   "execution_count": 3,
   "metadata": {},
   "outputs": [
    {
     "name": "stdout",
     "output_type": "stream",
     "text": [
      "E:\\Data\\Dsp_maze\\10209\\20230524\\trace.pkl\n",
      "[0 1 2 3 4 5 6]\n"
     ]
    },
    {
     "name": "stderr",
     "output_type": "stream",
     "text": [
      "  0%|          | 0/52 [00:00<?, ?it/s]e:\\Anaconda\\envs\\maze\\lib\\site-packages\\mazepy\\datastruc\\neuact.py:1123: RuntimeWarning: invalid value encountered in divide\n",
      "  firing_rate = spike_counts/(occu_time/1000)\n",
      "100%|██████████| 52/52 [00:01<00:00, 32.16it/s]\n",
      "  0%|          | 0/52 [00:00<?, ?it/s]e:\\Anaconda\\envs\\maze\\lib\\site-packages\\scipy\\stats\\_stats_py.py:4424: ConstantInputWarning: An input array is constant; the correlation coefficient is not defined.\n",
      "  warnings.warn(stats.ConstantInputWarning(msg))\n",
      "C:\\Users\\12454\\AppData\\Local\\Temp\\ipykernel_24560\\2005170711.py:39: RuntimeWarning: Mean of empty slice\n",
      "  corr[n] = np.nanmean(np.nanmean(corr_cell, axis=1)[neuron_is_qualified])\n",
      "100%|██████████| 52/52 [00:20<00:00,  2.54it/s]\n"
     ]
    },
    {
     "name": "stdout",
     "output_type": "stream",
     "text": [
      "E:\\Data\\Dsp_maze\\10212\\20230524\\trace.pkl\n",
      "[0 1 2 3 4 5 6]\n"
     ]
    },
    {
     "name": "stderr",
     "output_type": "stream",
     "text": [
      "100%|██████████| 52/52 [00:01<00:00, 32.43it/s]\n",
      "100%|██████████| 52/52 [00:23<00:00,  2.24it/s]\n"
     ]
    },
    {
     "name": "stdout",
     "output_type": "stream",
     "text": [
      "E:\\Data\\Dsp_maze\\10209\\20230526\\trace.pkl\n",
      "[0 1 2 3 4 5 6]\n"
     ]
    },
    {
     "name": "stderr",
     "output_type": "stream",
     "text": [
      "100%|██████████| 61/61 [00:01<00:00, 39.56it/s]\n",
      "100%|██████████| 61/61 [00:19<00:00,  3.10it/s]\n"
     ]
    },
    {
     "name": "stdout",
     "output_type": "stream",
     "text": [
      "E:\\Data\\Dsp_maze\\10212\\20230526\\trace.pkl\n",
      "[0 1 2 3 4 5 6]\n"
     ]
    },
    {
     "name": "stderr",
     "output_type": "stream",
     "text": [
      "100%|██████████| 60/60 [00:01<00:00, 30.75it/s]\n",
      "100%|██████████| 60/60 [00:28<00:00,  2.14it/s]\n"
     ]
    },
    {
     "name": "stdout",
     "output_type": "stream",
     "text": [
      "E:\\Data\\Dsp_maze\\10209\\20230528\\trace.pkl\n",
      "[0 1 2 3 4 5 6]\n"
     ]
    },
    {
     "name": "stderr",
     "output_type": "stream",
     "text": [
      "100%|██████████| 69/69 [00:02<00:00, 28.64it/s]\n",
      "100%|██████████| 69/69 [00:30<00:00,  2.25it/s]\n"
     ]
    },
    {
     "name": "stdout",
     "output_type": "stream",
     "text": [
      "E:\\Data\\Dsp_maze\\10212\\20230528\\trace.pkl\n",
      "[0 1 2 3 4 5 6]\n"
     ]
    },
    {
     "name": "stderr",
     "output_type": "stream",
     "text": [
      "100%|██████████| 74/74 [00:04<00:00, 18.08it/s]\n",
      "100%|██████████| 74/74 [00:42<00:00,  1.76it/s]\n"
     ]
    },
    {
     "name": "stdout",
     "output_type": "stream",
     "text": [
      "E:\\Data\\Dsp_maze\\10209\\20230529\\trace.pkl\n",
      "[0 1 2 3 4 5 6]\n"
     ]
    },
    {
     "name": "stderr",
     "output_type": "stream",
     "text": [
      "100%|██████████| 65/65 [00:02<00:00, 25.81it/s]\n",
      "100%|██████████| 65/65 [00:32<00:00,  1.98it/s]\n"
     ]
    },
    {
     "name": "stdout",
     "output_type": "stream",
     "text": [
      "E:\\Data\\Dsp_maze\\10212\\20230529\\trace.pkl\n",
      "[0 1 2 3 4 5 6]\n"
     ]
    },
    {
     "name": "stderr",
     "output_type": "stream",
     "text": [
      "100%|██████████| 82/82 [00:03<00:00, 25.06it/s]\n",
      "100%|██████████| 82/82 [00:40<00:00,  2.03it/s]\n"
     ]
    },
    {
     "name": "stdout",
     "output_type": "stream",
     "text": [
      "E:\\Data\\Dsp_maze\\10209\\20230530\\trace.pkl\n",
      "[0 1 2 3 4 5 6]\n"
     ]
    },
    {
     "name": "stderr",
     "output_type": "stream",
     "text": [
      "100%|██████████| 60/60 [00:01<00:00, 36.60it/s]\n",
      "100%|██████████| 60/60 [00:19<00:00,  3.05it/s]\n"
     ]
    },
    {
     "name": "stdout",
     "output_type": "stream",
     "text": [
      "E:\\Data\\Dsp_maze\\10212\\20230530\\trace.pkl\n",
      "[0 1 2 3 4 5 6]\n"
     ]
    },
    {
     "name": "stderr",
     "output_type": "stream",
     "text": [
      "100%|██████████| 80/80 [00:02<00:00, 32.15it/s]\n",
      "100%|██████████| 80/80 [00:36<00:00,  2.21it/s]\n"
     ]
    },
    {
     "name": "stdout",
     "output_type": "stream",
     "text": [
      "E:\\Data\\Dsp_maze\\10209\\20230601\\trace.pkl\n",
      "[0 1 2 3 4 5 6]\n"
     ]
    },
    {
     "name": "stderr",
     "output_type": "stream",
     "text": [
      "100%|██████████| 75/75 [00:01<00:00, 44.83it/s]\n",
      "100%|██████████| 75/75 [00:20<00:00,  3.70it/s]\n"
     ]
    },
    {
     "name": "stdout",
     "output_type": "stream",
     "text": [
      "E:\\Data\\Dsp_maze\\10212\\20230601\\trace.pkl\n",
      "[0 1 2 3 4 5 6]\n"
     ]
    },
    {
     "name": "stderr",
     "output_type": "stream",
     "text": [
      "100%|██████████| 101/101 [00:03<00:00, 32.09it/s]\n",
      "100%|██████████| 101/101 [00:46<00:00,  2.17it/s]\n"
     ]
    },
    {
     "name": "stdout",
     "output_type": "stream",
     "text": [
      "E:\\Data\\Dsp_maze\\10209\\20230602\\trace.pkl\n",
      "[0 1 2 3 4 5 6]\n"
     ]
    },
    {
     "name": "stderr",
     "output_type": "stream",
     "text": [
      "100%|██████████| 80/80 [00:02<00:00, 39.87it/s]\n",
      "100%|██████████| 80/80 [00:24<00:00,  3.20it/s]\n"
     ]
    },
    {
     "name": "stdout",
     "output_type": "stream",
     "text": [
      "E:\\Data\\Dsp_maze\\10212\\20230602\\trace.pkl\n",
      "[0 1 2 3 4 5 6]\n"
     ]
    },
    {
     "name": "stderr",
     "output_type": "stream",
     "text": [
      "100%|██████████| 100/100 [00:03<00:00, 30.72it/s]\n",
      "100%|██████████| 100/100 [00:44<00:00,  2.24it/s]\n"
     ]
    },
    {
     "name": "stdout",
     "output_type": "stream",
     "text": [
      "E:\\Data\\Dsp_maze\\10224\\20231009\\trace.pkl\n",
      "[0 1 2 3 4 5 6]\n"
     ]
    },
    {
     "name": "stderr",
     "output_type": "stream",
     "text": [
      "100%|██████████| 89/89 [00:04<00:00, 20.95it/s]\n",
      "100%|██████████| 89/89 [00:59<00:00,  1.49it/s]\n"
     ]
    },
    {
     "name": "stdout",
     "output_type": "stream",
     "text": [
      "E:\\Data\\Dsp_maze\\10227\\20231009\\trace.pkl\n",
      "[0 1 2 3 4 5 6]\n"
     ]
    },
    {
     "name": "stderr",
     "output_type": "stream",
     "text": [
      "100%|██████████| 68/68 [00:04<00:00, 14.73it/s]\n",
      "100%|██████████| 68/68 [01:08<00:00,  1.00s/it]\n"
     ]
    },
    {
     "name": "stdout",
     "output_type": "stream",
     "text": [
      "E:\\Data\\Dsp_maze\\10224\\20231010\\trace.pkl\n",
      "[0 1 2 3 4 5 6]\n"
     ]
    },
    {
     "name": "stderr",
     "output_type": "stream",
     "text": [
      "100%|██████████| 92/92 [00:03<00:00, 24.21it/s]\n",
      "100%|██████████| 92/92 [00:52<00:00,  1.77it/s]\n"
     ]
    },
    {
     "name": "stdout",
     "output_type": "stream",
     "text": [
      "E:\\Data\\Dsp_maze\\10227\\20231010\\trace.pkl\n",
      "[0 1 2 3 4 5 6]\n"
     ]
    },
    {
     "name": "stderr",
     "output_type": "stream",
     "text": [
      "100%|██████████| 88/88 [00:05<00:00, 15.30it/s]\n",
      "100%|██████████| 88/88 [01:22<00:00,  1.06it/s]\n"
     ]
    },
    {
     "name": "stdout",
     "output_type": "stream",
     "text": [
      "E:\\Data\\Dsp_maze\\10224\\20231011\\trace.pkl\n",
      "[0 1 2 3 4 5 6]\n"
     ]
    },
    {
     "name": "stderr",
     "output_type": "stream",
     "text": [
      "100%|██████████| 89/89 [00:03<00:00, 24.03it/s]\n",
      "100%|██████████| 89/89 [00:51<00:00,  1.73it/s]\n"
     ]
    },
    {
     "name": "stdout",
     "output_type": "stream",
     "text": [
      "E:\\Data\\Dsp_maze\\10227\\20231011\\trace.pkl\n",
      "[0 1 2 3 4 5 6]\n"
     ]
    },
    {
     "name": "stderr",
     "output_type": "stream",
     "text": [
      "100%|██████████| 83/83 [00:04<00:00, 18.27it/s]\n",
      "100%|██████████| 83/83 [01:07<00:00,  1.23it/s]\n"
     ]
    },
    {
     "name": "stdout",
     "output_type": "stream",
     "text": [
      "E:\\Data\\Dsp_maze\\10224\\20231012\\trace.pkl\n",
      "[0 1 2 3 4 5 6]\n"
     ]
    },
    {
     "name": "stderr",
     "output_type": "stream",
     "text": [
      "100%|██████████| 97/97 [00:04<00:00, 23.42it/s]\n",
      "100%|██████████| 97/97 [00:59<00:00,  1.64it/s]\n"
     ]
    },
    {
     "name": "stdout",
     "output_type": "stream",
     "text": [
      "E:\\Data\\Dsp_maze\\10227\\20231012\\trace.pkl\n",
      "[0 1 2 3 4 5 6]\n"
     ]
    },
    {
     "name": "stderr",
     "output_type": "stream",
     "text": [
      "100%|██████████| 93/93 [00:06<00:00, 13.93it/s]\n",
      "100%|██████████| 93/93 [01:53<00:00,  1.22s/it]\n"
     ]
    },
    {
     "name": "stdout",
     "output_type": "stream",
     "text": [
      "E:\\Data\\Dsp_maze\\10224\\20231013\\trace.pkl\n",
      "[0 1 2 3 4 5 6]\n"
     ]
    },
    {
     "name": "stderr",
     "output_type": "stream",
     "text": [
      "100%|██████████| 99/99 [00:08<00:00, 11.95it/s]\n",
      "100%|██████████| 99/99 [01:24<00:00,  1.17it/s]\n"
     ]
    },
    {
     "name": "stdout",
     "output_type": "stream",
     "text": [
      "E:\\Data\\Dsp_maze\\10227\\20231013\\trace.pkl\n",
      "[0 1 2 3 4 5 6]\n"
     ]
    },
    {
     "name": "stderr",
     "output_type": "stream",
     "text": [
      "100%|██████████| 92/92 [00:05<00:00, 15.48it/s]\n",
      "100%|██████████| 92/92 [01:22<00:00,  1.11it/s]\n"
     ]
    },
    {
     "name": "stdout",
     "output_type": "stream",
     "text": [
      "E:\\Data\\Dsp_maze\\10224\\20231014\\trace.pkl\n",
      "[0 1 2 3 4 5 6]\n"
     ]
    },
    {
     "name": "stderr",
     "output_type": "stream",
     "text": [
      "100%|██████████| 100/100 [00:04<00:00, 24.61it/s]\n",
      "100%|██████████| 100/100 [00:59<00:00,  1.69it/s]\n"
     ]
    },
    {
     "name": "stdout",
     "output_type": "stream",
     "text": [
      "E:\\Data\\Dsp_maze\\10227\\20231014\\trace.pkl\n",
      "[0 1 2 3 4 5 6]\n"
     ]
    },
    {
     "name": "stderr",
     "output_type": "stream",
     "text": [
      "100%|██████████| 100/100 [00:05<00:00, 18.12it/s]\n",
      "100%|██████████| 100/100 [01:21<00:00,  1.23it/s]\n"
     ]
    },
    {
     "name": "stdout",
     "output_type": "stream",
     "text": [
      "E:\\Data\\Dsp_maze\\10224\\20231015\\trace.pkl\n",
      "[0 1 2 3 4 5 6]\n"
     ]
    },
    {
     "name": "stderr",
     "output_type": "stream",
     "text": [
      "100%|██████████| 101/101 [00:03<00:00, 25.67it/s]\n",
      "100%|██████████| 101/101 [00:53<00:00,  1.90it/s]\n"
     ]
    },
    {
     "name": "stdout",
     "output_type": "stream",
     "text": [
      "E:\\Data\\Dsp_maze\\10227\\20231015\\trace.pkl\n",
      "[0 1 2 3 4 5 6]\n"
     ]
    },
    {
     "name": "stderr",
     "output_type": "stream",
     "text": [
      "100%|██████████| 95/95 [00:05<00:00, 18.40it/s]\n",
      "100%|██████████| 95/95 [01:15<00:00,  1.25it/s]\n"
     ]
    },
    {
     "name": "stdout",
     "output_type": "stream",
     "text": [
      "E:\\Data\\Dsp_maze\\10232\\20241025\\trace.pkl\n",
      "[0 1 2 3 4 5 6]\n"
     ]
    },
    {
     "name": "stderr",
     "output_type": "stream",
     "text": [
      "100%|██████████| 99/99 [00:06<00:00, 15.89it/s]\n",
      "100%|██████████| 99/99 [01:30<00:00,  1.10it/s]\n"
     ]
    },
    {
     "name": "stdout",
     "output_type": "stream",
     "text": [
      "E:\\Data\\Dsp_maze\\10232\\20241026\\trace.pkl\n",
      "[0 1 2 3 4 5 6]\n"
     ]
    },
    {
     "name": "stderr",
     "output_type": "stream",
     "text": [
      "100%|██████████| 102/102 [00:05<00:00, 19.35it/s]\n",
      "100%|██████████| 102/102 [01:14<00:00,  1.38it/s]\n"
     ]
    },
    {
     "name": "stdout",
     "output_type": "stream",
     "text": [
      "E:\\Data\\Dsp_maze\\10232\\20241027\\trace.pkl\n",
      "[0 1 2 3 4 5 6]\n"
     ]
    },
    {
     "name": "stderr",
     "output_type": "stream",
     "text": [
      "100%|██████████| 100/100 [00:04<00:00, 20.94it/s]\n",
      "100%|██████████| 100/100 [01:02<00:00,  1.59it/s]\n"
     ]
    },
    {
     "name": "stdout",
     "output_type": "stream",
     "text": [
      "E:\\Data\\Dsp_maze\\10232\\20241028\\trace.pkl\n",
      "[0 1 2 3 4 5 6]\n"
     ]
    },
    {
     "name": "stderr",
     "output_type": "stream",
     "text": [
      "100%|██████████| 108/108 [00:05<00:00, 19.33it/s]\n",
      "100%|██████████| 108/108 [01:11<00:00,  1.51it/s]\n"
     ]
    },
    {
     "name": "stdout",
     "output_type": "stream",
     "text": [
      "E:\\Data\\Dsp_maze\\10232\\20241029\\trace.pkl\n",
      "[0 1 2 3 4 5 6]\n"
     ]
    },
    {
     "name": "stderr",
     "output_type": "stream",
     "text": [
      "100%|██████████| 117/117 [00:05<00:00, 19.72it/s]\n",
      "100%|██████████| 117/117 [01:22<00:00,  1.41it/s]\n"
     ]
    },
    {
     "name": "stdout",
     "output_type": "stream",
     "text": [
      "E:\\Data\\Dsp_maze\\10232\\20241030\\trace.pkl\n",
      "[0 1 2 3 4 5 6]\n"
     ]
    },
    {
     "name": "stderr",
     "output_type": "stream",
     "text": [
      "100%|██████████| 120/120 [00:05<00:00, 22.93it/s]\n",
      "100%|██████████| 120/120 [01:12<00:00,  1.65it/s]\n"
     ]
    },
    {
     "name": "stdout",
     "output_type": "stream",
     "text": [
      "E:\\Data\\Dsp_maze\\10232\\20241031\\trace.pkl\n",
      "[0 1 2 3 4 5 6]\n"
     ]
    },
    {
     "name": "stderr",
     "output_type": "stream",
     "text": [
      "100%|██████████| 130/130 [00:05<00:00, 23.26it/s]\n",
      "100%|██████████| 130/130 [01:11<00:00,  1.83it/s]\n"
     ]
    }
   ],
   "source": [
    "for i in range(len(f2)):\n",
    "    with open(f2['Trace File'][i], 'rb') as handle:\n",
    "        trace = pickle.load(handle)\n",
    "        \n",
    "    print(f2['Trace File'][i])\n",
    "        \n",
    "    smoothed_map, routes = get_lapwise_ratemap(trace)\n",
    "    corr = get_lapwise_correlation(trace, smoothed_map, routes)\n",
    "    trace['lapwise_corr_pc'] = corr\n",
    "    \n",
    "    with open(f2['Trace File'][i], 'wb') as handle:\n",
    "        pickle.dump(trace, handle)"
   ]
  },
  {
   "cell_type": "code",
   "execution_count": null,
   "metadata": {},
   "outputs": [],
   "source": []
  }
 ],
 "metadata": {
  "kernelspec": {
   "display_name": "maze",
   "language": "python",
   "name": "python3"
  },
  "language_info": {
   "codemirror_mode": {
    "name": "ipython",
    "version": 3
   },
   "file_extension": ".py",
   "mimetype": "text/x-python",
   "name": "python",
   "nbconvert_exporter": "python",
   "pygments_lexer": "ipython3",
   "version": "3.10.14"
  }
 },
 "nbformat": 4,
 "nbformat_minor": 2
}
