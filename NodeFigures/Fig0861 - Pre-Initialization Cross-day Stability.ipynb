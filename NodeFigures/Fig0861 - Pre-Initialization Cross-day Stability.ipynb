{
 "cells": [
  {
   "cell_type": "code",
   "execution_count": null,
   "id": "b9b86bc6",
   "metadata": {},
   "outputs": [
    {
     "name": "stdout",
     "output_type": "stream",
     "text": [
      "        E:\\Data\\FinalResults\\Dsp\\0861 - Pre-Initialization Cross-day Stability is already existed!\n",
      "10212 ------------------\n"
     ]
    },
    {
     "name": "stderr",
     "output_type": "stream",
     "text": [
      "  0%|          | 0/6 [00:00<?, ?it/s]"
     ]
    },
    {
     "name": "stdout",
     "output_type": "stream",
     "text": [
      "  R2 D1->2     159\n",
      "  R3 D1->2     154\n",
      "  R4 D1->2     160\n",
      "  R5 D1->2     160\n",
      "  R6 D1->2     151\n"
     ]
    },
    {
     "name": "stderr",
     "output_type": "stream",
     "text": [
      " 17%|█▋        | 1/6 [00:02<00:14,  2.98s/it]"
     ]
    },
    {
     "name": "stdout",
     "output_type": "stream",
     "text": [
      "  R7 D1->2     152\n",
      "  R2 D2->3     170\n",
      "  R3 D2->3     169\n",
      "  R4 D2->3     171\n",
      "  R5 D2->3     168\n",
      "  R6 D2->3     170\n"
     ]
    },
    {
     "name": "stderr",
     "output_type": "stream",
     "text": [
      " 33%|███▎      | 2/6 [00:05<00:10,  2.63s/it]"
     ]
    },
    {
     "name": "stdout",
     "output_type": "stream",
     "text": [
      "  R7 D2->3     169\n",
      "  R2 D3->4     175\n",
      "  R3 D3->4     176\n",
      "  R4 D3->4     170\n",
      "  R5 D3->4     175\n"
     ]
    },
    {
     "name": "stderr",
     "output_type": "stream",
     "text": [
      " 50%|█████     | 3/6 [00:08<00:07,  2.64s/it]"
     ]
    },
    {
     "name": "stdout",
     "output_type": "stream",
     "text": [
      "  R6 D3->4     172\n",
      "  R7 D3->4     171\n",
      "  R2 D4->5     168\n",
      "  R3 D4->5     171\n",
      "  R4 D4->5     163\n",
      "  R5 D4->5     170\n"
     ]
    },
    {
     "name": "stderr",
     "output_type": "stream",
     "text": [
      " 67%|██████▋   | 4/6 [00:10<00:05,  2.73s/it]"
     ]
    },
    {
     "name": "stdout",
     "output_type": "stream",
     "text": [
      "  R6 D4->5     166\n",
      "  R7 D4->5     164\n",
      "  R2 D5->6     200\n",
      "  R3 D5->6     197\n",
      "  R4 D5->6     197\n",
      "  R5 D5->6     198\n"
     ]
    },
    {
     "name": "stderr",
     "output_type": "stream",
     "text": [
      " 83%|████████▎ | 5/6 [00:13<00:02,  2.74s/it]"
     ]
    },
    {
     "name": "stdout",
     "output_type": "stream",
     "text": [
      "  R6 D5->6     196\n",
      "  R7 D5->6     190\n"
     ]
    }
   ],
   "source": [
    "from mylib.statistic_test import *\n",
    "\n",
    "code_id = \"0861 - Pre-Initialization Cross-day Stability\"\n",
    "loc = join(figpath, \"Dsp\", code_id)\n",
    "mkdir(loc)\n",
    "\n",
    "if exists(join(figdata, f\"{code_id}.pkl\")) == False:\n",
    "    Data = {\n",
    "        \"PVC\": [],\n",
    "        \"Session\": [],\n",
    "        \"MiceID\": [],\n",
    "        \"Route\": [],\n",
    "        \"Type\": []\n",
    "    }\n",
    "    \n",
    "    for mouse in [10212, 10224, 10227, 10232]:\n",
    "        print(mouse, \"------------------\")\n",
    "        cellreg_idx = np.where(f_CellReg_dsp['MiceID'] == mouse)[0][0]\n",
    "        \n",
    "        with open(f_CellReg_dsp['cellreg_folder'][cellreg_idx], 'rb') as handle:\n",
    "            index_map = pickle.load(handle).astype(np.int64)\n",
    "            \n",
    "        if mouse != 10232:\n",
    "            index_map = index_map[1:, :]\n",
    "            \n",
    "        cell_counts = np.sum(np.where(index_map >= 1, 1, 0), axis=0)\n",
    "        cell_idx = np.where(cell_counts == 7)[0]\n",
    "        \n",
    "                \n",
    "        file_idx = np.where(f2['MiceID'] == mouse)[0]\n",
    "        for i in tqdm(range(6)):\n",
    "            with open(f2['Trace File'][file_idx[i]], 'rb') as handle:\n",
    "                trace1 = pickle.load(handle)\n",
    "                \n",
    "            with open(f2['Trace File'][file_idx[i + 1]], 'rb') as handle:\n",
    "                trace2 = pickle.load(handle)\n",
    "            \n",
    "            corrs = np.zeros(6, np.float64)\n",
    "            corrs_ctrl = np.zeros(6, np.float64)\n",
    "            rs = np.array([0, 1, 2, 3, 0, 0, 4, 5, 6, 0])\n",
    "            bin_id = [\n",
    "                CP_DSP[j][:3] for j in range(1, 2)\n",
    "            ] + [\n",
    "                CP_DSP[j][:5] for j in range(2, 7)\n",
    "            ]     \n",
    "            bin_id = [\n",
    "                np.concatenate([Father2SonGraph[j] for j in bin_id[k]]) for k in range(6)\n",
    "            ]\n",
    "            bin_id_ctrl = [\n",
    "                CP_DSP[1][:3],\n",
    "                CP_DSP[2][:5],\n",
    "                CP_DSP[3][:5],\n",
    "                CP_DSP[4][2:7],\n",
    "                CP_DSP[5][3:8],\n",
    "                CP_DSP[6][4:9],\n",
    "            ]\n",
    "            bin_id_ctrl = [\n",
    "                np.concatenate([Father2SonGraph[j] for j in bin_id_ctrl[k]]) for k in range(6)\n",
    "            ]\n",
    "            nodes = np.array([1, 2, 3, 6, 7, 8])\n",
    "\n",
    "            is_pc1_r0 = np.where(np.sum(np.vstack([\n",
    "                trace1[f'node {j}']['is_placecell'] for j in [0, 4, 5, 9]\n",
    "            ]), axis=0) >= 1, 1, 0)\n",
    "            is_pc2_r0 = np.where(np.sum(np.vstack([\n",
    "                trace2[f'node {j}']['is_placecell'] for j in [0, 4, 5, 9]\n",
    "            ]), axis=0) >= 1, 1, 0)\n",
    "\n",
    "            for r in range(1, 7):\n",
    "                is_placecell1 = np.where(is_pc1_r0+trace1[f'node {nodes[r-1]}']['is_placecell']>=1, 1, 0)\n",
    "                is_placecell2 = np.where(is_pc2_r0+trace2[f'node {nodes[r-1]}']['is_placecell']>=1, 1, 0)\n",
    "                cell_idx = np.where(\n",
    "                    (index_map[i, :] >= 1) & \n",
    "                    (index_map[i + 1, :] >= 1) &\n",
    "                    (is_placecell1[index_map[i, :]-1] == 1) &\n",
    "                    (is_placecell2[index_map[i + 1, :]-1] == 1)\n",
    "                )[0]\n",
    "                print(f\"  R{r+1} D{i+1}->{i+2}     {cell_idx.shape[0]}\")    \n",
    "                map_ctrl1 = np.mean(np.stack([\n",
    "                    trace1[f'node {j}']['smooth_map_all'][index_map[i, cell_idx]-1, :] for j in [0, 4, 5, 9]\n",
    "                ], axis=2), axis=2) \n",
    "                    \n",
    "                map_ctrl2 = np.mean(np.stack([\n",
    "                    trace2[f'node {j}']['smooth_map_all'][index_map[i+1, cell_idx]-1, :] for j in [0, 4, 5, 9]\n",
    "                ], axis=2), axis=2)\n",
    "                    \n",
    "                corrs[r-1] = np.corrcoef(\n",
    "                    trace1[f\"node {nodes[r-1]}\"][\"smooth_map_all\"][index_map[i, cell_idx]-1, :][:, bin_id[r-1]-1].flatten(),\n",
    "                    trace2[f\"node {nodes[r-1]}\"][\"smooth_map_all\"][index_map[i+1, cell_idx]-1, :][:, bin_id[r-1]-1].flatten(),\n",
    "                )[0, 1]\n",
    "                    \n",
    "                corrs_ctrl[r-1] = np.corrcoef(\n",
    "                    map_ctrl1[:, bin_id_ctrl[r-1]-1].flatten(),\n",
    "                    map_ctrl2[:, bin_id_ctrl[r-1]-1].flatten(),\n",
    "                )[0, 1]\n",
    "                    \n",
    "            Data['MiceID'].append(np.repeat(mouse, 6*2))\n",
    "            Data['Session'].append(np.repeat(i, 6*2))\n",
    "            Data['Route'] += [np.arange(1, 7)] * 2\n",
    "            Data['PVC'] += [corrs.flatten(), corrs_ctrl.flatten()]\n",
    "            Data['Type'] += [np.repeat(\"Exp.\", 6), np.repeat(\"Ctrl\", 6)]\n",
    "            \n",
    "    for k in Data.keys():\n",
    "        Data[k] = np.concatenate(Data[k])\n",
    "        \n",
    "    D = pd.DataFrame(Data)\n",
    "    D.to_excel(join(figdata, f\"{code_id}.xlsx\"), index=False)\n",
    "    \n",
    "    with open(join(figdata, f\"{code_id}.pkl\"), 'wb') as handle:\n",
    "        pickle.dump(Data, handle)\n",
    "        \n",
    "    print(len(D))\n",
    "else:\n",
    "    with open(join(figdata, f\"{code_id}.pkl\"), 'rb') as handle:\n",
    "        Data = pickle.load(handle)\n",
    "\n",
    "\n",
    "fig, axes = plt.subplots(ncols=6, nrows=2, figsize=(12, 6))\n",
    "print(np.unique(Data['Route']))\n",
    "for i in range(6):\n",
    "    ax = Clear_Axes(axes[0, i], close_spines=['top', 'right'], ifxticks=True, ifyticks=True)\n",
    "    SubData = SubDict(Data, Data.keys(), np.where((Data['Route'] == i+1))[0])\n",
    "    sns.lineplot(\n",
    "        x=\"Session\",\n",
    "        y=\"PVC\",\n",
    "        hue=\"Type\",\n",
    "        data=SubData,\n",
    "        hue_order=[\"Ctrl\", \"Exp.\"],\n",
    "        palette=[RemappingPalette[0], DSPPalette[i+1]],\n",
    "        linewidth=0.5,\n",
    "        err_kws={ \"linewidth\":0.5, 'alpha': 0.4},\n",
    "        ax=ax,\n",
    "        legend=False,\n",
    "    )\n",
    "    \n",
    "    res_ctrl = linregress(\n",
    "        SubData['Session'][np.where(SubData['Type'] == \"Ctrl\")[0]],\n",
    "        SubData['PVC'][np.where(SubData['Type'] == \"Ctrl\")[0]]\n",
    "    )\n",
    "    res = linregress(\n",
    "        SubData['Session'][np.where(SubData['Type'] == \"Exp.\")[0]],\n",
    "        SubData['PVC'][np.where(SubData['Type'] == \"Exp.\")[0]]\n",
    "    )\n",
    "    ax.set_xticks(np.arange(0, 6))\n",
    "    ax.set_ylim(0.1, 0.9)\n",
    "    ax.set_yticks(np.linspace(0.1, 0.9, 5))\n",
    "    print(f\"R{i+1}:\")\n",
    "    print(f\"  Ctrl: {res_ctrl}\")\n",
    "    print(f\"  Exp.: {res}\")    \n",
    "    \n",
    "    ax = Clear_Axes(axes[1, i], close_spines=['top', 'right'], ifxticks=True, ifyticks=True)\n",
    "    SubData = SubDict(Data, Data.keys(), np.where((Data['Route'] == i+1)&(np.isin(Data['Session'], [0, 5])))[0])\n",
    "    colors = [sns.color_palette(\"rainbow\", 7)[j] for j in [0, 6]]\n",
    "    sns.stripplot(\n",
    "        x=\"Type\",\n",
    "        y=\"PVC\",\n",
    "        hue=\"Session\",\n",
    "        data=SubData,\n",
    "        palette = colors,\n",
    "        linewidth=0.5,\n",
    "        edgecolor='k',\n",
    "        size=8,\n",
    "        jitter=0,\n",
    "        dodge=True,\n",
    "        ax=ax,\n",
    "        legend=False,\n",
    "    )\n",
    "    for x, j in enumerate(['Exp.', 'Ctrl']):\n",
    "        idx0 = np.where((SubData['Type'] == j)&(SubData['Session'] == 0))[0]\n",
    "        idx5 = np.where((SubData['Type'] == j)&(SubData['Session'] == 5))[0]\n",
    "        print(f\"  Paired T-test {j}: {ttest_rel(SubData['PVC'][idx0], SubData['PVC'][idx5], alternative='less')}\")\n",
    "        for m in range(4):\n",
    "            ax.plot([x-0.2, x+0.2], [SubData['PVC'][idx0][m], SubData['PVC'][idx5][m]], color='k', linewidth=0.5)\n",
    "\n",
    "    ax.set_ylim(0, 1)\n",
    "    ax.set_xlim(-0.7, 1.7)\n",
    "    ax.set_yticks(np.linspace(0, 1, 6))\n",
    "    \n",
    "\n",
    "plt.tight_layout()\n",
    "plt.savefig(join(loc, \"cross-day stability.png\"), dpi=600)\n",
    "plt.savefig(join(loc, \"cross-day stability.svg\"), dpi=600)\n",
    "plt.show()"
   ]
  },
  {
   "cell_type": "code",
   "execution_count": null,
   "id": "d2113f9b",
   "metadata": {},
   "outputs": [],
   "source": [
    "if exists(join(figdata, f\"{code_id} [field density].pkl\")) == False:\n",
    "    pre_"
   ]
  }
 ],
 "metadata": {
  "kernelspec": {
   "display_name": "maze",
   "language": "python",
   "name": "python3"
  },
  "language_info": {
   "codemirror_mode": {
    "name": "ipython",
    "version": 3
   },
   "file_extension": ".py",
   "mimetype": "text/x-python",
   "name": "python",
   "nbconvert_exporter": "python",
   "pygments_lexer": "ipython3",
   "version": "3.10.14"
  }
 },
 "nbformat": 4,
 "nbformat_minor": 5
}
