{
 "cells": [
  {
   "cell_type": "code",
   "execution_count": null,
   "id": "e8cefd6f",
   "metadata": {},
   "outputs": [
    {
     "name": "stdout",
     "output_type": "stream",
     "text": [
      "        E:\\Data\\FinalResults\\Dsp\\0864 - Test Trajectory Similarity vs. Representational Similarity is already existed!\n"
     ]
    }
   ],
   "source": [
    "from mylib.statistic_test import *\n",
    "from mylib.dsp.traj import *\n",
    "\n",
    "code_id = '0864 - Test Trajectory Similarity vs. Representational Similarity'\n",
    "loc = join(figpath, 'Dsp', code_id)\n",
    "mkdir(loc)\n",
    "\n",
    "pass"
   ]
  }
 ],
 "metadata": {
  "kernelspec": {
   "display_name": "maze",
   "language": "python",
   "name": "python3"
  },
  "language_info": {
   "codemirror_mode": {
    "name": "ipython",
    "version": 3
   },
   "file_extension": ".py",
   "mimetype": "text/x-python",
   "name": "python",
   "nbconvert_exporter": "python",
   "pygments_lexer": "ipython3",
   "version": "3.10.14"
  }
 },
 "nbformat": 4,
 "nbformat_minor": 5
}
