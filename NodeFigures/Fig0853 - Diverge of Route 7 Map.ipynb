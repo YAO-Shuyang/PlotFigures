{
 "cells": [
  {
   "cell_type": "code",
   "execution_count": 2,
   "metadata": {},
   "outputs": [
    {
     "name": "stdout",
     "output_type": "stream",
     "text": [
      "        E:\\Data\\FinalResults\\0853 - Diverge of Route 7 Map is already existed!\n"
     ]
    }
   ],
   "source": [
    "from mylib.statistic_test import *\n",
    "\n",
    "code_id = \"0853 - Diverge of Route 7 Map\"\n",
    "loc = os.path.join(figpath, code_id)\n",
    "mkdir(loc)\n",
    "\n",
    "from mylib.statistic_test import *\n",
    "from mazepy.datastruc.neuact import SpikeTrain, TuningCurve, NeuralTrajectory\n",
    "from mazepy.datastruc.variables import VariableBin\n",
    "from mylib.calcium.dsp_ms import classify_lap\n",
    "from mazepy.basic._time_sync import _coordinate_recording_time\n",
    "\n",
    "dir_name1 = join(figpath, \"Dsp\", \"0850 - Lisa Paper Revisits\")\n",
    "dir_name0 = join(figpath, \"Dsp\", \"0844 - Manifold of Initialization\")\n",
    "\n",
    "def get_transient_map(mouse: int):\n",
    "    \"\"\"\n",
    "    Get Final Maps and Information\n",
    "    \"\"\"\n",
    "    if exists(join(dir_name1, f\"transient_{mouse}.pkl\")):\n",
    "        with open(join(dir_name1, f\"transient_{mouse}.pkl\"), \"rb\") as f:\n",
    "            return pickle.load(f)\n",
    "    else:\n",
    "        raise FileNotFoundError(\n",
    "            f\"Please run Fig0850 - Lisa Paper Revisits.ipynb first \"\n",
    "            f\"to generate transient_{mouse}.pkl\"\n",
    "        )\n",
    "\n",
    "def hex_to_rgba(hex_color):\n",
    "    \"\"\"\n",
    "    Convert a hex color (#RRGGBB or #RRGGBBAA) to RGBA format (0-255).\n",
    "    \"\"\"\n",
    "    hex_color = hex_color.lstrip('#')  # Remove '#' if present\n",
    "    if len(hex_color) == 6:\n",
    "        r, g, b = int(hex_color[0:2], 16), int(hex_color[2:4], 16), int(hex_color[4:6], 16)\n",
    "        a = 255  # Default alpha\n",
    "    elif len(hex_color) == 8:\n",
    "        r, g, b, a = int(hex_color[0:2], 16), int(hex_color[2:4], 16), int(hex_color[4:6], 16), int(hex_color[6:8], 16)\n",
    "    else:\n",
    "        raise ValueError(\"Invalid hex color format. Use #RRGGBB or #RRGGBBAA.\")\n",
    "    return r, g, b, a\n",
    "\n",
    "def hex_to_rgba_normalized(hex_color):\n",
    "    \"\"\"\n",
    "    Convert a hex color (#RRGGBB or #RRGGBBAA) to RGBA format (0-1).\n",
    "    \"\"\"\n",
    "    r, g, b, a = hex_to_rgba(hex_color)\n",
    "    return np.array([r / 255, g / 255, b / 255, a / 255])\n",
    "\n",
    "DSPPaletteRGBA = np.vstack([hex_to_rgba_normalized(c) for c in DSPPalette])\n",
    "MAPPaletteRGBA = np.vstack([hex_to_rgba_normalized(c) for c in ['#333766', '#A4C096']])\n",
    "\n",
    "from umap.umap_ import UMAP\n",
    "from matplotlib import cm\n",
    "from sklearn.discriminant_analysis import LinearDiscriminantAnalysis as LDA\n",
    "from sklearn.decomposition import PCA\n",
    "from sklearn.svm import SVC\n",
    "from sklearn.cluster import DBSCAN, KMeans\n",
    "import hdbscan\n",
    "\n",
    "def counts(mouse: int):\n",
    "    with open(join(dir_name0, f\"{mouse}.pkl\"), 'rb') as handle:\n",
    "        _, session_traj, _, _, route_traj, lap_traj, pos_traj, speed_traj, _, _, _, _, _, neural_traj = pickle.load(handle)\n",
    "\n",
    "    bins = np.concatenate([Father2SonGraph[i] for i in np.setdiff1d(CP_DSP[6], CP_DSP[3])])\n",
    "    idx = np.where(\n",
    "        (np.isin(pos_traj, bins-1)) &\n",
    "        (np.isin(route_traj, [0, 1, 2, 4, 5, 6]))\n",
    "    )[0]\n",
    "    \n",
    "    D = GetDMatrices(1, 48)\n",
    "    dist_traj = D[pos_traj, 2303]\n",
    "    \n",
    "    with open(join(loc, f\"{mouse}.pkl\"), \"wb\") as f:\n",
    "        pickle.dump([\n",
    "            neural_traj[:, idx], \n",
    "            session_traj[idx], \n",
    "            route_traj[idx], \n",
    "            lap_traj[idx], \n",
    "            pos_traj[idx], \n",
    "            speed_traj[idx]\n",
    "        ], f)\n",
    "\n",
    "def get_data(mouse):\n",
    "    \"\"\"All Data\"\"\"\n",
    "    if exists(join(loc, f\"{mouse}.pkl\")) == False:\n",
    "        counts(mouse)\n",
    "        \n",
    "    with open(join(loc, f\"{mouse}.pkl\"), 'rb') as handle:\n",
    "        return pickle.load(handle)"
   ]
  },
  {
   "cell_type": "code",
   "execution_count": 28,
   "metadata": {},
   "outputs": [
    {
     "data": {
      "text/plain": [
       "<Axes: >"
      ]
     },
     "execution_count": 28,
     "metadata": {},
     "output_type": "execute_result"
    },
    {
     "data": {
      "image/png": "[encoded data removed]",
      "text/plain": [
       "<Figure size 200x300 with 1 Axes>"
      ]
     },
     "metadata": {},
     "output_type": "display_data"
    }
   ],
   "source": [
    "def get_fate(mouse: int):\n",
    "    (\n",
    "        kmeans_dist_traj2, \n",
    "        neural_traj2, \n",
    "        session_traj2, \n",
    "        old_pos_traj2, \n",
    "        route_traj2, \n",
    "        lap_traj2, \n",
    "        pos_traj2, \n",
    "        speed_traj2,\n",
    "        dists\n",
    "    ) = get_transient_map(mouse)\n",
    "    \n",
    "    beg2 = np.concatenate([[0], np.where(np.ediff1d(lap_traj2) != 0)[0]+1])\n",
    "    end2 = np.concatenate([np.where(np.ediff1d(lap_traj2) != 0)[0]+1, [lap_traj2.shape[0]]])\n",
    "    \n",
    "    mat = np.corrcoef(neural_traj2[:, beg2].T)\n",
    "    avg_mat = np.zeros((7, 7))\n",
    "    for i in range(7):\n",
    "        for j in range(i, 7):\n",
    "            idxi = np.where(route_traj2[beg2] == i)[0]\n",
    "            idxj = np.where(route_traj2[beg2] == j)[0]\n",
    "            idx = np.ix_(idxi, idxj)\n",
    "            avg_mat[i, j] = avg_mat[j, i] = np.nanmean(mat[idx])\n",
    "    \n",
    "    idx = np.where(route_traj2[beg2] != 3)[0]\n",
    "    beg2 = beg2[idx]\n",
    "    end2 = end2[idx]\n",
    "\n",
    "    median_kmean_dists = np.zeros(beg2.shape[0])\n",
    "    for i in range(beg2.shape[0]):\n",
    "        median_kmean_dists[i] = np.nanmean(kmeans_dist_traj2[beg2[i]:end2[i]])\n",
    "\n",
    "    labels = np.where(median_kmean_dists > 0, 0, 1)    \n",
    "    return median_kmean_dists, labels\n",
    "\n",
    "mouse = 10227\n",
    "(            \n",
    "    neural_traj,\n",
    "    session_traj,  \n",
    "    route_traj, \n",
    "    lap_traj, \n",
    "    pos_traj, \n",
    "    speed_traj\n",
    ") = get_data(mouse)\n",
    "\n",
    "beg = np.concatenate([[0], np.where(np.ediff1d(lap_traj) != 0)[0]+1])\n",
    "end = np.concatenate([np.where(np.ediff1d(lap_traj) != 0)[0]+1, [lap_traj.shape[0]]])\n",
    "mean_kmean_dists, lap_labels = get_fate(mouse)\n",
    "\n",
    "route7_idx = np.where(route_traj[beg] == 6)[0]\n",
    "durations = (end[route7_idx] - beg[route7_idx]) / 10\n",
    "\n",
    "fig, ax = plt.subplots(figsize=(2, 3))\n",
    "ax = Clear_Axes(axes=ax, close_spines=['top', 'right'], ifxticks=True, ifyticks=True)\n",
    "x, y, hue = [], [], []\n",
    "for i, idx in enumerate(route7_idx):\n",
    "    x.append(np.arange(10))\n",
    "    y.append(speed_traj[beg[idx]:beg[idx]+10])\n",
    "    hue.append(np.repeat(lap_labels[idx], 10))\n",
    "\n",
    "x = np.concatenate(x)\n",
    "y = np.concatenate(y)\n",
    "hue = np.concatenate(hue)\n",
    "sns.lineplot(x=x, y=y, hue=hue, ax=ax, palette=['#333766', '#A4C096'], legend=False)"
   ]
  },
  {
   "cell_type": "markdown",
   "metadata": {},
   "source": [
    "# Behavioral Differences"
   ]
  },
  {
   "cell_type": "code",
   "execution_count": 23,
   "metadata": {},
   "outputs": [
    {
     "name": "stdout",
     "output_type": "stream",
     "text": [
      "        E:\\Data\\FinalResults\\0853 - Diverge of Route 7 Map is already existed!\n"
     ]
    }
   ],
   "source": [
    "from mylib.statistic_test import *\n",
    "\n",
    "code_id = \"0853 - Diverge of Route 7 Map\"\n",
    "loc = os.path.join(figpath, code_id)\n",
    "mkdir(loc)\n",
    "\n",
    "if exists(join(figdata, f\"{code_id} [Lap Info].pkl\")) == False:\n",
    "    EffData = {\n",
    "        \"MiceID\": [],\n",
    "        \"Session\": [],\n",
    "        \"Is Perfect\": [],\n",
    "        \"Lapwise Time\": [],\n",
    "        \"Lapwise Distance\": [],\n",
    "    }\n",
    "    \n",
    "    for m, mouse in enumerate([10212, 10224, 10227, 10232]):\n",
    "        if exists(join(loc, f\"{mouse}.pkl\")) == False:\n",
    "            X, session_label, route_label, kmeans_init = get_all_mice_data(mouse)\n",
    "            \n",
    "            with open(join(loc, f\"{mouse}.pkl\"), \"wb\") as f:\n",
    "                pickle.dump([X, session_label, route_label, kmeans_init], f)\n",
    "        else:\n",
    "            with open(join(loc, f\"{mouse}.pkl\"), \"rb\") as f:\n",
    "                X, session_label, route_label, kmeans_init = pickle.load(f)\n",
    "\n"
   ]
  }
 ],
 "metadata": {
  "kernelspec": {
   "display_name": "Python 3",
   "language": "python",
   "name": "python3"
  },
  "language_info": {
   "codemirror_mode": {
    "name": "ipython",
    "version": 3
   },
   "file_extension": ".py",
   "mimetype": "text/x-python",
   "name": "python",
   "nbconvert_exporter": "python",
   "pygments_lexer": "ipython3",
   "version": "3.10.14"
  }
 },
 "nbformat": 4,
 "nbformat_minor": 2
}
