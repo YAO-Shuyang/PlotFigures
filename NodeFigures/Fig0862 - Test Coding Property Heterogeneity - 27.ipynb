{
 "cells": [
  {
   "cell_type": "markdown",
   "id": "5f8f475c",
   "metadata": {},
   "source": [
    "# Notes\n",
    "This code is designed for examine whether the coding property of the prior map is `heterogeneous` along the main track.\n",
    "\n",
    "This involves three aspects:\n",
    "1. Cross-session stability\n",
    "2. Spatial Information\n",
    "3. Decoding Error."
   ]
  },
  {
   "cell_type": "code",
   "execution_count": 1,
   "id": "9a8e93ed",
   "metadata": {},
   "outputs": [
    {
     "name": "stdout",
     "output_type": "stream",
     "text": [
      "        E:\\Data\\FinalResults\\Dsp\\0862 - Test Coding Property Heterogeneity is already existed!\n",
      "(array([0, 1, 1], dtype=int64), array([1, 0, 1], dtype=int64))\n"
     ]
    }
   ],
   "source": [
    "from mylib.statistic_test import *\n",
    "from mylib.decoder.NaiveBayesianDecoder import NaiveBayesDecoder\n",
    "\n",
    "code_id = \"0862 - Test Coding Property Heterogeneity\"\n",
    "loc = join(figpath, \"Dsp\", code_id)\n",
    "mkdir(loc)\n",
    "pass\n",
    "a = np.array([[0, 1], [2, 3]])\n",
    "print(np.where(a >= 1))"
   ]
  },
  {
   "cell_type": "code",
   "execution_count": null,
   "id": "2ee78d48",
   "metadata": {},
   "outputs": [
    {
     "name": "stdout",
     "output_type": "stream",
     "text": [
      "10227 S1 ---------------------------\n",
      "Iter 1\n",
      "    Generate D matrix\n",
      "    D matrix successfully generated!\n",
      "    Generating tuning curve\n",
      "    Tuning curve successfully generated!\n",
      "    Generating P matirx...\n"
     ]
    },
    {
     "name": "stderr",
     "output_type": "stream",
     "text": [
      "100%|██████████| 5106/5106 [05:30<00:00, 15.46it/s]\n"
     ]
    },
    {
     "name": "stdout",
     "output_type": "stream",
     "text": [
      "  Mean Losses Are:      (10.233345472033855, 7.211102550927978, 8.246211251235321, 6.324555320336759)\n",
      "Iter 2\n",
      "    Generate D matrix\n",
      "    D matrix successfully generated!\n",
      "    Generating tuning curve\n",
      "    Tuning curve successfully generated!\n",
      "    Generating P matirx...\n"
     ]
    },
    {
     "name": "stderr",
     "output_type": "stream",
     "text": [
      "100%|██████████| 5106/5106 [06:26<00:00, 13.20it/s]\n"
     ]
    },
    {
     "name": "stdout",
     "output_type": "stream",
     "text": [
      "  Mean Losses Are:      (10.929971408438085, 8.246211251235321, 10.901046542878234, 5.656854249492381)\n",
      "Iter 3\n",
      "    Generate D matrix\n",
      "    D matrix successfully generated!\n",
      "    Generating tuning curve\n",
      "    Tuning curve successfully generated!\n",
      "    Generating P matirx...\n"
     ]
    },
    {
     "name": "stderr",
     "output_type": "stream",
     "text": [
      "100%|██████████| 5106/5106 [05:36<00:00, 15.19it/s]\n"
     ]
    },
    {
     "name": "stdout",
     "output_type": "stream",
     "text": [
      "  Mean Losses Are:      (10.778050766032289, 8.246211251235321, 10.233345472033855, 8.246211251235321)\n",
      "Iter 4\n",
      "    Generate D matrix\n",
      "    D matrix successfully generated!\n",
      "    Generating tuning curve\n",
      "    Tuning curve successfully generated!\n",
      "    Generating P matirx...\n"
     ]
    },
    {
     "name": "stderr",
     "output_type": "stream",
     "text": [
      "100%|██████████| 5106/5106 [04:57<00:00, 17.15it/s]\n"
     ]
    },
    {
     "name": "stdout",
     "output_type": "stream",
     "text": [
      "  Mean Losses Are:      (10.929971408438085, 10.233345472033855, 10.198039027185569, 8.246211251235321)\n",
      "Iter 5\n",
      "    Generate D matrix\n",
      "    D matrix successfully generated!\n",
      "    Generating tuning curve\n",
      "    Tuning curve successfully generated!\n",
      "    Generating P matirx...\n"
     ]
    },
    {
     "name": "stderr",
     "output_type": "stream",
     "text": [
      "100%|██████████| 5106/5106 [04:43<00:00, 17.99it/s]\n"
     ]
    },
    {
     "name": "stdout",
     "output_type": "stream",
     "text": [
      "  Mean Losses Are:      (10.233345472033855, 8.94427190999916, 10.770329614269007, 10.233345472033855)\n",
      "\n",
      "10227 S2 ---------------------------\n",
      "Iter 1\n",
      "    Generate D matrix\n",
      "    D matrix successfully generated!\n",
      "    Generating tuning curve\n",
      "    Tuning curve successfully generated!\n",
      "    Generating P matirx...\n"
     ]
    },
    {
     "name": "stderr",
     "output_type": "stream",
     "text": [
      "100%|██████████| 5475/5475 [04:50<00:00, 18.86it/s]\n"
     ]
    },
    {
     "name": "stdout",
     "output_type": "stream",
     "text": [
      "  Mean Losses Are:      (11.31370849898476, 8.261297173761164, 8.94427190999916, 6.324555320336759)\n",
      "Iter 2\n",
      "    Generate D matrix\n",
      "    D matrix successfully generated!\n",
      "    Generating tuning curve\n",
      "    Tuning curve successfully generated!\n",
      "    Generating P matirx...\n"
     ]
    },
    {
     "name": "stderr",
     "output_type": "stream",
     "text": [
      "100%|██████████| 5475/5475 [04:45<00:00, 19.19it/s]\n"
     ]
    },
    {
     "name": "stdout",
     "output_type": "stream",
     "text": [
      "  Mean Losses Are:      (8.94427190999916, 8.48528137423857, 10.0, 7.211102550927978)\n",
      "Iter 3\n",
      "    Generate D matrix\n",
      "    D matrix successfully generated!\n",
      "    Generating tuning curve\n",
      "    Tuning curve successfully generated!\n",
      "    Generating P matirx...\n"
     ]
    },
    {
     "name": "stderr",
     "output_type": "stream",
     "text": [
      "100%|██████████| 5475/5475 [04:48<00:00, 19.00it/s]\n"
     ]
    },
    {
     "name": "stdout",
     "output_type": "stream",
     "text": [
      "  Mean Losses Are:      (12.0, 10.0, 10.0, 8.246211251235321)\n",
      "Iter 4\n",
      "    Generate D matrix\n",
      "    D matrix successfully generated!\n",
      "    Generating tuning curve\n",
      "    Tuning curve successfully generated!\n",
      "    Generating P matirx...\n"
     ]
    },
    {
     "name": "stderr",
     "output_type": "stream",
     "text": [
      "100%|██████████| 5475/5475 [03:52<00:00, 23.55it/s]\n"
     ]
    },
    {
     "name": "stdout",
     "output_type": "stream",
     "text": [
      "  Mean Losses Are:      (12.902019706710776, 14.142135623730951, 13.416407864998739, 7.211102550927978)\n",
      "Iter 5\n"
     ]
    },
    {
     "ename": "IndexError",
     "evalue": "index 5 is out of bounds for axis 0 with size 5",
     "output_type": "error",
     "traceback": [
      "\u001b[1;31m---------------------------------------------------------------------------\u001b[0m",
      "\u001b[1;31mIndexError\u001b[0m                                Traceback (most recent call last)",
      "Cell \u001b[1;32mIn[2], line 58\u001b[0m\n\u001b[0;32m     55\u001b[0m \u001b[38;5;28;01mwith\u001b[39;00m \u001b[38;5;28mopen\u001b[39m(f2[\u001b[38;5;124m'\u001b[39m\u001b[38;5;124mTrace File\u001b[39m\u001b[38;5;124m'\u001b[39m][i], \u001b[38;5;124m'\u001b[39m\u001b[38;5;124mrb\u001b[39m\u001b[38;5;124m'\u001b[39m) \u001b[38;5;28;01mas\u001b[39;00m handle:\n\u001b[0;32m     56\u001b[0m     trace \u001b[38;5;241m=\u001b[39m pickle\u001b[38;5;241m.\u001b[39mload(handle)\n\u001b[1;32m---> 58\u001b[0m mean_loss \u001b[38;5;241m=\u001b[39m \u001b[43mgnb_decoder\u001b[49m\u001b[43m(\u001b[49m\u001b[43mtrace\u001b[49m\u001b[43m)\u001b[49m\n\u001b[0;32m     60\u001b[0m \u001b[38;5;28;01mwith\u001b[39;00m \u001b[38;5;28mopen\u001b[39m(join(decode_dir, \u001b[38;5;124mf\u001b[39m\u001b[38;5;124m\"\u001b[39m\u001b[38;5;124mLoss_\u001b[39m\u001b[38;5;132;01m{\u001b[39;00mf2[\u001b[38;5;124m'\u001b[39m\u001b[38;5;124mMiceID\u001b[39m\u001b[38;5;124m'\u001b[39m][i]\u001b[38;5;132;01m}\u001b[39;00m\u001b[38;5;124m_\u001b[39m\u001b[38;5;132;01m{\u001b[39;00mi\u001b[38;5;132;01m}\u001b[39;00m\u001b[38;5;124m.pkl\u001b[39m\u001b[38;5;124m\"\u001b[39m), \u001b[38;5;124m'\u001b[39m\u001b[38;5;124mwb\u001b[39m\u001b[38;5;124m'\u001b[39m) \u001b[38;5;28;01mas\u001b[39;00m f:\n\u001b[0;32m     61\u001b[0m     pickle\u001b[38;5;241m.\u001b[39mdump(mean_loss, f)\n",
      "Cell \u001b[1;32mIn[2], line 34\u001b[0m, in \u001b[0;36mgnb_decoder\u001b[1;34m(trace)\u001b[0m\n\u001b[0;32m     32\u001b[0m \u001b[38;5;28;01mfor\u001b[39;00m i \u001b[38;5;129;01min\u001b[39;00m \u001b[38;5;28mrange\u001b[39m(\u001b[38;5;241m5\u001b[39m):\n\u001b[0;32m     33\u001b[0m     \u001b[38;5;28mprint\u001b[39m(\u001b[38;5;124mf\u001b[39m\u001b[38;5;124m\"\u001b[39m\u001b[38;5;124mIter \u001b[39m\u001b[38;5;132;01m{\u001b[39;00mi\u001b[38;5;241m+\u001b[39m\u001b[38;5;241m1\u001b[39m\u001b[38;5;132;01m}\u001b[39;00m\u001b[38;5;124m\"\u001b[39m)\n\u001b[1;32m---> 34\u001b[0m     test_idx \u001b[38;5;241m=\u001b[39m np\u001b[38;5;241m.\u001b[39marange(start_idx[i], \u001b[43mstart_idx\u001b[49m\u001b[43m[\u001b[49m\u001b[43mi\u001b[49m\u001b[38;5;241;43m+\u001b[39;49m\u001b[38;5;241;43m1\u001b[39;49m\u001b[43m]\u001b[49m)\n\u001b[0;32m     35\u001b[0m     train_idx \u001b[38;5;241m=\u001b[39m np\u001b[38;5;241m.\u001b[39msetdiff1d(np\u001b[38;5;241m.\u001b[39marange(spike_nodes\u001b[38;5;241m.\u001b[39mshape[\u001b[38;5;241m0\u001b[39m]), test_idx)\n\u001b[0;32m     37\u001b[0m     model \u001b[38;5;241m=\u001b[39m NaiveBayesDecoder(maze_type\u001b[38;5;241m=\u001b[39m\u001b[38;5;241m1\u001b[39m, res\u001b[38;5;241m=\u001b[39m\u001b[38;5;241m48\u001b[39m, smooth_matrix\u001b[38;5;241m=\u001b[39mtrace[\u001b[38;5;124m'\u001b[39m\u001b[38;5;124mMs\u001b[39m\u001b[38;5;124m'\u001b[39m])\n",
      "\u001b[1;31mIndexError\u001b[0m: index 5 is out of bounds for axis 0 with size 5"
     ]
    }
   ],
   "source": [
    "decode_dir = join(loc, \"Decoding Results\")\n",
    "\n",
    "def gnb_decoder(trace):\n",
    "    \"\"\"\n",
    "    Decode the trace using the GNB decoder.\n",
    "    \"\"\"\n",
    "    beg, end = LapSplit(trace, trace['paradigm'])\n",
    "    beg_t, end_t = trace['lap beg time'], trace['lap end time']\n",
    "    routes = classify_lap(spike_nodes_transform(trace['correct_nodes'], 12), beg)\n",
    "    \n",
    "    raw_traces = trace['RawTraces']\n",
    "    ms_time = trace['ms_time']\n",
    "    spike_nodes = trace['spike_nodes_original']\n",
    "    \n",
    "    idx = np.concatenate([\n",
    "        np.where(\n",
    "            (ms_time >= beg_t[i]) & (ms_time <= end_t[i]) & (np.isnan(spike_nodes) == False)\n",
    "        )[0] for i in np.where(routes == 0)[0]\n",
    "    ])\n",
    "    \n",
    "    converted_spikes = np.where(raw_traces - np.std(raw_traces, axis=1)[:, np.newaxis]*3 >= 0, 1, 0)\n",
    "    Spikes = converted_spikes[:, idx]\n",
    "    spike_nodes = spike_nodes[idx].astype(np.int64)\n",
    "    ms_time = ms_time[idx]\n",
    "    \n",
    "    one_fraction = int(idx.shape[0] / 5)\n",
    "    start_idx = np.arange(0, idx.shape[0]+1, one_fraction)\n",
    "    \n",
    "    mean_loss = np.zeros((5, 4))\n",
    "    D = GetDMatrices(1, 48)\n",
    "    # Validate for 5 times\n",
    "    for i in range(5):\n",
    "        print(f\"Iter {i+1}\")\n",
    "        test_idx = np.arange(start_idx[i], start_idx[i+1])\n",
    "        train_idx = np.setdiff1d(np.arange(spike_nodes.shape[0]), test_idx)\n",
    "        \n",
    "        model = NaiveBayesDecoder(maze_type=1, res=48, smooth_matrix=trace['Ms'])\n",
    "        model.fit(Spikes[:, train_idx], spike_nodes[train_idx])\n",
    "        y_pred = model.predict(Spikes_test=Spikes[:, test_idx], MazeID_test=spike_nodes[test_idx])\n",
    "        y_test = spike_nodes[test_idx]\n",
    "        \n",
    "        loss = D[(y_pred-1, y_test-1)]\n",
    "        converted_y_test = S2F[y_test-1]\n",
    "        for j, bin_range in enumerate([CP_DSP[0][:27], CP_DSP[0][27:54], CP_DSP[0][54:81], CP_DSP[3]]):\n",
    "            in_range_idx = np.where(np.isin(converted_y_test, bin_range))[0]\n",
    "            mean_loss[i, j] = np.nanmedian(loss[in_range_idx])\n",
    "            \n",
    "        print(f\"  Mean Losses Are:      {mean_loss[i, 0], mean_loss[i, 1], mean_loss[i, 2], mean_loss[i, 3]}\")\n",
    "            \n",
    "    return mean_loss\n",
    "        \n",
    "\n",
    "for j, i in enumerate(np.where(f2['MiceID'] == 10227)[0]):\n",
    "    if j == 0:\n",
    "        continue\n",
    "    \n",
    "    print(f2['MiceID'][i], f\"S{j+1} ---------------------------\")\n",
    "    with open(f2['Trace File'][i], 'rb') as handle:\n",
    "        trace = pickle.load(handle)\n",
    "\n",
    "    mean_loss = gnb_decoder(trace)\n",
    "    \n",
    "    with open(join(decode_dir, f\"Loss_{f2['MiceID'][i]}_{i}.pkl\"), 'wb') as f:\n",
    "        pickle.dump(mean_loss, f)\n",
    "        \n",
    "    print()\n"
   ]
  },
  {
   "cell_type": "code",
   "execution_count": null,
   "id": "9d550afe",
   "metadata": {},
   "outputs": [],
   "source": []
  }
 ],
 "metadata": {
  "kernelspec": {
   "display_name": "maze",
   "language": "python",
   "name": "python3"
  },
  "language_info": {
   "codemirror_mode": {
    "name": "ipython",
    "version": 3
   },
   "file_extension": ".py",
   "mimetype": "text/x-python",
   "name": "python",
   "nbconvert_exporter": "python",
   "pygments_lexer": "ipython3",
   "version": "3.10.14"
  }
 },
 "nbformat": 4,
 "nbformat_minor": 5
}
