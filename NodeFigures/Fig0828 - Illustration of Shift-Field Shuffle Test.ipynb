{
 "cells": [
  {
   "cell_type": "code",
   "execution_count": 1,
   "metadata": {},
   "outputs": [
    {
     "name": "stderr",
     "output_type": "stream",
     "text": [
      "e:\\Anaconda\\envs\\maze\\lib\\site-packages\\tqdm\\auto.py:21: TqdmWarning: IProgress not found. Please update jupyter and ipywidgets. See https://ipywidgets.readthedocs.io/en/stable/user_install.html\n",
      "  from .autonotebook import tqdm as notebook_tqdm\n"
     ]
    },
    {
     "name": "stdout",
     "output_type": "stream",
     "text": [
      "        E:\\Data\\FinalResults\\Dsp\\0828 - Illustration of Shift-Field Shuffle Test is already existed!\n"
     ]
    }
   ],
   "source": [
    "from mylib.statistic_test import *\n",
    "from mylib.dsp.starting_cell import *\n",
    "\n",
    "\n",
    "code_id = '0828 - Illustration of Shift-Field Shuffle Test'\n",
    "loc = os.path.join(figpath, 'Dsp', code_id)\n",
    "mkdir(loc)\n",
    "\n",
    "def gaussian(x, mu, sig=1):\n",
    "    return np.exp(-(x - mu)**2 / (2 * sig**2))\n",
    "\n",
    "max_length = np.array([CP_DSP[0].shape[0], CP_DSP[1].shape[0], CP_DSP[2].shape[0], CP_DSP[3].shape[0], CP_DSP[0].shape[0], \n",
    "                       CP_DSP[0].shape[0], CP_DSP[4].shape[0], CP_DSP[5].shape[0], CP_DSP[6].shape[0], CP_DSP[0].shape[0]])\n",
    "xs = [np.linspace(0, max_length[i], max_length[i]*1000+1) for i in range(10)]\n",
    "peaks = np.random.rand(10)*0.3+0.7\n",
    "peaks[4] = 0\n",
    "peaks[9] = 0\n",
    "peaks[0] = 0\n",
    "centers = np.array([3.2, 2.4, 1.8, 0.9, 2.3, 2.3, 14, 4.5, 3.9, 1.3])\n",
    "\n",
    "ys = [gaussian(xs[i], centers[i]) * peaks[i] + i*1.2 for i in range(10)]"
   ]
  },
  {
   "cell_type": "code",
   "execution_count": null,
   "metadata": {},
   "outputs": [],
   "source": [
    "fig = plt.figure(figsize=(4, 6))\n",
    "ax = Clear_Axes(plt.axes())\n",
    "colors1 = [DSPPalette[0], DSPPalette[1], DSPPalette[2], DSPPalette[3], DSPPalette[0],\n",
    "          DSPPalette[0], DSPPalette[4], DSPPalette[5], DSPPalette[6], DSPPalette[0]]\n",
    "for i in range(10):\n",
    "    ax.plot(xs[i], ys[i], color=colors1[i], linewidth=0.5)\n",
    "ax.set_xlim(0, max_length[0])\n",
    "ax.axvline(6.5, color='k', linewidth=0.5, ls = \":\")\n",
    "plt.savefig(os.path.join(loc, 'Step 1.svg'), dpi=600)\n",
    "plt.savefig(os.path.join(loc, 'Step 1.png'), dpi=600)\n",
    "plt.close()"
   ]
  },
  {
   "cell_type": "code",
   "execution_count": 2,
   "metadata": {},
   "outputs": [
    {
     "name": "stdout",
     "output_type": "stream",
     "text": [
      "26 10224 20231015\n",
      "9 9\n"
     ]
    },
    {
     "name": "stderr",
     "output_type": "stream",
     "text": [
      "e:\\Anaconda\\envs\\maze\\lib\\site-packages\\mylib\\dsp\\starting_cell.py:232: RuntimeWarning: All-NaN slice encountered\n",
      "  dis = self._D[self._SP, :][:, field_center-1] * field_reg\n"
     ]
    },
    {
     "name": "stdout",
     "output_type": "stream",
     "text": [
      "10224_20231015_Cell 15:\n",
      "Overlap: 0.6613079220871458\n",
      "P-values: 0.0005\n",
      "        E:\\Data\\FinalResults\\Dsp\\0828 - Illustration of Shift-Field Shuffle Test is already existed!\n"
     ]
    }
   ],
   "source": [
    "import pickle\n",
    "from mylib.local_path import f2\n",
    "    \n",
    "for i in range(len(f2)):\n",
    "    if i != 26:\n",
    "        continue\n",
    "    print(i, f2['MiceID'][i], f2['date'][i])\n",
    "        \n",
    "    with open(f2['Trace File'][i], 'rb') as handle:\n",
    "        trace = pickle.load(handle)\n",
    "        \n",
    "    StartingCell.visualize_shuffle_results(\n",
    "        trace,\n",
    "        n=15-1,\n",
    "        save_loc = loc,\n",
    "        file_name=\"Step 4\",\n",
    "        n_shuffle=10000\n",
    "    )"
   ]
  }
 ],
 "metadata": {
  "kernelspec": {
   "display_name": "maze",
   "language": "python",
   "name": "python3"
  },
  "language_info": {
   "codemirror_mode": {
    "name": "ipython",
    "version": 3
   },
   "file_extension": ".py",
   "mimetype": "text/x-python",
   "name": "python",
   "nbconvert_exporter": "python",
   "pygments_lexer": "ipython3",
   "version": "3.10.14"
  }
 },
 "nbformat": 4,
 "nbformat_minor": 2
}
