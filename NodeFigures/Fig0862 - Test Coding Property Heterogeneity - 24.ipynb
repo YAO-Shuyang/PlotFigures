{
 "cells": [
  {
   "cell_type": "markdown",
   "id": "5f8f475c",
   "metadata": {},
   "source": [
    "# Notes\n",
    "This code is designed for examine whether the coding property of the prior map is `heterogeneous` along the main track.\n",
    "\n",
    "This involves three aspects:\n",
    "1. Cross-session stability\n",
    "2. Spatial Information\n",
    "3. Decoding Error."
   ]
  },
  {
   "cell_type": "code",
   "execution_count": 1,
   "id": "9a8e93ed",
   "metadata": {},
   "outputs": [
    {
     "name": "stdout",
     "output_type": "stream",
     "text": [
      "        E:\\Data\\FinalResults\\Dsp\\0862 - Test Coding Property Heterogeneity is already existed!\n",
      "(array([0, 1, 1], dtype=int64), array([1, 0, 1], dtype=int64))\n"
     ]
    }
   ],
   "source": [
    "from mylib.statistic_test import *\n",
    "from mylib.decoder.NaiveBayesianDecoder import NaiveBayesDecoder\n",
    "\n",
    "code_id = \"0862 - Test Coding Property Heterogeneity\"\n",
    "loc = join(figpath, \"Dsp\", code_id)\n",
    "mkdir(loc)\n",
    "pass\n",
    "a = np.array([[0, 1], [2, 3]])\n",
    "print(np.where(a >= 1))"
   ]
  },
  {
   "cell_type": "code",
   "execution_count": null,
   "id": "2ee78d48",
   "metadata": {},
   "outputs": [
    {
     "name": "stdout",
     "output_type": "stream",
     "text": [
      "        E:\\Data\\FinalResults\\Dsp\\0862 - Test Coding Property Heterogeneity\\Decoding Results is already existed!\n",
      "10224 S1 ---------------------------\n",
      "Iter 1\n",
      "    Generate D matrix\n",
      "    D matrix successfully generated!\n",
      "    Generating tuning curve\n",
      "    Tuning curve successfully generated!\n",
      "    Generating P matirx...\n"
     ]
    },
    {
     "name": "stderr",
     "output_type": "stream",
     "text": [
      " 11%|█▏        | 501/4366 [00:14<02:01, 31.74it/s]"
     ]
    }
   ],
   "source": [
    "decode_dir = join(loc, \"Decoding Results\")\n",
    "mkdir(decode_dir)\n",
    "\n",
    "def gnb_decoder(trace):\n",
    "    \"\"\"\n",
    "    Decode the trace using the GNB decoder.\n",
    "    \"\"\"\n",
    "    beg, end = LapSplit(trace, trace['paradigm'])\n",
    "    beg_t, end_t = trace['lap beg time'], trace['lap end time']\n",
    "    routes = classify_lap(spike_nodes_transform(trace['correct_nodes'], 12), beg)\n",
    "    \n",
    "    raw_traces = trace['RawTraces']\n",
    "    ms_time = trace['ms_time']\n",
    "    spike_nodes = trace['spike_nodes_original']\n",
    "    \n",
    "    idx = np.concatenate([\n",
    "        np.where(\n",
    "            (ms_time >= beg_t[i]) & (ms_time <= end_t[i]) & (np.isnan(spike_nodes) == False)\n",
    "        )[0] for i in np.where(routes == 0)[0]\n",
    "    ])\n",
    "    \n",
    "    converted_spikes = np.where(raw_traces - np.std(raw_traces, axis=1)[:, np.newaxis]*3 >= 0, 1, 0)\n",
    "    Spikes = converted_spikes[:, idx]\n",
    "    spike_nodes = spike_nodes[idx].astype(np.int64)\n",
    "    ms_time = ms_time[idx]\n",
    "    \n",
    "    one_fraction = int(idx.shape[0] / 5)\n",
    "    start_idx = np.arange(0, idx.shape[0]+1, one_fraction)\n",
    "    \n",
    "    mean_loss = np.zeros((5, 4))\n",
    "    D = GetDMatrices(1, 48)\n",
    "    # Validate for 5 times\n",
    "    for i in range(5):\n",
    "        print(f\"Iter {i+1}\")\n",
    "        test_idx = np.arange(start_idx[i], start_idx[i+1])\n",
    "        train_idx = np.setdiff1d(np.arange(spike_nodes.shape[0]), test_idx)\n",
    "        \n",
    "        model = NaiveBayesDecoder(maze_type=1, res=48, smooth_matrix=trace['Ms'])\n",
    "        model.fit(Spikes[:, train_idx], spike_nodes[train_idx])\n",
    "        y_pred = model.predict(Spikes_test=Spikes[:, test_idx], MazeID_test=spike_nodes[test_idx])\n",
    "        y_test = spike_nodes[test_idx]\n",
    "        \n",
    "        loss = D[(y_pred-1, y_test-1)]\n",
    "        converted_y_test = S2F[y_test-1]\n",
    "        for j, bin_range in enumerate([CP_DSP[0][:27], CP_DSP[0][27:54], CP_DSP[0][54:81], CP_DSP[3]]):\n",
    "            in_range_idx = np.where(np.isin(converted_y_test, bin_range))[0]\n",
    "            mean_loss[i, j] = np.nanmedian(loss[in_range_idx])\n",
    "            \n",
    "        print(f\"  Mean Losses Are:      {mean_loss[i, 0], mean_loss[i, 1], mean_loss[i, 2], mean_loss[i, 3]}\")\n",
    "            \n",
    "    return mean_loss\n",
    "        \n",
    "\n",
    "for j, i in enumerate(np.where(f2['MiceID'] == 10224)[0]):\n",
    "    if j < 6:\n",
    "        continue\n",
    "    print(f2['MiceID'][i], f\"S{j+1} ---------------------------\")\n",
    "    with open(f2['Trace File'][i], 'rb') as handle:\n",
    "        trace = pickle.load(handle)\n",
    "\n",
    "    mean_loss = gnb_decoder(trace)\n",
    "    \n",
    "    with open(join(decode_dir, f\"Loss_{f2['MiceID'][i]}_{i}.pkl\"), 'wb') as f:\n",
    "        pickle.dump(mean_loss, f)\n",
    "        \n",
    "    print()\n"
   ]
  },
  {
   "cell_type": "code",
   "execution_count": null,
   "id": "9d550afe",
   "metadata": {},
   "outputs": [],
   "source": []
  }
 ],
 "metadata": {
  "kernelspec": {
   "display_name": "maze",
   "language": "python",
   "name": "python3"
  },
  "language_info": {
   "codemirror_mode": {
    "name": "ipython",
    "version": 3
   },
   "file_extension": ".py",
   "mimetype": "text/x-python",
   "name": "python",
   "nbconvert_exporter": "python",
   "pygments_lexer": "ipython3",
   "version": "3.10.14"
  }
 },
 "nbformat": 4,
 "nbformat_minor": 5
}
