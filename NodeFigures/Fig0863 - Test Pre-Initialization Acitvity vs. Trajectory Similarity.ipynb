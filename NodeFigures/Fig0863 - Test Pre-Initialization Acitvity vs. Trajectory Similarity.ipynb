{
 "cells": [
  {
   "cell_type": "markdown",
   "id": "fb0f55d1",
   "metadata": {},
   "source": [
    "This Code Tries to see if `representational similarity` is correlated with `trajectory similarity`"
   ]
  },
  {
   "cell_type": "code",
   "execution_count": null,
   "id": "99caef2d",
   "metadata": {},
   "outputs": [],
   "source": []
  }
 ],
 "metadata": {
  "kernelspec": {
   "display_name": "maze",
   "language": "python",
   "name": "python3"
  },
  "language_info": {
   "name": "python",
   "version": "3.10.14"
  }
 },
 "nbformat": 4,
 "nbformat_minor": 5
}
