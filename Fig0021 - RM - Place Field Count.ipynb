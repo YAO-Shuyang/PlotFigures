{
 "cells": [
  {
   "cell_type": "code",
   "execution_count": 1,
   "id": "5677185a",
   "metadata": {},
   "outputs": [
    {
     "name": "stderr",
     "output_type": "stream",
     "text": [
      "d:\\Software\\Anaconda3\\envs\\maze\\lib\\site-packages\\tqdm\\auto.py:21: TqdmWarning: IProgress not found. Please update jupyter and ipywidgets. See https://ipywidgets.readthedocs.io/en/stable/user_install.html\n",
      "  from .autonotebook import tqdm as notebook_tqdm\n"
     ]
    },
    {
     "name": "stdout",
     "output_type": "stream",
     "text": [
      "        D:\\Data\\FinalResults\\0021 - Field Number Change is already existed!\n"
     ]
    }
   ],
   "source": [
    "from mylib.statistic_test import *\n",
    "\n",
    "code_id = '0021 - Field Number Change'\n",
    "loc = join(figpath, code_id)\n",
    "mkdir(loc)\n",
    "pass"
   ]
  },
  {
   "cell_type": "markdown",
   "id": "3f68eeb1",
   "metadata": {},
   "source": [
    "# Average Field Number Per ROI"
   ]
  },
  {
   "cell_type": "code",
   "execution_count": 7,
   "id": "9edb9a17",
   "metadata": {},
   "outputs": [
    {
     "name": "stderr",
     "output_type": "stream",
     "text": [
      " 89%|████████▉ | 485/546 [02:53<00:23,  2.58it/s]"
     ]
    },
    {
     "name": "stdout",
     "output_type": "stream",
     "text": [
      "D:\\Data\\Cross_maze\\10232\\20241004\\session 4\\trace_sim.pkl  is not exist!\n",
      "D:\\Data\\Cross_maze\\10234\\20241004\\session 1\\trace_sim.pkl  is not exist!\n"
     ]
    },
    {
     "name": "stderr",
     "output_type": "stream",
     "text": [
      "100%|██████████| 546/546 [03:15<00:00,  2.79it/s]\n"
     ]
    },
    {
     "name": "stdout",
     "output_type": "stream",
     "text": [
      "(249175,)\n",
      "  Mean: 6.651136363636364, STD: 3.6774629239684433, Max: 24.0, Min: 1.0, Median: 6.0, df: 65999\n",
      "  Mean: 6.088363901372525, STD: 3.2805888928292406, Max: 21.0, Min: 1.0, Median: 6.0, df: 32931\n"
     ]
    }
   ],
   "source": [
    "def get_field_num(trace):\n",
    "    nfield = np.zeros(trace['n_neuron'], np.int64)\n",
    "\n",
    "    for i in range(trace['n_neuron']):\n",
    "        nfield[i] = len(trace['place_field_all_multiday'][i].keys())\n",
    "\n",
    "    return nfield\n",
    "\n",
    "\"\"\"\n",
    "for i in tqdm(range(len(f1))):\n",
    "    if exists(f1['Trace File'][i]):\n",
    "        with open(f1['Trace File'][i], 'rb') as handle:\n",
    "            trace = pickle.load(handle)\n",
    "\n",
    "        nfield = get_field_num(trace)\n",
    "        trace['place_field_num'] = nfield\n",
    "\n",
    "        with open(f1['Trace File'][i], 'wb') as handle:\n",
    "            pickle.dump(trace, handle)\n",
    "\"\"\"\n",
    "file_idx = np.where(np.isin(f1['MiceID'], [10209, 10212, 10224, 10227, 10232, 10234]) & (f1['Stage'] != 'PRE'))[0]\n",
    "if os.path.exists(os.path.join(figdata, f'{code_id}.pkl')) == False:\n",
    "    Data = DataFrameEstablish(variable_names = ['Cell','Field Number'], f = f1, function = PlaceFieldNumber_Interface, \n",
    "                              func_kwgs={'is_placecell':True},  file_idx = file_idx,\n",
    "                              file_name = code_id, behavior_paradigm = 'CrossMaze')   \n",
    "else:\n",
    "    with open(os.path.join(figdata, code_id+'.pkl'), 'rb') as handle:\n",
    "        Data = pickle.load(handle)\n",
    "\n",
    "# Average Field Number Per ROI\n",
    "print_estimator(Data['Field Number'][Data['Maze Type'] == 'Maze 1'])\n",
    "print_estimator(Data['Field Number'][Data['Maze Type'] == 'Maze 2'])"
   ]
  },
  {
   "cell_type": "markdown",
   "id": "c58aabc9",
   "metadata": {},
   "source": [
    "# Total Field Number Per Session"
   ]
  },
  {
   "cell_type": "code",
   "execution_count": 8,
   "id": "fe3ce601",
   "metadata": {},
   "outputs": [
    {
     "name": "stderr",
     "output_type": "stream",
     "text": [
      "100%|██████████| 728/728 [02:20<00:00,  5.19it/s]  "
     ]
    },
    {
     "name": "stdout",
     "output_type": "stream",
     "text": [
      "542\n",
      "  Mean: 2761.0451612903225, STD: 1015.3342392115497, Max: 5604, Min: 672, Median: 2602.0, df: 154\n",
      "  Mean: 2144.291989664083, STD: 1013.7595900771062, Max: 4456, Min: 254, Median: 2056.0, df: 386\n"
     ]
    },
    {
     "name": "stderr",
     "output_type": "stream",
     "text": [
      "\n"
     ]
    }
   ],
   "source": [
    "if exists(join(figdata, f\"{code_id} [Total].pkl\")) == False:\n",
    "    TotalNField = {\n",
    "        \"MiceID\": [],\n",
    "        \"Total Field Number\": [],\n",
    "        \"Maze Type\": [],\n",
    "        \"Stage\": [],\n",
    "        \"Training Day\": []\n",
    "    }\n",
    "    \n",
    "    for i in tqdm(range(len(f1))):\n",
    "        mouse = int(f1['MiceID'][i])\n",
    "        if mouse not in [10209, 10212, 10224, 10227, 10232, 10234] or f1['include'][i] == 0 or f1['Stage'][i] == 'PRE':\n",
    "            continue\n",
    "        \n",
    "        \n",
    "        maze = 'Maze A' if f1['maze_type'][i] == 1 else 'Maze B'\n",
    "        stage = f1['Stage'][i]\n",
    "        training_day = f1['training_day'][i]\n",
    "        \n",
    "        if exists(f1['Trace File'][i]) == False:\n",
    "            continue\n",
    "        \n",
    "        with open(f1['Trace File'][i], 'rb') as handle:\n",
    "            trace = pickle.load(handle)\n",
    "            \n",
    "        n_field = np.sum(trace['place_field_num'][trace['is_placecell'] == 1])\n",
    "        \n",
    "        TotalNField['MiceID'].append(mouse)\n",
    "        TotalNField['Maze Type'].append(maze)\n",
    "        TotalNField['Stage'].append(stage)\n",
    "        TotalNField['Total Field Number'].append(n_field)\n",
    "        TotalNField['Training Day'].append(training_day)\n",
    "        \n",
    "    for k in TotalNField.keys():\n",
    "        TotalNField[k] = np.array(TotalNField[k])\n",
    "        \n",
    "    with open(join(figdata, f\"{code_id} [Total].pkl\"), 'wb') as handle:\n",
    "        pickle.dump(TotalNField, handle)\n",
    "        \n",
    "    TotalNFieldD = pd.DataFrame(TotalNField)\n",
    "    TotalNFieldD.to_excel(join(figdata, f\"{code_id} [Total].xlsx\"), index=False)\n",
    "    print(len(TotalNFieldD))\n",
    "else:\n",
    "    with open(join(figdata, f\"{code_id} [Total].pkl\"), 'rb') as handle:\n",
    "        TotalNField = pickle.load(handle)\n",
    "        \n",
    "print_estimator(TotalNField['Total Field Number'][TotalNField['Maze Type'] == 'Maze A'])\n",
    "print_estimator(TotalNField['Total Field Number'][TotalNField['Maze Type'] == 'Maze B'])"
   ]
  }
 ],
 "metadata": {
  "kernelspec": {
   "display_name": "maze",
   "language": "python",
   "name": "python3"
  },
  "language_info": {
   "codemirror_mode": {
    "name": "ipython",
    "version": 3
   },
   "file_extension": ".py",
   "mimetype": "text/x-python",
   "name": "python",
   "nbconvert_exporter": "python",
   "pygments_lexer": "ipython3",
   "version": "3.10.18"
  }
 },
 "nbformat": 4,
 "nbformat_minor": 5
}
