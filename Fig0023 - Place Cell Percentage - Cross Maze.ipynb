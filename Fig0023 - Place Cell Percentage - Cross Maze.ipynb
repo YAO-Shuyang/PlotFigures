{
 "cells": [
  {
   "cell_type": "code",
   "execution_count": 1,
   "id": "e16fded1",
   "metadata": {},
   "outputs": [
    {
     "name": "stdout",
     "output_type": "stream",
     "text": [
      "        E:\\Data\\FinalResults\\0023 - Place cell percentage is already existed!\n"
     ]
    }
   ],
   "source": [
    "from mylib.statistic_test import *\n",
    "\n",
    "code_id = '0023 - Place cell percentage'\n",
    "loc = os.path.join(figpath, code_id)\n",
    "mkdir(loc)\n",
    "pass"
   ]
  },
  {
   "cell_type": "code",
   "execution_count": null,
   "id": "b51108fa",
   "metadata": {},
   "outputs": [
    {
     "name": "stdout",
     "output_type": "stream",
     "text": [
      "10209 Stage 1 Day 1\n",
      "10209 Stage 1 Day 2\n",
      "10209 Stage 1 Day 3\n",
      "10209 Stage 1 Day 4\n",
      "10209 Stage 1 Day 5\n",
      "10209 Stage 1 Day 6\n",
      "10209 Stage 1 Day 7\n",
      "10209 Stage 1 Day 8\n",
      "10209 Stage 1 Day 9\n",
      "10209 Stage 1 Day 10\n",
      "10209 Stage 1 Day 11\n",
      "10209 Stage 1 Day 12\n",
      "10209 Stage 1 Day 13\n",
      "10209 Stage 2 Day 1\n",
      "10209 Stage 2 Day 2\n",
      "10209 Stage 2 Day 3\n",
      "10209 Stage 2 Day 4\n",
      "10209 Stage 2 Day 5\n",
      "10209 Stage 2 Day 6\n",
      "10209 Stage 2 Day 7\n",
      "10209 Stage 2 Day 8\n",
      "10209 Stage 2 Day 9\n",
      "10209 Stage 2 Day 10\n",
      "10209 Stage 2 Day 11\n",
      "10209 Stage 2 Day 12\n",
      "10209 Stage 2 Day 13\n",
      "10212 Stage 1 Day 1\n",
      "10212 Stage 1 Day 2\n",
      "10212 Stage 1 Day 3\n",
      "10212 Stage 1 Day 4\n",
      "10212 Stage 1 Day 5\n",
      "10212 Stage 1 Day 6\n"
     ]
    },
    {
     "ename": "KeyError",
     "evalue": "'LA'",
     "output_type": "error",
     "traceback": [
      "\u001b[1;31m---------------------------------------------------------------------------\u001b[0m",
      "\u001b[1;31mKeyError\u001b[0m                                  Traceback (most recent call last)",
      "Cell \u001b[1;32mIn[2], line 35\u001b[0m\n\u001b[0;32m     32\u001b[0m \u001b[38;5;28;01mwith\u001b[39;00m \u001b[38;5;28mopen\u001b[39m(join(f1[\u001b[38;5;124m'\u001b[39m\u001b[38;5;124mTrace File\u001b[39m\u001b[38;5;124m'\u001b[39m][idx[\u001b[38;5;241m1\u001b[39m]]), \u001b[38;5;124m'\u001b[39m\u001b[38;5;124mrb\u001b[39m\u001b[38;5;124m'\u001b[39m) \u001b[38;5;28;01mas\u001b[39;00m handle:\n\u001b[0;32m     33\u001b[0m     trace_m1 \u001b[38;5;241m=\u001b[39m pickle\u001b[38;5;241m.\u001b[39mload(handle)\n\u001b[1;32m---> 35\u001b[0m percentage_m1 \u001b[38;5;241m=\u001b[39m np\u001b[38;5;241m.\u001b[39mmean(\u001b[43mtrace_m1\u001b[49m\u001b[43m[\u001b[49m\u001b[38;5;124;43m'\u001b[39;49m\u001b[38;5;124;43mLA\u001b[39;49m\u001b[38;5;124;43m'\u001b[39;49m\u001b[43m]\u001b[49m[\u001b[38;5;124m'\u001b[39m\u001b[38;5;124mis_placecell\u001b[39m\u001b[38;5;124m'\u001b[39m])\n\u001b[0;32m     37\u001b[0m \u001b[38;5;28;01mif\u001b[39;00m stage \u001b[38;5;241m==\u001b[39m \u001b[38;5;124m'\u001b[39m\u001b[38;5;124mStage 1\u001b[39m\u001b[38;5;124m'\u001b[39m:\n\u001b[0;32m     38\u001b[0m     \u001b[38;5;28;01massert\u001b[39;00m \u001b[38;5;28mlen\u001b[39m(idx) \u001b[38;5;241m==\u001b[39m \u001b[38;5;241m3\u001b[39m\n",
      "\u001b[1;31mKeyError\u001b[0m: 'LA'"
     ]
    }
   ],
   "source": [
    "if os.path.exists(os.path.join(figdata, code_id+' .pkl')) == False:\n",
    "    Data = {\n",
    "        \"MiceID\": [],\n",
    "        \"Training Day\": [],\n",
    "        \"Percentage\": [],\n",
    "        \"Maze Type\": [],\n",
    "        \"Stage\": []\n",
    "    }\n",
    "    \n",
    "    mazes = ['Open Field', '']\n",
    "    for mouse in [10209, 10212, 10224, 10226, 10228, 10232, 10234]:\n",
    "        for stage in ['Stage 1', 'Stage 2']:\n",
    "            for training_day in [f\"Day {j}\" for j in range(1, 14)]:\n",
    "                print(f\"{mouse} {stage} {training_day}\")\n",
    "                idx = np.where(\n",
    "                    (f1['MiceID'] == mouse) & \n",
    "                    (f1['training_day'] == training_day) & \n",
    "                    (f1['Stage'] == stage)\n",
    "                )[0]\n",
    "                if np.sum(f1['include'][idx]) < idx.shape[0]:\n",
    "                    continue\n",
    "                \n",
    "                # Average the first and last open field session.\n",
    "                with open(join(f1['Trace File'][idx[0]]), 'rb') as handle:\n",
    "                    trace_op1 = pickle.load(handle)\n",
    "                \n",
    "                with open(join(f1['Trace File'][idx[-1]]), 'rb') as handle:\n",
    "                    trace_op2 = pickle.load(handle)\n",
    "                    \n",
    "                percentage_op = (np.mean(trace_op1['is_placecell']) + np.mean(trace_op2['is_placecell']))/2\n",
    "                del trace_op1, trace_op2\n",
    "                \n",
    "                with open(join(f1['Trace File'][idx[1]]), 'rb') as handle:\n",
    "                    trace_m1 = pickle.load(handle)\n",
    "                \n",
    "                percentage_m1 = np.mean(trace_m1['LA']['is_placecell'])\n",
    "                    \n",
    "                if stage == 'Stage 1':\n",
    "                    assert len(idx) == 3\n",
    "                    Data['MiceID'].append(np.repeat(mouse, 2))\n",
    "                    Data['Training Day'].append(np.repeat(training_day, 2))\n",
    "                    Data['Percentage'].append([percentage_op, percentage_m1])\n",
    "                    Data['Maze Type'].append(['Open Field', 'Maze A'])\n",
    "                    Data['Stage'].append(np.repeat(stage, 2))                    \n",
    "                    \n",
    "                elif stage == 'Stage 2':\n",
    "                    assert len(idx) == 4                \n",
    "                    with open(join(f1['Trace File'][idx[2]]), 'rb') as handle:\n",
    "                        trace_m2 = pickle.load(handle)  \n",
    "                    percentage_m2 = np.mean(trace_m2['LA']['is_placecell'])  \n",
    "                    \n",
    "                    Data['MiceID'].append(np.repeat(mouse, 3))\n",
    "                    Data['Training Day'].append(np.repeat(training_day, 3))\n",
    "                    Data['Percentage'].append([percentage_op, percentage_m1, percentage_m2])\n",
    "                    Data['Maze Type'].append(['Open Field', 'Maze A', 'Maze B'])\n",
    "                    Data['Stage'].append(np.repeat(stage, 3))\n",
    "                    \n",
    "    for k in Data.keys():\n",
    "        Data[k] = np.concatenate(Data[k])\n",
    "        \n",
    "    D = pd.DataFrame(Data)\n",
    "    D.to_excel(os.path.join(figdata, code_id + '.xlsx'), index=False)\n",
    "    print(len(D))\n",
    "else:\n",
    "    with open(os.path.join(figdata, code_id + '.pkl'), 'rb') as handle:\n",
    "        Data = pickle.load(handle)"
   ]
  }
 ],
 "metadata": {
  "kernelspec": {
   "display_name": "maze",
   "language": "python",
   "name": "python3"
  },
  "language_info": {
   "codemirror_mode": {
    "name": "ipython",
    "version": 3
   },
   "file_extension": ".py",
   "mimetype": "text/x-python",
   "name": "python",
   "nbconvert_exporter": "python",
   "pygments_lexer": "ipython3",
   "version": "3.10.14"
  }
 },
 "nbformat": 4,
 "nbformat_minor": 5
}
