{
 "cells": [
  {
   "cell_type": "code",
   "execution_count": 2,
   "id": "e16fded1",
   "metadata": {},
   "outputs": [
    {
     "name": "stderr",
     "output_type": "stream",
     "text": [
      "d:\\SoftwareData\\Anaconda\\envs\\maze\\lib\\site-packages\\tqdm\\auto.py:21: TqdmWarning: IProgress not found. Please update jupyter and ipywidgets. See https://ipywidgets.readthedocs.io/en/stable/user_install.html\n",
      "  from .autonotebook import tqdm as notebook_tqdm\n"
     ]
    },
    {
     "name": "stdout",
     "output_type": "stream",
     "text": [
      "        D:\\Data\\FinalResults\\0023 - Place cell percentage is already existed!\n"
     ]
    }
   ],
   "source": [
    "from mylib.statistic_test import *\n",
    "\n",
    "code_id = '0023 - Place cell percentage'\n",
    "loc = os.path.join(figpath, code_id)\n",
    "mkdir(loc)\n",
    "pass"
   ]
  },
  {
   "cell_type": "code",
   "execution_count": 3,
   "id": "b51108fa",
   "metadata": {},
   "outputs": [
    {
     "name": "stdout",
     "output_type": "stream",
     "text": [
      "10209 Stage 1\n"
     ]
    },
    {
     "name": "stderr",
     "output_type": "stream",
     "text": [
      "100%|██████████| 13/13 [00:05<00:00,  2.45it/s]\n"
     ]
    },
    {
     "name": "stdout",
     "output_type": "stream",
     "text": [
      "10209 Stage 2\n"
     ]
    },
    {
     "name": "stderr",
     "output_type": "stream",
     "text": [
      "100%|██████████| 13/13 [00:06<00:00,  1.89it/s]\n"
     ]
    },
    {
     "name": "stdout",
     "output_type": "stream",
     "text": [
      "10212 Stage 1\n"
     ]
    },
    {
     "name": "stderr",
     "output_type": "stream",
     "text": [
      "100%|██████████| 13/13 [00:05<00:00,  2.32it/s]\n"
     ]
    },
    {
     "name": "stdout",
     "output_type": "stream",
     "text": [
      "10212 Stage 2\n"
     ]
    },
    {
     "name": "stderr",
     "output_type": "stream",
     "text": [
      "100%|██████████| 13/13 [00:10<00:00,  1.30it/s]\n"
     ]
    },
    {
     "name": "stdout",
     "output_type": "stream",
     "text": [
      "10224 Stage 1\n"
     ]
    },
    {
     "name": "stderr",
     "output_type": "stream",
     "text": [
      "100%|██████████| 13/13 [00:10<00:00,  1.28it/s]\n"
     ]
    },
    {
     "name": "stdout",
     "output_type": "stream",
     "text": [
      "10224 Stage 2\n"
     ]
    },
    {
     "name": "stderr",
     "output_type": "stream",
     "text": [
      "100%|██████████| 13/13 [00:11<00:00,  1.09it/s]\n"
     ]
    },
    {
     "name": "stdout",
     "output_type": "stream",
     "text": [
      "10227 Stage 1\n"
     ]
    },
    {
     "name": "stderr",
     "output_type": "stream",
     "text": [
      "100%|██████████| 13/13 [00:15<00:00,  1.16s/it]\n"
     ]
    },
    {
     "name": "stdout",
     "output_type": "stream",
     "text": [
      "10227 Stage 2\n"
     ]
    },
    {
     "name": "stderr",
     "output_type": "stream",
     "text": [
      "100%|██████████| 13/13 [00:17<00:00,  1.38s/it]\n"
     ]
    },
    {
     "name": "stdout",
     "output_type": "stream",
     "text": [
      "10232 Stage 1\n"
     ]
    },
    {
     "name": "stderr",
     "output_type": "stream",
     "text": [
      "100%|██████████| 13/13 [00:11<00:00,  1.17it/s]\n"
     ]
    },
    {
     "name": "stdout",
     "output_type": "stream",
     "text": [
      "10232 Stage 2\n"
     ]
    },
    {
     "name": "stderr",
     "output_type": "stream",
     "text": [
      "100%|██████████| 13/13 [00:14<00:00,  1.09s/it]\n"
     ]
    },
    {
     "name": "stdout",
     "output_type": "stream",
     "text": [
      "10234 Stage 1\n"
     ]
    },
    {
     "name": "stderr",
     "output_type": "stream",
     "text": [
      "100%|██████████| 13/13 [00:12<00:00,  1.02it/s]\n"
     ]
    },
    {
     "name": "stdout",
     "output_type": "stream",
     "text": [
      "10234 Stage 2\n"
     ]
    },
    {
     "name": "stderr",
     "output_type": "stream",
     "text": [
      "100%|██████████| 13/13 [00:12<00:00,  1.01it/s]"
     ]
    },
    {
     "name": "stdout",
     "output_type": "stream",
     "text": [
      "386\n"
     ]
    },
    {
     "name": "stderr",
     "output_type": "stream",
     "text": [
      "\n"
     ]
    }
   ],
   "source": [
    "if os.path.exists(os.path.join(figdata, f'{code_id}.pkl')) == False:\n",
    "    Data = {\n",
    "        \"MiceID\": [],\n",
    "        \"Training Day\": [],\n",
    "        \"Percentage\": [],\n",
    "        \"Maze Type\": [],\n",
    "        \"Stage\": []\n",
    "    }\n",
    "    \n",
    "    for mouse in [10209, 10212, 10224, 10227, 10232, 10234]:\n",
    "        for i, stage in enumerate(['Stage 1', 'Stage 2']):\n",
    "            print(f\"{mouse} {stage}\")\n",
    "            for training_day in tqdm([f\"Day {j}\" for j in range(1, 14)]):\n",
    "                idx = np.where(\n",
    "                    (f1['MiceID'] == mouse) & \n",
    "                    (f1['training_day'] == training_day) & \n",
    "                    (f1['Stage'] == stage)\n",
    "                )[0]\n",
    "                if np.sum(f1['include'][idx]) < idx.shape[0]:\n",
    "                    continue\n",
    "                \n",
    "                # Two Sessions of Open Field are not run\n",
    "                if mouse == 10232 and stage == 'Stage 2' and training_day == 'Day 6':\n",
    "                    # Mouse 10232, 20241004 Session 4 is missed.\n",
    "                    with open(join(f1['Trace File'][idx[0]]), 'rb') as handle:\n",
    "                        trace_op1 = pickle.load(handle)\n",
    "                    percentage_op = np.mean(trace_op1['is_placecell'])\n",
    "                    del trace_op1\n",
    "                elif mouse == 10234 and stage == 'Stage 2' and training_day == 'Day 6': \n",
    "                    with open(join(f1['Trace File'][idx[-1]]), 'rb') as handle:\n",
    "                        trace_op2 = pickle.load(handle)                     \n",
    "                    percentage_op = np.mean(trace_op2['is_placecell'])\n",
    "                    del trace_op2\n",
    "                else:\n",
    "                    with open(join(f1['Trace File'][idx[0]]), 'rb') as handle:\n",
    "                        trace_op1 = pickle.load(handle)\n",
    "                    with open(join(f1['Trace File'][idx[1]]), 'rb') as handle:\n",
    "                        trace_op2 = pickle.load(handle)\n",
    "                    percentage_op = (np.mean(trace_op1['is_placecell']) + np.mean(trace_op2['is_placecell']))/2\n",
    "                    \n",
    "                    del trace_op1, trace_op2\n",
    "                    \n",
    "                with open(join(f1['Trace File'][idx[1]]), 'rb') as handle:\n",
    "                    trace_m1 = pickle.load(handle)\n",
    "                    \n",
    "                percentage_m1 = np.mean(trace_m1['is_placecell'])\n",
    "                \n",
    "                    \n",
    "                if stage == 'Stage 1':\n",
    "                    assert len(idx) == 3\n",
    "                    Data['MiceID'].append(np.repeat(mouse, 2))\n",
    "                    Data['Training Day'].append(np.repeat(training_day, 2))\n",
    "                    Data['Percentage'].append([percentage_op, percentage_m1])\n",
    "                    Data['Maze Type'].append(['Open Field', 'Maze A'])\n",
    "                    Data['Stage'].append(np.repeat(stage, 2))                    \n",
    "                    \n",
    "                elif stage == 'Stage 2':\n",
    "                    assert len(idx) == 4                \n",
    "                    with open(join(f1['Trace File'][idx[2]]), 'rb') as handle:\n",
    "                        trace_m2 = pickle.load(handle)  \n",
    "                    percentage_m2 = np.mean(trace_m2['is_placecell'])  \n",
    "                    \n",
    "                    Data['MiceID'].append(np.repeat(mouse, 3))\n",
    "                    Data['Training Day'].append(np.repeat(training_day, 3))\n",
    "                    Data['Percentage'].append([percentage_op, percentage_m1, percentage_m2])\n",
    "                    Data['Maze Type'].append(['Open Field', 'Maze A', 'Maze B'])\n",
    "                    Data['Stage'].append(np.repeat(stage, 3))\n",
    "                    \n",
    "    for k in Data.keys():\n",
    "        Data[k] = np.concatenate(Data[k])\n",
    "    \n",
    "    with open(join(figdata, f'{code_id}.pkl'), 'wb') as handle:\n",
    "        pickle.dump(Data, handle)\n",
    "    \n",
    "    D = pd.DataFrame(Data)\n",
    "    D.to_excel(os.path.join(figdata, code_id + '.xlsx'), index=False)\n",
    "    print(len(D))\n",
    "else:\n",
    "    with open(os.path.join(figdata, code_id + '.pkl'), 'rb') as handle:\n",
    "        Data = pickle.load(handle)"
   ]
  },
  {
   "cell_type": "code",
   "execution_count": 8,
   "id": "0f8000af",
   "metadata": {},
   "outputs": [
    {
     "data": {
      "image/png": "[encoded data removed]",
      "text/plain": [
       "<Figure size 800x200 with 2 Axes>"
      ]
     },
     "metadata": {},
     "output_type": "display_data"
    }
   ],
   "source": [
    "fig, axes = plt.subplots(ncols=2, nrows=1, figsize=(8, 2))\n",
    "ax0 = Clear_Axes(axes[0], close_spines=['top', 'right'], ifxticks=True, ifyticks=True)\n",
    "ax1 = Clear_Axes(axes[1], close_spines=['top', 'right'], ifxticks=True, ifyticks=True)\n",
    "SubData1 = SubDict(Data, Data.keys(), np.where(Data['Stage'] == 'Stage 1')[0])\n",
    "sns.lineplot(\n",
    "    x='Training Day',\n",
    "    y='Percentage',\n",
    "    hue='Maze Type',\n",
    "    palette=MazePalette[:2],\n",
    "    data=SubData1,\n",
    "    linewidth=0.5,\n",
    "    err_style='bars',\n",
    "    err_kws={'capsize': 3, 'elinewidth': 0.5},\n",
    "    ax=ax0\n",
    ")\n",
    "SubData2 = SubDict(Data, Data.keys(), np.where(Data['Stage'] == 'Stage 2')[0])\n",
    "sns.lineplot(\n",
    "    x='Training Day',\n",
    "    y='Percentage',\n",
    "    hue='Maze Type',\n",
    "    data=SubData2,\n",
    "    palette=MazePalette,\n",
    "    linewidth=0.5,\n",
    "    err_style='bars',\n",
    "    err_kws={'capsize': 3, 'elinewidth': 0.5, 'capthick': 0.5},\n",
    "    ax=ax1\n",
    ")\n",
    "ax0.set_ylim(0, 1)\n",
    "ax1.set_ylim(0, 1)\n",
    "plt.savefig(join(loc, \"Place Cell Proportion.png\"), dpi=600)\n",
    "plt.savefig(join(loc, \"Place Cell Proportion.svg\"), dpi=600)\n",
    "plt.show()"
   ]
  }
 ],
 "metadata": {
  "kernelspec": {
   "display_name": "maze",
   "language": "python",
   "name": "python3"
  },
  "language_info": {
   "codemirror_mode": {
    "name": "ipython",
    "version": 3
   },
   "file_extension": ".py",
   "mimetype": "text/x-python",
   "name": "python",
   "nbconvert_exporter": "python",
   "pygments_lexer": "ipython3",
   "version": "3.10.18"
  }
 },
 "nbformat": 4,
 "nbformat_minor": 5
}
