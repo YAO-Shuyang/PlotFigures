{
 "cells": [
  {
   "cell_type": "code",
   "execution_count": 1,
   "id": "d1e0f0a2",
   "metadata": {},
   "outputs": [
    {
     "name": "stderr",
     "output_type": "stream",
     "text": [
      "d:\\SoftwareData\\Anaconda\\envs\\maze\\lib\\site-packages\\tqdm\\auto.py:21: TqdmWarning: IProgress not found. Please update jupyter and ipywidgets. See https://ipywidgets.readthedocs.io/en/stable/user_install.html\n",
      "  from .autonotebook import tqdm as notebook_tqdm\n"
     ]
    },
    {
     "name": "stdout",
     "output_type": "stream",
     "text": [
      "        D:\\Data\\FinalResults\\0031 - Cross-Session Decoding is already existed!\n"
     ]
    },
    {
     "data": {
      "text/plain": [
       "False"
      ]
     },
     "execution_count": 1,
     "metadata": {},
     "output_type": "execute_result"
    }
   ],
   "source": [
    "from mylib.statistic_test import *\n",
    "from mylib.decoder import NaiveBayesianDecoder\n",
    "\n",
    "code_id = '0031 - Cross-Session Decoding'\n",
    "loc = join(figpath, code_id)\n",
    "mkdir(loc)"
   ]
  },
  {
   "cell_type": "code",
   "execution_count": null,
   "id": "0192ff22",
   "metadata": {},
   "outputs": [
    {
     "name": "stdout",
     "output_type": "stream",
     "text": [
      "21\n",
      "19\n",
      "28\n",
      "37\n",
      "47\n",
      "32\n",
      "21\n",
      "32\n",
      "39\n",
      "65\n",
      "38\n",
      "41\n",
      "20\n",
      "24\n",
      "40\n",
      "56\n",
      "112\n",
      "275\n",
      "46\n",
      "50\n",
      "29\n",
      "286\n"
     ]
    },
    {
     "name": "stderr",
     "output_type": "stream",
     "text": [
      "C:\\Users\\12454\\AppData\\Local\\Temp\\ipykernel_21856\\1996543091.py:42: RuntimeWarning: invalid value encountered in cast\n",
      "  index_map = pickle.load(handle).astype(np.int64)\n"
     ]
    }
   ],
   "source": [
    "def search_min_n_neurons(\n",
    "    index_map: np.ndarray,\n",
    "    max_len: int = 10\n",
    "):\n",
    "    is_cell = np.where(index_map > 0, 1, 0)\n",
    "    min_len = min(max_len, is_cell.shape[0])\n",
    "    idx = np.where(np.sum(is_cell, axis=0) == min_len)[0]\n",
    "        \n",
    "    return idx.shape[0]\n",
    "    \n",
    "\n",
    "def cross_session_decoding(\n",
    "    i: int,\n",
    "    f: pd.DataFrame = f_CellReg_modi\n",
    "):\n",
    "    maze_type = f['maze_type'][i]\n",
    "    mouse = f['MiceID'][i]\n",
    "    \n",
    "    if f['paradigm'][i] == 'CrossMaze':\n",
    "        f_file = f1\n",
    "    elif f['paradigm'][i] == 'ReverseMaze':\n",
    "        f_file = f3\n",
    "    elif f['paradigm'][i] == 'HairpinMaze':\n",
    "        f_file = f4\n",
    "    else:\n",
    "        raise ValueError(f\"Unknown paradigm: {f['paradigm'][i]}\")\n",
    "    \n",
    "    file_idx = np.where(\n",
    "        (f_file['MiceID'] == mouse) &\n",
    "        (f_file['maze_type'] == maze_type) &\n",
    "        (f_file['Stage'] != 'PRE') &\n",
    "        (f_file['include'] == 1)\n",
    "    )[0]\n",
    "    \n",
    "    if mouse in [10209] and maze_type == 1 and f['paradigm'][i] == 'CrossMaze':\n",
    "        file_idx = file_idx[:13] if f['Stage'][i] == 'Stage 1' else file_idx[13:]\n",
    "    elif mouse in [10212] and maze_type == 1 and f['paradigm'][i] == 'CrossMaze':\n",
    "        file_idx = file_idx[:12] if f['Stage'][i] == 'Stage 1' else file_idx[12:]\n",
    "        \n",
    "    if f['File Type'][i] == 'PKL':\n",
    "        with open(f['cellreg_folder'][i], 'rb') as handle:\n",
    "            index_map = pickle.load(handle).astype(np.int64)\n",
    "    else:\n",
    "        index_map = ReadCellReg(f['cellreg_folder'][i])\n",
    "        \n",
    "    n_neuron = search_min_n_neurons(index_map)\n",
    "    min_len = min(10, index_map.shape[0])\n",
    "    \n",
    "    loss = np.zeros((index_map.shape[0]-1, min_len-1))\n",
    "    \n",
    "    traces = []\n",
    "    for j in tqdm(file_idx):\n",
    "        with open(f_file['Trace File'][j], 'rb') as handle:\n",
    "            trace = pickle.load(handle)\n",
    "        \n",
    "        traces.append(trace)\n",
    "        \n",
    "    is_cell = np.where(index_map > 0, 1, 0).astype(np.int64)\n",
    "    \n",
    "    for i in range(index_map.shape[0]-1):\n",
    "        for j in range(min_len-1):\n",
    "            cell_idx\n",
    "    \n",
    "        \n",
    "    \n",
    "\n",
    "for i in range(len(f_CellReg_modi)):\n",
    "    cross_session_decoding(i, f_CellReg_modi)\n",
    "    "
   ]
  },
  {
   "cell_type": "code",
   "execution_count": null,
   "id": "d712634b",
   "metadata": {},
   "outputs": [],
   "source": []
  }
 ],
 "metadata": {
  "kernelspec": {
   "display_name": "maze",
   "language": "python",
   "name": "python3"
  },
  "language_info": {
   "codemirror_mode": {
    "name": "ipython",
    "version": 3
   },
   "file_extension": ".py",
   "mimetype": "text/x-python",
   "name": "python",
   "nbconvert_exporter": "python",
   "pygments_lexer": "ipython3",
   "version": "3.10.18"
  }
 },
 "nbformat": 4,
 "nbformat_minor": 5
}
